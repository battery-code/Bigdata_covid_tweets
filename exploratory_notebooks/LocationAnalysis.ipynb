{
 "cells": [
  {
   "cell_type": "code",
   "execution_count": 6,
   "id": "e2d6eb5e-e1cc-4464-8c7a-48875b205ef6",
   "metadata": {
    "collapsed": true,
    "jupyter": {
     "outputs_hidden": true
    },
    "tags": []
   },
   "outputs": [
    {
     "name": "stdout",
     "output_type": "stream",
     "text": [
      "Collecting locationtagger\n",
      "  Downloading locationtagger-0.0.1-py3-none-any.whl (1.6 MB)\n",
      "     |████████████████████████████████| 1.6 MB 5.3 MB/s            \n",
      "\u001b[?25hCollecting newspaper3k\n",
      "  Downloading newspaper3k-0.2.8-py3-none-any.whl (211 kB)\n",
      "     |████████████████████████████████| 211 kB 69.1 MB/s            \n",
      "\u001b[?25hRequirement already satisfied: nltk in /opt/conda/miniconda3/lib/python3.8/site-packages (from locationtagger) (3.6.4)\n",
      "Collecting spacy\n",
      "  Downloading spacy-3.2.3-cp38-cp38-manylinux_2_17_x86_64.manylinux2014_x86_64.whl (6.2 MB)\n",
      "     |████████████████████████████████| 6.2 MB 36.9 MB/s            \n",
      "\u001b[?25hCollecting pycountry\n",
      "  Downloading pycountry-22.3.5.tar.gz (10.1 MB)\n",
      "     |████████████████████████████████| 10.1 MB 51.5 MB/s            \n",
      "\u001b[?25h  Installing build dependencies ... \u001b[?25ldone\n",
      "\u001b[?25h  Getting requirements to build wheel ... \u001b[?25ldone\n",
      "\u001b[?25h  Preparing metadata (pyproject.toml) ... \u001b[?25ldone\n",
      "\u001b[?25hCollecting tldextract>=2.0.1\n",
      "  Downloading tldextract-3.2.0-py3-none-any.whl (87 kB)\n",
      "     |████████████████████████████████| 87 kB 7.1 MB/s             \n",
      "\u001b[?25hCollecting tinysegmenter==0.3\n",
      "  Downloading tinysegmenter-0.3.tar.gz (16 kB)\n",
      "  Preparing metadata (setup.py) ... \u001b[?25ldone\n",
      "\u001b[?25hRequirement already satisfied: requests>=2.10.0 in /opt/conda/miniconda3/lib/python3.8/site-packages (from newspaper3k->locationtagger) (2.25.1)\n",
      "Requirement already satisfied: PyYAML>=3.11 in /opt/conda/miniconda3/lib/python3.8/site-packages (from newspaper3k->locationtagger) (6.0)\n",
      "Collecting cssselect>=0.9.2\n",
      "  Downloading cssselect-1.1.0-py2.py3-none-any.whl (16 kB)\n",
      "Collecting feedparser>=5.2.1\n",
      "  Downloading feedparser-6.0.8-py3-none-any.whl (81 kB)\n",
      "     |████████████████████████████████| 81 kB 11.4 MB/s            \n",
      "\u001b[?25hRequirement already satisfied: lxml>=3.6.0 in /opt/conda/miniconda3/lib/python3.8/site-packages (from newspaper3k->locationtagger) (4.7.1)\n",
      "Requirement already satisfied: beautifulsoup4>=4.4.1 in /opt/conda/miniconda3/lib/python3.8/site-packages (from newspaper3k->locationtagger) (4.10.0)\n",
      "Collecting jieba3k>=0.35.1\n",
      "  Downloading jieba3k-0.35.1.zip (7.4 MB)\n",
      "     |████████████████████████████████| 7.4 MB 66.9 MB/s            \n",
      "\u001b[?25h  Preparing metadata (setup.py) ... \u001b[?25ldone\n",
      "\u001b[?25hRequirement already satisfied: Pillow>=3.3.0 in /opt/conda/miniconda3/lib/python3.8/site-packages (from newspaper3k->locationtagger) (8.4.0)\n",
      "Requirement already satisfied: python-dateutil>=2.5.3 in /opt/conda/miniconda3/lib/python3.8/site-packages (from newspaper3k->locationtagger) (2.8.0)\n",
      "Collecting feedfinder2>=0.0.4\n",
      "  Downloading feedfinder2-0.0.4.tar.gz (3.3 kB)\n",
      "  Preparing metadata (setup.py) ... \u001b[?25ldone\n",
      "\u001b[?25hRequirement already satisfied: tqdm in /opt/conda/miniconda3/lib/python3.8/site-packages (from nltk->locationtagger) (4.62.3)\n",
      "Requirement already satisfied: joblib in /opt/conda/miniconda3/lib/python3.8/site-packages (from nltk->locationtagger) (1.1.0)\n",
      "Requirement already satisfied: click in /opt/conda/miniconda3/lib/python3.8/site-packages (from nltk->locationtagger) (7.1.2)\n",
      "Requirement already satisfied: regex in /opt/conda/miniconda3/lib/python3.8/site-packages (from nltk->locationtagger) (2021.4.4)\n",
      "Requirement already satisfied: setuptools in /opt/conda/miniconda3/lib/python3.8/site-packages (from pycountry->locationtagger) (59.8.0)\n",
      "Collecting thinc<8.1.0,>=8.0.12\n",
      "  Downloading thinc-8.0.15-cp38-cp38-manylinux_2_17_x86_64.manylinux2014_x86_64.whl (663 kB)\n",
      "     |████████████████████████████████| 663 kB 66.6 MB/s            \n",
      "\u001b[?25hCollecting cymem<2.1.0,>=2.0.2\n",
      "  Downloading cymem-2.0.6-cp38-cp38-manylinux_2_17_x86_64.manylinux2014_x86_64.whl (36 kB)\n",
      "Collecting murmurhash<1.1.0,>=0.28.0\n",
      "  Downloading murmurhash-1.0.6-cp38-cp38-manylinux_2_5_x86_64.manylinux1_x86_64.manylinux_2_17_x86_64.manylinux2014_x86_64.whl (21 kB)\n",
      "Collecting spacy-loggers<2.0.0,>=1.0.0\n",
      "  Downloading spacy_loggers-1.0.1-py3-none-any.whl (7.0 kB)\n",
      "Collecting catalogue<2.1.0,>=2.0.6\n",
      "  Downloading catalogue-2.0.6-py3-none-any.whl (17 kB)\n",
      "Requirement already satisfied: packaging>=20.0 in /opt/conda/miniconda3/lib/python3.8/site-packages (from spacy->locationtagger) (21.3)\n",
      "Collecting preshed<3.1.0,>=3.0.2\n",
      "  Downloading preshed-3.0.6-cp38-cp38-manylinux_2_5_x86_64.manylinux1_x86_64.manylinux_2_17_x86_64.manylinux2014_x86_64.whl (130 kB)\n",
      "     |████████████████████████████████| 130 kB 57.7 MB/s            \n",
      "\u001b[?25hCollecting blis<0.8.0,>=0.4.0\n",
      "  Downloading blis-0.7.6-cp38-cp38-manylinux_2_17_x86_64.manylinux2014_x86_64.whl (9.9 MB)\n",
      "     |████████████████████████████████| 9.9 MB 2.1 MB/s            \n",
      "\u001b[?25hRequirement already satisfied: numpy>=1.15.0 in /opt/conda/miniconda3/lib/python3.8/site-packages (from spacy->locationtagger) (1.19.5)\n",
      "Collecting srsly<3.0.0,>=2.4.1\n",
      "  Downloading srsly-2.4.2-cp38-cp38-manylinux_2_17_x86_64.manylinux2014_x86_64.whl (454 kB)\n",
      "     |████████████████████████████████| 454 kB 48.8 MB/s            \n",
      "\u001b[?25hCollecting pydantic!=1.8,!=1.8.1,<1.9.0,>=1.7.4\n",
      "  Downloading pydantic-1.8.2-cp38-cp38-manylinux2014_x86_64.whl (13.7 MB)\n",
      "     |████████████████████████████████| 13.7 MB 33.5 MB/s            \n",
      "\u001b[?25hCollecting typer<0.5.0,>=0.3.0\n",
      "  Downloading typer-0.4.0-py3-none-any.whl (27 kB)\n",
      "Collecting pathy>=0.3.5\n",
      "  Downloading pathy-0.6.1-py3-none-any.whl (42 kB)\n",
      "     |████████████████████████████████| 42 kB 1.9 MB/s             \n",
      "\u001b[?25hRequirement already satisfied: jinja2 in /opt/conda/miniconda3/lib/python3.8/site-packages (from spacy->locationtagger) (2.11.3)\n",
      "Collecting wasabi<1.1.0,>=0.8.1\n",
      "  Downloading wasabi-0.9.0-py3-none-any.whl (25 kB)\n",
      "Collecting spacy-legacy<3.1.0,>=3.0.8\n",
      "  Downloading spacy_legacy-3.0.9-py2.py3-none-any.whl (20 kB)\n",
      "Collecting langcodes<4.0.0,>=3.2.0\n",
      "  Downloading langcodes-3.3.0-py3-none-any.whl (181 kB)\n",
      "     |████████████████████████████████| 181 kB 68.1 MB/s            \n",
      "\u001b[?25hRequirement already satisfied: soupsieve>1.2 in /opt/conda/miniconda3/lib/python3.8/site-packages (from beautifulsoup4>=4.4.1->newspaper3k->locationtagger) (2.3.1)\n",
      "Requirement already satisfied: six in /opt/conda/miniconda3/lib/python3.8/site-packages (from feedfinder2>=0.0.4->newspaper3k->locationtagger) (1.16.0)\n",
      "Collecting sgmllib3k\n",
      "  Downloading sgmllib3k-1.0.0.tar.gz (5.8 kB)\n",
      "  Preparing metadata (setup.py) ... \u001b[?25ldone\n",
      "\u001b[?25hRequirement already satisfied: pyparsing!=3.0.5,>=2.0.2 in /opt/conda/miniconda3/lib/python3.8/site-packages (from packaging>=20.0->spacy->locationtagger) (2.4.7)\n",
      "Collecting smart-open<6.0.0,>=5.0.0\n",
      "  Downloading smart_open-5.2.1-py3-none-any.whl (58 kB)\n",
      "     |████████████████████████████████| 58 kB 6.4 MB/s             \n",
      "\u001b[?25hRequirement already satisfied: typing-extensions>=3.7.4.3 in /opt/conda/miniconda3/lib/python3.8/site-packages (from pydantic!=1.8,!=1.8.1,<1.9.0,>=1.7.4->spacy->locationtagger) (4.0.1)\n",
      "Requirement already satisfied: certifi>=2017.4.17 in /opt/conda/miniconda3/lib/python3.8/site-packages (from requests>=2.10.0->newspaper3k->locationtagger) (2021.10.8)\n",
      "Requirement already satisfied: chardet<5,>=3.0.2 in /opt/conda/miniconda3/lib/python3.8/site-packages (from requests>=2.10.0->newspaper3k->locationtagger) (4.0.0)\n",
      "Requirement already satisfied: urllib3<1.27,>=1.21.1 in /opt/conda/miniconda3/lib/python3.8/site-packages (from requests>=2.10.0->newspaper3k->locationtagger) (1.25.11)\n",
      "Requirement already satisfied: idna<3,>=2.5 in /opt/conda/miniconda3/lib/python3.8/site-packages (from requests>=2.10.0->newspaper3k->locationtagger) (2.10)\n",
      "Collecting requests-file>=1.4\n",
      "  Downloading requests_file-1.5.1-py2.py3-none-any.whl (3.7 kB)\n",
      "Requirement already satisfied: filelock>=3.0.8 in /opt/conda/miniconda3/lib/python3.8/site-packages (from tldextract>=2.0.1->newspaper3k->locationtagger) (3.4.2)\n",
      "Requirement already satisfied: MarkupSafe>=0.23 in /opt/conda/miniconda3/lib/python3.8/site-packages (from jinja2->spacy->locationtagger) (1.1.1)\n",
      "Building wheels for collected packages: tinysegmenter, pycountry, feedfinder2, jieba3k, sgmllib3k\n",
      "  Building wheel for tinysegmenter (setup.py) ... \u001b[?25ldone\n",
      "\u001b[?25h  Created wheel for tinysegmenter: filename=tinysegmenter-0.3-py3-none-any.whl size=13553 sha256=aadc3d89f0486095c796cada075fc497cf91fb08a79dd31f87395214aae2bfa0\n",
      "  Stored in directory: /root/.cache/pip/wheels/99/74/83/8fac1c8d9c648cfabebbbffe97a889f6624817f3aa0bbe6c09\n",
      "  Building wheel for pycountry (pyproject.toml) ... \u001b[?25ldone\n",
      "\u001b[?25h  Created wheel for pycountry: filename=pycountry-22.3.5-py2.py3-none-any.whl size=10681845 sha256=7b1cda161bc1903e49920b7ebf89143e7d2b645a3542c604d3fc381a2fbefe45\n",
      "  Stored in directory: /root/.cache/pip/wheels/e2/aa/0f/c224e473b464387170b83ca7c66947b4a7e33e8d903a679748\n",
      "  Building wheel for feedfinder2 (setup.py) ... \u001b[?25ldone\n",
      "\u001b[?25h  Created wheel for feedfinder2: filename=feedfinder2-0.0.4-py3-none-any.whl size=3357 sha256=5527d4c983a0790ae500adea7a66eb3420a4637e843a2c8ff9440b81f56b26a1\n",
      "  Stored in directory: /root/.cache/pip/wheels/b6/09/68/a9f15498ac02c23dde29f18745bc6a6f574ba4ab41861a3575\n",
      "  Building wheel for jieba3k (setup.py) ... \u001b[?25ldone\n",
      "\u001b[?25h  Created wheel for jieba3k: filename=jieba3k-0.35.1-py3-none-any.whl size=7398404 sha256=60f3b949ff59b64dca8e57f89be6327126c1ce85a7f99120c22648ccc51bf263\n",
      "  Stored in directory: /root/.cache/pip/wheels/1f/7e/0c/54f3b0f5164278677899f2db08f2b07943ce2d024a3c862afb\n",
      "  Building wheel for sgmllib3k (setup.py) ... \u001b[?25ldone\n",
      "\u001b[?25h  Created wheel for sgmllib3k: filename=sgmllib3k-1.0.0-py3-none-any.whl size=6066 sha256=75f2d251f37ee8e6f0b64ea4a2efdfee3d2473ee078b2a5eb035f807c4192ed9\n",
      "  Stored in directory: /root/.cache/pip/wheels/83/63/2f/117884c3b19d46b64d3d61690333aa80c88dc14050e269c546\n",
      "Successfully built tinysegmenter pycountry feedfinder2 jieba3k sgmllib3k\n",
      "Installing collected packages: murmurhash, cymem, catalogue, wasabi, typer, srsly, smart-open, sgmllib3k, requests-file, pydantic, preshed, blis, tldextract, tinysegmenter, thinc, spacy-loggers, spacy-legacy, pathy, langcodes, jieba3k, feedparser, feedfinder2, cssselect, spacy, pycountry, newspaper3k, locationtagger\n",
      "Successfully installed blis-0.7.6 catalogue-2.0.6 cssselect-1.1.0 cymem-2.0.6 feedfinder2-0.0.4 feedparser-6.0.8 jieba3k-0.35.1 langcodes-3.3.0 locationtagger-0.0.1 murmurhash-1.0.6 newspaper3k-0.2.8 pathy-0.6.1 preshed-3.0.6 pycountry-22.3.5 pydantic-1.8.2 requests-file-1.5.1 sgmllib3k-1.0.0 smart-open-5.2.1 spacy-3.2.3 spacy-legacy-3.0.9 spacy-loggers-1.0.1 srsly-2.4.2 thinc-8.0.15 tinysegmenter-0.3 tldextract-3.2.0 typer-0.4.0 wasabi-0.9.0\n",
      "\u001b[33mWARNING: Running pip as the 'root' user can result in broken permissions and conflicting behaviour with the system package manager. It is recommended to use a virtual environment instead: https://pip.pypa.io/warnings/venv\u001b[0m\n",
      "Note: you may need to restart the kernel to use updated packages.\n"
     ]
    }
   ],
   "source": [
    "pip install locationtagger"
   ]
  },
  {
   "cell_type": "code",
   "execution_count": 12,
   "id": "d57a00ce-cb6a-43dc-b79c-a948085f0360",
   "metadata": {},
   "outputs": [
    {
     "name": "stdout",
     "output_type": "stream",
     "text": [
      "Requirement already satisfied: nltk in /opt/conda/miniconda3/lib/python3.8/site-packages (3.6.4)\n",
      "Collecting nltk\n",
      "  Downloading nltk-3.7-py3-none-any.whl (1.5 MB)\n",
      "     |████████████████████████████████| 1.5 MB 5.4 MB/s            \n",
      "\u001b[?25hRequirement already satisfied: joblib in /opt/conda/miniconda3/lib/python3.8/site-packages (from nltk) (1.1.0)\n",
      "Requirement already satisfied: click in /opt/conda/miniconda3/lib/python3.8/site-packages (from nltk) (7.1.2)\n",
      "Collecting regex>=2021.8.3\n",
      "  Downloading regex-2022.3.15-cp38-cp38-manylinux_2_17_x86_64.manylinux2014_x86_64.whl (764 kB)\n",
      "     |████████████████████████████████| 764 kB 52.0 MB/s            \n",
      "\u001b[?25hRequirement already satisfied: tqdm in /opt/conda/miniconda3/lib/python3.8/site-packages (from nltk) (4.62.3)\n",
      "Installing collected packages: regex, nltk\n",
      "  Attempting uninstall: regex\n",
      "    Found existing installation: regex 2021.4.4\n",
      "    Uninstalling regex-2021.4.4:\n",
      "      Successfully uninstalled regex-2021.4.4\n",
      "  Attempting uninstall: nltk\n",
      "    Found existing installation: nltk 3.6.4\n",
      "    Uninstalling nltk-3.6.4:\n",
      "      Successfully uninstalled nltk-3.6.4\n",
      "Successfully installed nltk-3.7 regex-2022.3.15\n",
      "\u001b[33mWARNING: Running pip as the 'root' user can result in broken permissions and conflicting behaviour with the system package manager. It is recommended to use a virtual environment instead: https://pip.pypa.io/warnings/venv\u001b[0m\n",
      "Note: you may need to restart the kernel to use updated packages.\n"
     ]
    }
   ],
   "source": [
    "pip install --upgrade nltk"
   ]
  },
  {
   "cell_type": "code",
   "execution_count": 25,
   "id": "61b5b503-e68c-4621-96ec-dff587c1d697",
   "metadata": {
    "collapsed": true,
    "jupyter": {
     "outputs_hidden": true
    },
    "tags": []
   },
   "outputs": [
    {
     "name": "stdout",
     "output_type": "stream",
     "text": [
      "Requirement already satisfied: spacy in /opt/conda/miniconda3/lib/python3.8/site-packages (3.2.3)\n",
      "Requirement already satisfied: murmurhash<1.1.0,>=0.28.0 in /opt/conda/miniconda3/lib/python3.8/site-packages (from spacy) (1.0.6)\n",
      "Requirement already satisfied: srsly<3.0.0,>=2.4.1 in /opt/conda/miniconda3/lib/python3.8/site-packages (from spacy) (2.4.2)\n",
      "Requirement already satisfied: langcodes<4.0.0,>=3.2.0 in /opt/conda/miniconda3/lib/python3.8/site-packages (from spacy) (3.3.0)\n",
      "Requirement already satisfied: preshed<3.1.0,>=3.0.2 in /opt/conda/miniconda3/lib/python3.8/site-packages (from spacy) (3.0.6)\n",
      "Requirement already satisfied: wasabi<1.1.0,>=0.8.1 in /opt/conda/miniconda3/lib/python3.8/site-packages (from spacy) (0.9.0)\n",
      "Requirement already satisfied: catalogue<2.1.0,>=2.0.6 in /opt/conda/miniconda3/lib/python3.8/site-packages (from spacy) (2.0.6)\n",
      "Requirement already satisfied: jinja2 in /opt/conda/miniconda3/lib/python3.8/site-packages (from spacy) (2.11.3)\n",
      "Requirement already satisfied: requests<3.0.0,>=2.13.0 in /opt/conda/miniconda3/lib/python3.8/site-packages (from spacy) (2.25.1)\n",
      "Requirement already satisfied: blis<0.8.0,>=0.4.0 in /opt/conda/miniconda3/lib/python3.8/site-packages (from spacy) (0.7.6)\n",
      "Requirement already satisfied: setuptools in /opt/conda/miniconda3/lib/python3.8/site-packages (from spacy) (59.8.0)\n",
      "Requirement already satisfied: thinc<8.1.0,>=8.0.12 in /opt/conda/miniconda3/lib/python3.8/site-packages (from spacy) (8.0.15)\n",
      "Requirement already satisfied: cymem<2.1.0,>=2.0.2 in /opt/conda/miniconda3/lib/python3.8/site-packages (from spacy) (2.0.6)\n",
      "Requirement already satisfied: spacy-legacy<3.1.0,>=3.0.8 in /opt/conda/miniconda3/lib/python3.8/site-packages (from spacy) (3.0.9)\n",
      "Requirement already satisfied: numpy>=1.15.0 in /opt/conda/miniconda3/lib/python3.8/site-packages (from spacy) (1.19.5)\n",
      "Requirement already satisfied: pydantic!=1.8,!=1.8.1,<1.9.0,>=1.7.4 in /opt/conda/miniconda3/lib/python3.8/site-packages (from spacy) (1.8.2)\n",
      "Requirement already satisfied: pathy>=0.3.5 in /opt/conda/miniconda3/lib/python3.8/site-packages (from spacy) (0.6.1)\n",
      "Requirement already satisfied: tqdm<5.0.0,>=4.38.0 in /opt/conda/miniconda3/lib/python3.8/site-packages (from spacy) (4.62.3)\n",
      "Requirement already satisfied: packaging>=20.0 in /opt/conda/miniconda3/lib/python3.8/site-packages (from spacy) (21.3)\n",
      "Requirement already satisfied: spacy-loggers<2.0.0,>=1.0.0 in /opt/conda/miniconda3/lib/python3.8/site-packages (from spacy) (1.0.1)\n",
      "Requirement already satisfied: typer<0.5.0,>=0.3.0 in /opt/conda/miniconda3/lib/python3.8/site-packages (from spacy) (0.4.0)\n",
      "Requirement already satisfied: pyparsing!=3.0.5,>=2.0.2 in /opt/conda/miniconda3/lib/python3.8/site-packages (from packaging>=20.0->spacy) (2.4.7)\n",
      "Requirement already satisfied: smart-open<6.0.0,>=5.0.0 in /opt/conda/miniconda3/lib/python3.8/site-packages (from pathy>=0.3.5->spacy) (5.2.1)\n",
      "Requirement already satisfied: typing-extensions>=3.7.4.3 in /opt/conda/miniconda3/lib/python3.8/site-packages (from pydantic!=1.8,!=1.8.1,<1.9.0,>=1.7.4->spacy) (4.0.1)\n",
      "Requirement already satisfied: urllib3<1.27,>=1.21.1 in /opt/conda/miniconda3/lib/python3.8/site-packages (from requests<3.0.0,>=2.13.0->spacy) (1.25.11)\n",
      "Requirement already satisfied: idna<3,>=2.5 in /opt/conda/miniconda3/lib/python3.8/site-packages (from requests<3.0.0,>=2.13.0->spacy) (2.10)\n",
      "Requirement already satisfied: certifi>=2017.4.17 in /opt/conda/miniconda3/lib/python3.8/site-packages (from requests<3.0.0,>=2.13.0->spacy) (2021.10.8)\n",
      "Requirement already satisfied: chardet<5,>=3.0.2 in /opt/conda/miniconda3/lib/python3.8/site-packages (from requests<3.0.0,>=2.13.0->spacy) (4.0.0)\n",
      "Requirement already satisfied: click<9.0.0,>=7.1.1 in /opt/conda/miniconda3/lib/python3.8/site-packages (from typer<0.5.0,>=0.3.0->spacy) (7.1.2)\n",
      "Requirement already satisfied: MarkupSafe>=0.23 in /opt/conda/miniconda3/lib/python3.8/site-packages (from jinja2->spacy) (1.1.1)\n",
      "\u001b[33mWARNING: Running pip as the 'root' user can result in broken permissions and conflicting behaviour with the system package manager. It is recommended to use a virtual environment instead: https://pip.pypa.io/warnings/venv\u001b[0m\n",
      "Note: you may need to restart the kernel to use updated packages.\n"
     ]
    }
   ],
   "source": [
    "pip install spacy"
   ]
  },
  {
   "cell_type": "code",
   "execution_count": 26,
   "id": "43b09a8f-9fc0-4c49-9838-88a410f5efb7",
   "metadata": {
    "collapsed": true,
    "jupyter": {
     "outputs_hidden": true
    },
    "tags": []
   },
   "outputs": [
    {
     "name": "stdout",
     "output_type": "stream",
     "text": [
      "Requirement already satisfied: newspaper3k in /opt/conda/miniconda3/lib/python3.8/site-packages (0.2.8)\n",
      "Requirement already satisfied: feedfinder2>=0.0.4 in /opt/conda/miniconda3/lib/python3.8/site-packages (from newspaper3k) (0.0.4)\n",
      "Requirement already satisfied: cssselect>=0.9.2 in /opt/conda/miniconda3/lib/python3.8/site-packages (from newspaper3k) (1.1.0)\n",
      "Requirement already satisfied: tinysegmenter==0.3 in /opt/conda/miniconda3/lib/python3.8/site-packages (from newspaper3k) (0.3)\n",
      "Requirement already satisfied: lxml>=3.6.0 in /opt/conda/miniconda3/lib/python3.8/site-packages (from newspaper3k) (4.7.1)\n",
      "Requirement already satisfied: beautifulsoup4>=4.4.1 in /opt/conda/miniconda3/lib/python3.8/site-packages (from newspaper3k) (4.10.0)\n",
      "Requirement already satisfied: requests>=2.10.0 in /opt/conda/miniconda3/lib/python3.8/site-packages (from newspaper3k) (2.25.1)\n",
      "Requirement already satisfied: tldextract>=2.0.1 in /opt/conda/miniconda3/lib/python3.8/site-packages (from newspaper3k) (3.2.0)\n",
      "Requirement already satisfied: python-dateutil>=2.5.3 in /opt/conda/miniconda3/lib/python3.8/site-packages (from newspaper3k) (2.8.0)\n",
      "Requirement already satisfied: jieba3k>=0.35.1 in /opt/conda/miniconda3/lib/python3.8/site-packages (from newspaper3k) (0.35.1)\n",
      "Requirement already satisfied: nltk>=3.2.1 in /opt/conda/miniconda3/lib/python3.8/site-packages (from newspaper3k) (3.7)\n",
      "Requirement already satisfied: PyYAML>=3.11 in /opt/conda/miniconda3/lib/python3.8/site-packages (from newspaper3k) (6.0)\n",
      "Requirement already satisfied: feedparser>=5.2.1 in /opt/conda/miniconda3/lib/python3.8/site-packages (from newspaper3k) (6.0.8)\n",
      "Requirement already satisfied: Pillow>=3.3.0 in /opt/conda/miniconda3/lib/python3.8/site-packages (from newspaper3k) (8.4.0)\n",
      "Requirement already satisfied: soupsieve>1.2 in /opt/conda/miniconda3/lib/python3.8/site-packages (from beautifulsoup4>=4.4.1->newspaper3k) (2.3.1)\n",
      "Requirement already satisfied: six in /opt/conda/miniconda3/lib/python3.8/site-packages (from feedfinder2>=0.0.4->newspaper3k) (1.16.0)\n",
      "Requirement already satisfied: sgmllib3k in /opt/conda/miniconda3/lib/python3.8/site-packages (from feedparser>=5.2.1->newspaper3k) (1.0.0)\n",
      "Requirement already satisfied: regex>=2021.8.3 in /opt/conda/miniconda3/lib/python3.8/site-packages (from nltk>=3.2.1->newspaper3k) (2022.3.15)\n",
      "Requirement already satisfied: tqdm in /opt/conda/miniconda3/lib/python3.8/site-packages (from nltk>=3.2.1->newspaper3k) (4.62.3)\n",
      "Requirement already satisfied: joblib in /opt/conda/miniconda3/lib/python3.8/site-packages (from nltk>=3.2.1->newspaper3k) (1.1.0)\n",
      "Requirement already satisfied: click in /opt/conda/miniconda3/lib/python3.8/site-packages (from nltk>=3.2.1->newspaper3k) (7.1.2)\n",
      "Requirement already satisfied: idna<3,>=2.5 in /opt/conda/miniconda3/lib/python3.8/site-packages (from requests>=2.10.0->newspaper3k) (2.10)\n",
      "Requirement already satisfied: urllib3<1.27,>=1.21.1 in /opt/conda/miniconda3/lib/python3.8/site-packages (from requests>=2.10.0->newspaper3k) (1.25.11)\n",
      "Requirement already satisfied: chardet<5,>=3.0.2 in /opt/conda/miniconda3/lib/python3.8/site-packages (from requests>=2.10.0->newspaper3k) (4.0.0)\n",
      "Requirement already satisfied: certifi>=2017.4.17 in /opt/conda/miniconda3/lib/python3.8/site-packages (from requests>=2.10.0->newspaper3k) (2021.10.8)\n",
      "Requirement already satisfied: requests-file>=1.4 in /opt/conda/miniconda3/lib/python3.8/site-packages (from tldextract>=2.0.1->newspaper3k) (1.5.1)\n",
      "Requirement already satisfied: filelock>=3.0.8 in /opt/conda/miniconda3/lib/python3.8/site-packages (from tldextract>=2.0.1->newspaper3k) (3.4.2)\n",
      "\u001b[33mWARNING: Running pip as the 'root' user can result in broken permissions and conflicting behaviour with the system package manager. It is recommended to use a virtual environment instead: https://pip.pypa.io/warnings/venv\u001b[0m\n",
      "Note: you may need to restart the kernel to use updated packages.\n"
     ]
    }
   ],
   "source": [
    "pip install newspaper3k"
   ]
  },
  {
   "cell_type": "code",
   "execution_count": 27,
   "id": "2b4b8620-c512-40bb-8d09-779dec46937a",
   "metadata": {
    "collapsed": true,
    "jupyter": {
     "outputs_hidden": true
    },
    "tags": []
   },
   "outputs": [
    {
     "name": "stdout",
     "output_type": "stream",
     "text": [
      "Requirement already satisfied: pycountry in /opt/conda/miniconda3/lib/python3.8/site-packages (22.3.5)\n",
      "Requirement already satisfied: setuptools in /opt/conda/miniconda3/lib/python3.8/site-packages (from pycountry) (59.8.0)\n",
      "\u001b[33mWARNING: Running pip as the 'root' user can result in broken permissions and conflicting behaviour with the system package manager. It is recommended to use a virtual environment instead: https://pip.pypa.io/warnings/venv\u001b[0m\n",
      "Note: you may need to restart the kernel to use updated packages.\n"
     ]
    }
   ],
   "source": [
    "pip install pycountry"
   ]
  },
  {
   "cell_type": "code",
   "execution_count": 3,
   "id": "d1d77019-a8f2-4162-9a48-17a31409cc76",
   "metadata": {},
   "outputs": [],
   "source": [
    "import os\n",
    "import subprocess\n",
    "from pyspark.sql.functions import *\n",
    "from pyspark.sql.types import *\n",
    "from pyspark.sql.types import StructType\n",
    "\n",
    "import findspark\n",
    "findspark.init()\n",
    "spark = SparkSession.builder.getOrCreate()\n",
    "sc = spark.sparkContext\n",
    "\n",
    "import pyspark.sql.functions as sql_fun"
   ]
  },
  {
   "cell_type": "code",
   "execution_count": 3,
   "id": "7da27c95-27b9-4337-b805-b6a41b4f4d94",
   "metadata": {},
   "outputs": [],
   "source": [
    "import numpy as np\n",
    "import pandas as pd\n",
    "from bs4 import BeautifulSoup\n",
    "import requests, zipfile, io\n",
    "import re\n",
    "import string\n",
    "import matplotlib.pyplot as plt\n",
    "%matplotlib inline"
   ]
  },
  {
   "cell_type": "code",
   "execution_count": null,
   "id": "0410428b-67d6-4f67-ad32-ba58fa76c198",
   "metadata": {},
   "outputs": [],
   "source": []
  },
  {
   "cell_type": "code",
   "execution_count": 4,
   "id": "b81cfb10-bbd4-4501-92f3-6d97b722dfe1",
   "metadata": {},
   "outputs": [],
   "source": [
    "# spark.conf.set(\"spark.sql.repl.eagerEval.enabled\",True)"
   ]
  },
  {
   "cell_type": "code",
   "execution_count": 369,
   "id": "95e67d2b-f52d-43c3-a1d3-9003c75e47f3",
   "metadata": {
    "tags": []
   },
   "outputs": [],
   "source": [
    "# covid_df = spark.read.parquet(\"gs://msca-bdp-students-bucket/shared_data/bhadri/covid_tweets4_df.parquet/\")"
   ]
  },
  {
   "cell_type": "code",
   "execution_count": 166,
   "id": "fa2f2a3c-87f6-4f72-b643-c4bcf0ce520b",
   "metadata": {},
   "outputs": [
    {
     "name": "stderr",
     "output_type": "stream",
     "text": [
      "/opt/conda/miniconda3/lib/python3.8/site-packages/IPython/core/interactiveshell.py:3012: DtypeWarning: Columns (0,1,2,3,4) have mixed types.Specify dtype option on import or set low_memory=False.\n",
      "  has_raised = await self.run_ast_nodes(code_ast.body, cell_name,\n"
     ]
    },
    {
     "data": {
      "text/html": [
       "<div>\n",
       "<style scoped>\n",
       "    .dataframe tbody tr th:only-of-type {\n",
       "        vertical-align: middle;\n",
       "    }\n",
       "\n",
       "    .dataframe tbody tr th {\n",
       "        vertical-align: top;\n",
       "    }\n",
       "\n",
       "    .dataframe thead th {\n",
       "        text-align: right;\n",
       "    }\n",
       "</style>\n",
       "<table border=\"1\" class=\"dataframe\">\n",
       "  <thead>\n",
       "    <tr style=\"text-align: right;\">\n",
       "      <th></th>\n",
       "      <th>Unnamed: 0</th>\n",
       "      <th>x_user_name</th>\n",
       "      <th>x_user_scrname</th>\n",
       "      <th>x_user_desc</th>\n",
       "      <th>x_user_location</th>\n",
       "      <th>x_user_id</th>\n",
       "      <th>covid_twt_count</th>\n",
       "      <th>total_tweet_count</th>\n",
       "      <th>avg_retwt_count</th>\n",
       "      <th>followers_count</th>\n",
       "    </tr>\n",
       "  </thead>\n",
       "  <tbody>\n",
       "    <tr>\n",
       "      <th>0</th>\n",
       "      <td>0</td>\n",
       "      <td>Robert W Malone, MD</td>\n",
       "      <td>RWMaloneMD</td>\n",
       "      <td>Inventor of mRNA vaccines and RNA as a drug, B...</td>\n",
       "      <td>Madison, VA</td>\n",
       "      <td>3.984488e+07</td>\n",
       "      <td>27532.0</td>\n",
       "      <td>8521.0</td>\n",
       "      <td>1333.550305</td>\n",
       "      <td>473202.0</td>\n",
       "    </tr>\n",
       "    <tr>\n",
       "      <th>1</th>\n",
       "      <td>1</td>\n",
       "      <td>Disclose.tv</td>\n",
       "      <td>disclosetv</td>\n",
       "      <td>Observing world events unfold in the grand the...</td>\n",
       "      <td>NaN</td>\n",
       "      <td>1.539249e+07</td>\n",
       "      <td>21596.0</td>\n",
       "      <td>3789.0</td>\n",
       "      <td>2459.135812</td>\n",
       "      <td>736174.0</td>\n",
       "    </tr>\n",
       "    <tr>\n",
       "      <th>2</th>\n",
       "      <td>2</td>\n",
       "      <td>Karan Menon</td>\n",
       "      <td>TheKaranMenon</td>\n",
       "      <td>comedian from jersey, woke tiktok king, featur...</td>\n",
       "      <td>Holmdel, NJ</td>\n",
       "      <td>1.049540e+18</td>\n",
       "      <td>16271.0</td>\n",
       "      <td>223.0</td>\n",
       "      <td>11724.467826</td>\n",
       "      <td>23226.0</td>\n",
       "    </tr>\n",
       "    <tr>\n",
       "      <th>3</th>\n",
       "      <td>3</td>\n",
       "      <td>Chuck Callesto</td>\n",
       "      <td>ChuckCallesto</td>\n",
       "      <td>Father and Former Candidate for Florida's 3rd ...</td>\n",
       "      <td>Florida, USA</td>\n",
       "      <td>4.765364e+09</td>\n",
       "      <td>13755.0</td>\n",
       "      <td>31375.0</td>\n",
       "      <td>2092.251472</td>\n",
       "      <td>285801.0</td>\n",
       "    </tr>\n",
       "    <tr>\n",
       "      <th>4</th>\n",
       "      <td>4</td>\n",
       "      <td>윤서⁷</td>\n",
       "      <td>btsinthemoment</td>\n",
       "      <td>for #bts 아포방포 translations — 🇰🇷🇦🇺 he / prince ...</td>\n",
       "      <td>speedy</td>\n",
       "      <td>1.333743e+18</td>\n",
       "      <td>13675.0</td>\n",
       "      <td>4549.0</td>\n",
       "      <td>6298.398245</td>\n",
       "      <td>94746.0</td>\n",
       "    </tr>\n",
       "  </tbody>\n",
       "</table>\n",
       "</div>"
      ],
      "text/plain": [
       "  Unnamed: 0          x_user_name  x_user_scrname  \\\n",
       "0          0  Robert W Malone, MD      RWMaloneMD   \n",
       "1          1          Disclose.tv      disclosetv   \n",
       "2          2          Karan Menon   TheKaranMenon   \n",
       "3          3       Chuck Callesto   ChuckCallesto   \n",
       "4          4                  윤서⁷  btsinthemoment   \n",
       "\n",
       "                                         x_user_desc x_user_location  \\\n",
       "0  Inventor of mRNA vaccines and RNA as a drug, B...     Madison, VA   \n",
       "1  Observing world events unfold in the grand the...             NaN   \n",
       "2  comedian from jersey, woke tiktok king, featur...     Holmdel, NJ   \n",
       "3  Father and Former Candidate for Florida's 3rd ...    Florida, USA   \n",
       "4  for #bts 아포방포 translations — 🇰🇷🇦🇺 he / prince ...         speedy    \n",
       "\n",
       "      x_user_id  covid_twt_count  total_tweet_count  avg_retwt_count  \\\n",
       "0  3.984488e+07          27532.0             8521.0      1333.550305   \n",
       "1  1.539249e+07          21596.0             3789.0      2459.135812   \n",
       "2  1.049540e+18          16271.0              223.0     11724.467826   \n",
       "3  4.765364e+09          13755.0            31375.0      2092.251472   \n",
       "4  1.333743e+18          13675.0             4549.0      6298.398245   \n",
       "\n",
       "   followers_count  \n",
       "0         473202.0  \n",
       "1         736174.0  \n",
       "2          23226.0  \n",
       "3         285801.0  \n",
       "4          94746.0  "
      ]
     },
     "execution_count": 166,
     "metadata": {},
     "output_type": "execute_result"
    }
   ],
   "source": [
    "user_twt_pdf = pd.read_csv('gs://msca-bdp-test-1203/user_twt_pdf.csv')\n",
    "user_twt_pdf.head()"
   ]
  },
  {
   "cell_type": "code",
   "execution_count": 167,
   "id": "c38de88f-f41d-4027-a791-2dffe266ac20",
   "metadata": {},
   "outputs": [
    {
     "data": {
      "text/html": [
       "<div>\n",
       "<style scoped>\n",
       "    .dataframe tbody tr th:only-of-type {\n",
       "        vertical-align: middle;\n",
       "    }\n",
       "\n",
       "    .dataframe tbody tr th {\n",
       "        vertical-align: top;\n",
       "    }\n",
       "\n",
       "    .dataframe thead th {\n",
       "        text-align: right;\n",
       "    }\n",
       "</style>\n",
       "<table border=\"1\" class=\"dataframe\">\n",
       "  <thead>\n",
       "    <tr style=\"text-align: right;\">\n",
       "      <th></th>\n",
       "      <th>x_user_scrname</th>\n",
       "      <th>x_user_location</th>\n",
       "    </tr>\n",
       "  </thead>\n",
       "  <tbody>\n",
       "    <tr>\n",
       "      <th>0</th>\n",
       "      <td>RWMaloneMD</td>\n",
       "      <td>Madison, VA</td>\n",
       "    </tr>\n",
       "    <tr>\n",
       "      <th>1</th>\n",
       "      <td>disclosetv</td>\n",
       "      <td>NaN</td>\n",
       "    </tr>\n",
       "    <tr>\n",
       "      <th>2</th>\n",
       "      <td>TheKaranMenon</td>\n",
       "      <td>Holmdel, NJ</td>\n",
       "    </tr>\n",
       "    <tr>\n",
       "      <th>3</th>\n",
       "      <td>ChuckCallesto</td>\n",
       "      <td>Florida, USA</td>\n",
       "    </tr>\n",
       "    <tr>\n",
       "      <th>4</th>\n",
       "      <td>btsinthemoment</td>\n",
       "      <td>speedy</td>\n",
       "    </tr>\n",
       "    <tr>\n",
       "      <th>5</th>\n",
       "      <td>DrEliDavid</td>\n",
       "      <td>NaN</td>\n",
       "    </tr>\n",
       "    <tr>\n",
       "      <th>6</th>\n",
       "      <td>MichaelPSenger</td>\n",
       "      <td>NaN</td>\n",
       "    </tr>\n",
       "    <tr>\n",
       "      <th>7</th>\n",
       "      <td>TroubledSamm</td>\n",
       "      <td>NaN</td>\n",
       "    </tr>\n",
       "    <tr>\n",
       "      <th>8</th>\n",
       "      <td>CBSNews</td>\n",
       "      <td>New York, NY</td>\n",
       "    </tr>\n",
       "    <tr>\n",
       "      <th>9</th>\n",
       "      <td>Breaking911</td>\n",
       "      <td>Nashville</td>\n",
       "    </tr>\n",
       "  </tbody>\n",
       "</table>\n",
       "</div>"
      ],
      "text/plain": [
       "   x_user_scrname x_user_location\n",
       "0      RWMaloneMD     Madison, VA\n",
       "1      disclosetv             NaN\n",
       "2   TheKaranMenon     Holmdel, NJ\n",
       "3   ChuckCallesto    Florida, USA\n",
       "4  btsinthemoment         speedy \n",
       "5      DrEliDavid             NaN\n",
       "6  MichaelPSenger             NaN\n",
       "7    TroubledSamm             NaN\n",
       "8         CBSNews    New York, NY\n",
       "9     Breaking911       Nashville"
      ]
     },
     "execution_count": 167,
     "metadata": {},
     "output_type": "execute_result"
    }
   ],
   "source": [
    "loc_df = user_twt_pdf[['x_user_scrname','x_user_location']]\n",
    "loc_df.head(10)"
   ]
  },
  {
   "cell_type": "code",
   "execution_count": 8,
   "id": "c4b5a510-fdae-48d4-a91e-16d1c793aed0",
   "metadata": {},
   "outputs": [
    {
     "data": {
      "text/plain": [
       "(504577, 2)"
      ]
     },
     "execution_count": 8,
     "metadata": {},
     "output_type": "execute_result"
    }
   ],
   "source": [
    "loc_df.shape"
   ]
  },
  {
   "cell_type": "code",
   "execution_count": 168,
   "id": "30c0913e-1c01-46e8-bcf2-949c4a0ed6b7",
   "metadata": {},
   "outputs": [
    {
     "data": {
      "text/plain": [
       "(258190, 2)"
      ]
     },
     "execution_count": 168,
     "metadata": {},
     "output_type": "execute_result"
    }
   ],
   "source": [
    "loc_df = loc_df.dropna()\n",
    "loc_df.shape"
   ]
  },
  {
   "cell_type": "code",
   "execution_count": 22,
   "id": "968dcac8-7604-4f29-b8b2-c1480b0031e9",
   "metadata": {
    "collapsed": true,
    "jupyter": {
     "outputs_hidden": true
    },
    "tags": []
   },
   "outputs": [
    {
     "name": "stderr",
     "output_type": "stream",
     "text": [
      "[nltk_data] Downloading package maxent_ne_chunker to\n",
      "[nltk_data]     /root/nltk_data...\n",
      "[nltk_data]   Package maxent_ne_chunker is already up-to-date!\n",
      "[nltk_data] Downloading package words to /root/nltk_data...\n",
      "[nltk_data]   Package words is already up-to-date!\n",
      "[nltk_data] Downloading package treebank to /root/nltk_data...\n",
      "[nltk_data]   Package treebank is already up-to-date!\n",
      "[nltk_data] Downloading package maxent_treebank_pos_tagger to\n",
      "[nltk_data]     /root/nltk_data...\n",
      "[nltk_data]   Package maxent_treebank_pos_tagger is already up-to-\n",
      "[nltk_data]       date!\n",
      "[nltk_data] Downloading package punkt to /root/nltk_data...\n",
      "[nltk_data]   Package punkt is already up-to-date!\n",
      "[nltk_data] Downloading package averaged_perceptron_tagger to\n",
      "[nltk_data]     /root/nltk_data...\n",
      "[nltk_data]   Package averaged_perceptron_tagger is already up-to-\n",
      "[nltk_data]       date!\n"
     ]
    },
    {
     "data": {
      "text/plain": [
       "True"
      ]
     },
     "execution_count": 22,
     "metadata": {},
     "output_type": "execute_result"
    }
   ],
   "source": [
    "import nltk\n",
    "import spacy\n",
    "  \n",
    "# essential entity models downloads\n",
    "nltk.downloader.download('maxent_ne_chunker')\n",
    "nltk.downloader.download('words')\n",
    "nltk.downloader.download('treebank')\n",
    "nltk.downloader.download('maxent_treebank_pos_tagger')\n",
    "nltk.downloader.download('punkt')\n",
    "nltk.download('averaged_perceptron_tagger')"
   ]
  },
  {
   "cell_type": "code",
   "execution_count": 12,
   "id": "b10676a6-18c3-4b7e-9e49-3b1d7aa453bd",
   "metadata": {
    "collapsed": true,
    "jupyter": {
     "outputs_hidden": true
    },
    "tags": []
   },
   "outputs": [
    {
     "name": "stdout",
     "output_type": "stream",
     "text": [
      "\u001b[38;5;3m⚠ As of spaCy v3.0, shortcuts like 'en' are deprecated. Please use the\n",
      "full pipeline package name 'en_core_web_sm' instead.\u001b[0m\n",
      "Collecting en-core-web-sm==3.2.0\n",
      "  Downloading https://github.com/explosion/spacy-models/releases/download/en_core_web_sm-3.2.0/en_core_web_sm-3.2.0-py3-none-any.whl (13.9 MB)\n",
      "     |████████████████████████████████| 13.9 MB 5.2 MB/s            \n",
      "\u001b[?25hRequirement already satisfied: spacy<3.3.0,>=3.2.0 in /opt/conda/miniconda3/lib/python3.8/site-packages (from en-core-web-sm==3.2.0) (3.2.3)\n",
      "Requirement already satisfied: preshed<3.1.0,>=3.0.2 in /opt/conda/miniconda3/lib/python3.8/site-packages (from spacy<3.3.0,>=3.2.0->en-core-web-sm==3.2.0) (3.0.6)\n",
      "Requirement already satisfied: setuptools in /opt/conda/miniconda3/lib/python3.8/site-packages (from spacy<3.3.0,>=3.2.0->en-core-web-sm==3.2.0) (59.8.0)\n",
      "Requirement already satisfied: blis<0.8.0,>=0.4.0 in /opt/conda/miniconda3/lib/python3.8/site-packages (from spacy<3.3.0,>=3.2.0->en-core-web-sm==3.2.0) (0.7.6)\n",
      "Requirement already satisfied: spacy-legacy<3.1.0,>=3.0.8 in /opt/conda/miniconda3/lib/python3.8/site-packages (from spacy<3.3.0,>=3.2.0->en-core-web-sm==3.2.0) (3.0.9)\n",
      "Requirement already satisfied: spacy-loggers<2.0.0,>=1.0.0 in /opt/conda/miniconda3/lib/python3.8/site-packages (from spacy<3.3.0,>=3.2.0->en-core-web-sm==3.2.0) (1.0.1)\n",
      "Requirement already satisfied: packaging>=20.0 in /opt/conda/miniconda3/lib/python3.8/site-packages (from spacy<3.3.0,>=3.2.0->en-core-web-sm==3.2.0) (21.3)\n",
      "Requirement already satisfied: pydantic!=1.8,!=1.8.1,<1.9.0,>=1.7.4 in /opt/conda/miniconda3/lib/python3.8/site-packages (from spacy<3.3.0,>=3.2.0->en-core-web-sm==3.2.0) (1.8.2)\n",
      "Requirement already satisfied: langcodes<4.0.0,>=3.2.0 in /opt/conda/miniconda3/lib/python3.8/site-packages (from spacy<3.3.0,>=3.2.0->en-core-web-sm==3.2.0) (3.3.0)\n",
      "Requirement already satisfied: typer<0.5.0,>=0.3.0 in /opt/conda/miniconda3/lib/python3.8/site-packages (from spacy<3.3.0,>=3.2.0->en-core-web-sm==3.2.0) (0.4.0)\n",
      "Requirement already satisfied: catalogue<2.1.0,>=2.0.6 in /opt/conda/miniconda3/lib/python3.8/site-packages (from spacy<3.3.0,>=3.2.0->en-core-web-sm==3.2.0) (2.0.6)\n",
      "Requirement already satisfied: jinja2 in /opt/conda/miniconda3/lib/python3.8/site-packages (from spacy<3.3.0,>=3.2.0->en-core-web-sm==3.2.0) (2.11.3)\n",
      "Requirement already satisfied: thinc<8.1.0,>=8.0.12 in /opt/conda/miniconda3/lib/python3.8/site-packages (from spacy<3.3.0,>=3.2.0->en-core-web-sm==3.2.0) (8.0.15)\n",
      "Requirement already satisfied: wasabi<1.1.0,>=0.8.1 in /opt/conda/miniconda3/lib/python3.8/site-packages (from spacy<3.3.0,>=3.2.0->en-core-web-sm==3.2.0) (0.9.0)\n",
      "Requirement already satisfied: murmurhash<1.1.0,>=0.28.0 in /opt/conda/miniconda3/lib/python3.8/site-packages (from spacy<3.3.0,>=3.2.0->en-core-web-sm==3.2.0) (1.0.6)\n",
      "Requirement already satisfied: pathy>=0.3.5 in /opt/conda/miniconda3/lib/python3.8/site-packages (from spacy<3.3.0,>=3.2.0->en-core-web-sm==3.2.0) (0.6.1)\n",
      "Requirement already satisfied: numpy>=1.15.0 in /opt/conda/miniconda3/lib/python3.8/site-packages (from spacy<3.3.0,>=3.2.0->en-core-web-sm==3.2.0) (1.19.5)\n",
      "Requirement already satisfied: requests<3.0.0,>=2.13.0 in /opt/conda/miniconda3/lib/python3.8/site-packages (from spacy<3.3.0,>=3.2.0->en-core-web-sm==3.2.0) (2.25.1)\n",
      "Requirement already satisfied: srsly<3.0.0,>=2.4.1 in /opt/conda/miniconda3/lib/python3.8/site-packages (from spacy<3.3.0,>=3.2.0->en-core-web-sm==3.2.0) (2.4.2)\n",
      "Requirement already satisfied: cymem<2.1.0,>=2.0.2 in /opt/conda/miniconda3/lib/python3.8/site-packages (from spacy<3.3.0,>=3.2.0->en-core-web-sm==3.2.0) (2.0.6)\n",
      "Requirement already satisfied: tqdm<5.0.0,>=4.38.0 in /opt/conda/miniconda3/lib/python3.8/site-packages (from spacy<3.3.0,>=3.2.0->en-core-web-sm==3.2.0) (4.62.3)\n",
      "Requirement already satisfied: pyparsing!=3.0.5,>=2.0.2 in /opt/conda/miniconda3/lib/python3.8/site-packages (from packaging>=20.0->spacy<3.3.0,>=3.2.0->en-core-web-sm==3.2.0) (2.4.7)\n",
      "Requirement already satisfied: smart-open<6.0.0,>=5.0.0 in /opt/conda/miniconda3/lib/python3.8/site-packages (from pathy>=0.3.5->spacy<3.3.0,>=3.2.0->en-core-web-sm==3.2.0) (5.2.1)\n",
      "Requirement already satisfied: typing-extensions>=3.7.4.3 in /opt/conda/miniconda3/lib/python3.8/site-packages (from pydantic!=1.8,!=1.8.1,<1.9.0,>=1.7.4->spacy<3.3.0,>=3.2.0->en-core-web-sm==3.2.0) (4.0.1)\n",
      "Requirement already satisfied: urllib3<1.27,>=1.21.1 in /opt/conda/miniconda3/lib/python3.8/site-packages (from requests<3.0.0,>=2.13.0->spacy<3.3.0,>=3.2.0->en-core-web-sm==3.2.0) (1.25.11)\n",
      "Requirement already satisfied: idna<3,>=2.5 in /opt/conda/miniconda3/lib/python3.8/site-packages (from requests<3.0.0,>=2.13.0->spacy<3.3.0,>=3.2.0->en-core-web-sm==3.2.0) (2.10)\n",
      "Requirement already satisfied: chardet<5,>=3.0.2 in /opt/conda/miniconda3/lib/python3.8/site-packages (from requests<3.0.0,>=2.13.0->spacy<3.3.0,>=3.2.0->en-core-web-sm==3.2.0) (4.0.0)\n",
      "Requirement already satisfied: certifi>=2017.4.17 in /opt/conda/miniconda3/lib/python3.8/site-packages (from requests<3.0.0,>=2.13.0->spacy<3.3.0,>=3.2.0->en-core-web-sm==3.2.0) (2021.10.8)\n",
      "Requirement already satisfied: click<9.0.0,>=7.1.1 in /opt/conda/miniconda3/lib/python3.8/site-packages (from typer<0.5.0,>=0.3.0->spacy<3.3.0,>=3.2.0->en-core-web-sm==3.2.0) (7.1.2)\n",
      "Requirement already satisfied: MarkupSafe>=0.23 in /opt/conda/miniconda3/lib/python3.8/site-packages (from jinja2->spacy<3.3.0,>=3.2.0->en-core-web-sm==3.2.0) (1.1.1)\n",
      "Installing collected packages: en-core-web-sm\n",
      "Successfully installed en-core-web-sm-3.2.0\n",
      "\u001b[33mWARNING: Running pip as the 'root' user can result in broken permissions and conflicting behaviour with the system package manager. It is recommended to use a virtual environment instead: https://pip.pypa.io/warnings/venv\u001b[0m\n",
      "\u001b[38;5;2m✔ Download and installation successful\u001b[0m\n",
      "You can now load the package via spacy.load('en_core_web_sm')\n"
     ]
    }
   ],
   "source": [
    "!python -m spacy download en"
   ]
  },
  {
   "cell_type": "code",
   "execution_count": 17,
   "id": "fbce33a0-72f1-4635-9347-054ca7ffab15",
   "metadata": {
    "collapsed": true,
    "jupyter": {
     "outputs_hidden": true
    },
    "tags": []
   },
   "outputs": [
    {
     "name": "stdout",
     "output_type": "stream",
     "text": [
      "Collecting en-core-web-sm==3.2.0\n",
      "  Downloading https://github.com/explosion/spacy-models/releases/download/en_core_web_sm-3.2.0/en_core_web_sm-3.2.0-py3-none-any.whl (13.9 MB)\n",
      "     |████████████████████████████████| 13.9 MB 5.3 MB/s            \n",
      "\u001b[?25hRequirement already satisfied: spacy<3.3.0,>=3.2.0 in /opt/conda/miniconda3/lib/python3.8/site-packages (from en-core-web-sm==3.2.0) (3.2.3)\n",
      "Requirement already satisfied: tqdm<5.0.0,>=4.38.0 in /opt/conda/miniconda3/lib/python3.8/site-packages (from spacy<3.3.0,>=3.2.0->en-core-web-sm==3.2.0) (4.62.3)\n",
      "Requirement already satisfied: setuptools in /opt/conda/miniconda3/lib/python3.8/site-packages (from spacy<3.3.0,>=3.2.0->en-core-web-sm==3.2.0) (59.8.0)\n",
      "Requirement already satisfied: pathy>=0.3.5 in /opt/conda/miniconda3/lib/python3.8/site-packages (from spacy<3.3.0,>=3.2.0->en-core-web-sm==3.2.0) (0.6.1)\n",
      "Requirement already satisfied: murmurhash<1.1.0,>=0.28.0 in /opt/conda/miniconda3/lib/python3.8/site-packages (from spacy<3.3.0,>=3.2.0->en-core-web-sm==3.2.0) (1.0.6)\n",
      "Requirement already satisfied: pydantic!=1.8,!=1.8.1,<1.9.0,>=1.7.4 in /opt/conda/miniconda3/lib/python3.8/site-packages (from spacy<3.3.0,>=3.2.0->en-core-web-sm==3.2.0) (1.8.2)\n",
      "Requirement already satisfied: packaging>=20.0 in /opt/conda/miniconda3/lib/python3.8/site-packages (from spacy<3.3.0,>=3.2.0->en-core-web-sm==3.2.0) (21.3)\n",
      "Requirement already satisfied: jinja2 in /opt/conda/miniconda3/lib/python3.8/site-packages (from spacy<3.3.0,>=3.2.0->en-core-web-sm==3.2.0) (2.11.3)\n",
      "Requirement already satisfied: thinc<8.1.0,>=8.0.12 in /opt/conda/miniconda3/lib/python3.8/site-packages (from spacy<3.3.0,>=3.2.0->en-core-web-sm==3.2.0) (8.0.15)\n",
      "Requirement already satisfied: langcodes<4.0.0,>=3.2.0 in /opt/conda/miniconda3/lib/python3.8/site-packages (from spacy<3.3.0,>=3.2.0->en-core-web-sm==3.2.0) (3.3.0)\n",
      "Requirement already satisfied: requests<3.0.0,>=2.13.0 in /opt/conda/miniconda3/lib/python3.8/site-packages (from spacy<3.3.0,>=3.2.0->en-core-web-sm==3.2.0) (2.25.1)\n",
      "Requirement already satisfied: cymem<2.1.0,>=2.0.2 in /opt/conda/miniconda3/lib/python3.8/site-packages (from spacy<3.3.0,>=3.2.0->en-core-web-sm==3.2.0) (2.0.6)\n",
      "Requirement already satisfied: spacy-legacy<3.1.0,>=3.0.8 in /opt/conda/miniconda3/lib/python3.8/site-packages (from spacy<3.3.0,>=3.2.0->en-core-web-sm==3.2.0) (3.0.9)\n",
      "Requirement already satisfied: typer<0.5.0,>=0.3.0 in /opt/conda/miniconda3/lib/python3.8/site-packages (from spacy<3.3.0,>=3.2.0->en-core-web-sm==3.2.0) (0.4.0)\n",
      "Requirement already satisfied: catalogue<2.1.0,>=2.0.6 in /opt/conda/miniconda3/lib/python3.8/site-packages (from spacy<3.3.0,>=3.2.0->en-core-web-sm==3.2.0) (2.0.6)\n",
      "Requirement already satisfied: preshed<3.1.0,>=3.0.2 in /opt/conda/miniconda3/lib/python3.8/site-packages (from spacy<3.3.0,>=3.2.0->en-core-web-sm==3.2.0) (3.0.6)\n",
      "Requirement already satisfied: blis<0.8.0,>=0.4.0 in /opt/conda/miniconda3/lib/python3.8/site-packages (from spacy<3.3.0,>=3.2.0->en-core-web-sm==3.2.0) (0.7.6)\n",
      "Requirement already satisfied: srsly<3.0.0,>=2.4.1 in /opt/conda/miniconda3/lib/python3.8/site-packages (from spacy<3.3.0,>=3.2.0->en-core-web-sm==3.2.0) (2.4.2)\n",
      "Requirement already satisfied: wasabi<1.1.0,>=0.8.1 in /opt/conda/miniconda3/lib/python3.8/site-packages (from spacy<3.3.0,>=3.2.0->en-core-web-sm==3.2.0) (0.9.0)\n",
      "Requirement already satisfied: spacy-loggers<2.0.0,>=1.0.0 in /opt/conda/miniconda3/lib/python3.8/site-packages (from spacy<3.3.0,>=3.2.0->en-core-web-sm==3.2.0) (1.0.1)\n",
      "Requirement already satisfied: numpy>=1.15.0 in /opt/conda/miniconda3/lib/python3.8/site-packages (from spacy<3.3.0,>=3.2.0->en-core-web-sm==3.2.0) (1.19.5)\n",
      "Requirement already satisfied: pyparsing!=3.0.5,>=2.0.2 in /opt/conda/miniconda3/lib/python3.8/site-packages (from packaging>=20.0->spacy<3.3.0,>=3.2.0->en-core-web-sm==3.2.0) (2.4.7)\n",
      "Requirement already satisfied: smart-open<6.0.0,>=5.0.0 in /opt/conda/miniconda3/lib/python3.8/site-packages (from pathy>=0.3.5->spacy<3.3.0,>=3.2.0->en-core-web-sm==3.2.0) (5.2.1)\n",
      "Requirement already satisfied: typing-extensions>=3.7.4.3 in /opt/conda/miniconda3/lib/python3.8/site-packages (from pydantic!=1.8,!=1.8.1,<1.9.0,>=1.7.4->spacy<3.3.0,>=3.2.0->en-core-web-sm==3.2.0) (4.0.1)\n",
      "Requirement already satisfied: certifi>=2017.4.17 in /opt/conda/miniconda3/lib/python3.8/site-packages (from requests<3.0.0,>=2.13.0->spacy<3.3.0,>=3.2.0->en-core-web-sm==3.2.0) (2021.10.8)\n",
      "Requirement already satisfied: urllib3<1.27,>=1.21.1 in /opt/conda/miniconda3/lib/python3.8/site-packages (from requests<3.0.0,>=2.13.0->spacy<3.3.0,>=3.2.0->en-core-web-sm==3.2.0) (1.25.11)\n",
      "Requirement already satisfied: idna<3,>=2.5 in /opt/conda/miniconda3/lib/python3.8/site-packages (from requests<3.0.0,>=2.13.0->spacy<3.3.0,>=3.2.0->en-core-web-sm==3.2.0) (2.10)\n",
      "Requirement already satisfied: chardet<5,>=3.0.2 in /opt/conda/miniconda3/lib/python3.8/site-packages (from requests<3.0.0,>=2.13.0->spacy<3.3.0,>=3.2.0->en-core-web-sm==3.2.0) (4.0.0)\n",
      "Requirement already satisfied: click<9.0.0,>=7.1.1 in /opt/conda/miniconda3/lib/python3.8/site-packages (from typer<0.5.0,>=0.3.0->spacy<3.3.0,>=3.2.0->en-core-web-sm==3.2.0) (7.1.2)\n",
      "Requirement already satisfied: MarkupSafe>=0.23 in /opt/conda/miniconda3/lib/python3.8/site-packages (from jinja2->spacy<3.3.0,>=3.2.0->en-core-web-sm==3.2.0) (1.1.1)\n",
      "\u001b[33mWARNING: Running pip as the 'root' user can result in broken permissions and conflicting behaviour with the system package manager. It is recommended to use a virtual environment instead: https://pip.pypa.io/warnings/venv\u001b[0m\n",
      "\u001b[38;5;2m✔ Download and installation successful\u001b[0m\n",
      "You can now load the package via spacy.load('en_core_web_sm')\n"
     ]
    }
   ],
   "source": [
    "!python -m spacy download en_core_web_sm"
   ]
  },
  {
   "cell_type": "code",
   "execution_count": 91,
   "id": "8d00b473-ce91-443c-92ea-3e3d67bf00bb",
   "metadata": {},
   "outputs": [],
   "source": [
    "# import locationtagger\n",
    "# nlp = spacy.load('en_core_web_sm')\n",
    "\n",
    "# def id_location(text):\n",
    "    \n",
    "#     text = str(text)\n",
    "#     text = text.lower()\n",
    "#     text = re.sub('[%s]' % re.escape(string.punctuation), '', text)\n",
    "    \n",
    "#     place_entity = locationtagger.find_locations(text = text)\n",
    "#     country = place_entity.countries\n",
    "#     state = place_entity.regions\n",
    "#     city = place_entity.cities\n",
    "    \n",
    "#     loc_list = [country,state, city]\n",
    "    \n",
    "#     if len(loc_list) == 0:\n",
    "#         loc_list = ['unidentified location']\n",
    "    \n",
    "#     return loc_list\n"
   ]
  },
  {
   "cell_type": "code",
   "execution_count": 132,
   "id": "07fc3400-1020-40cb-bfdc-59c9d5b7ed16",
   "metadata": {},
   "outputs": [
    {
     "data": {
      "text/plain": [
       "[[], ['Florida'], ['Florida', 'Usa']]"
      ]
     },
     "execution_count": 132,
     "metadata": {},
     "output_type": "execute_result"
    }
   ],
   "source": [
    "place = 'Florida, USA'\n",
    "test = id_location(place)\n",
    "test"
   ]
  },
  {
   "cell_type": "code",
   "execution_count": 249,
   "id": "34ac2ee8-648a-41eb-b81e-c47f1eb36a0e",
   "metadata": {},
   "outputs": [],
   "source": [
    "cities = ['new york','los angeles','london','chicago','miami','dallas','philadelphia','houston','atlanta','washington','boston','phoenix','seattle','san francisco','detroit','san diego','minneapolis','tampa','denver','brooklyn','queens','riverside','baltimore','las vegas','portland','san antonio','st louis','sacramento','orlando','san jose','cleveland','pittsburgh','austin','cincinnati','kansas city','manhattan','indianapolis','columbus','charlotte','virginia beach','bronx','milwaukee','providence','jacksonville','birmingham','salt lake city','nashville','richmond','memphis','raleigh','new orleans','louisville','oklahoma city','bridgeport','buffalo','fort worth','hartford','tucson','omaha','el paso','honolulu','mcallen','leeds','hempstead','albuquerque','sarasota','dayton','rochester','fresno','allentown','tulsa','cape coral','concord','colorado springs','charleston','glasgow','springfield','grand rapids','mission viejo','albany','knoxville','bakersfield','ogden','baton rouge','bristol','akron','new haven','columbia','manchester','sheffield','mesa','liverpool','palm bay','provo','worcester','murrieta','edinburgh','greenville','brookhaven','wichita','toledo','staten island','des moines','leicester','long beach','port st lucie','denton','madison','reno','harrisburg','little rock','oakland','durham','winston-salem','bonita springs','indio','palm coast','chattanooga','spokane','syracuse','lancaster','arlington','stockton','poughkeepsie','augusta','boise','oxnard','scranton','modesto','kissimmee','aurora','youngstown','coventry','caerdydd','fayetteville','anaheim','pensacola','victorville','greensboro','corpus christi','fort wayne','belfast','santa ana','flint','islip','jackson','santa rosa','lansing','lexington','ann arbor','henderson','huntsville','mobile','fort collins','asheville','santa clarita','st paul','antioch','lakeland','newcastle','oyster bay','bradford','trenton','ipswich','lincoln','nottingham','anchorage','plano','irvine','bolton','davenport','rockford','newark','south bend','shreveport','round lake beach','sunderland','savannah','myrtle beach','chula vista','eugene','southampton','canton','plymouth','lubbock','reading','winter haven','salem','st petersburg','lafayette','laredo','jersey city','chandler','kingston upon hull','mckinney','scottsdale','killeen','tallahassee','peoria','wilmington','derby','westminster','montgomery','gilbert','glendale','north las vegas','wolverhampton','stoke-on-trent','portsmouth','abertawe','barnsley','chesapeake','barnstable','norfolk','fremont','kennewick','garland','irving','visalia','atlantic city','paradise','nashua','hialeah','york','north hempstead','evansville','avondale','brownsville','swindon','gulfport','appleton','bremerton','hickory','tacoma','san bernardino','college station','kalamazoo','thousand oaks','roanoke','fontana','moreno valley','luton','northampton','babylon','north port','fargo','green bay','spring valley','milton keynes','solihull','amarillo','santa barbara','gainesville','huntington','olympia','aberdeen','frisco','yonkers','norwich','huntington beach','deltona','tempe','overland park','grand prairie','peterborough','sunrise manor','waco','salinas','waterbury','clarksville','cedar rapids','bournemouth','sioux falls','basildon','ontario','hagerstown','erie','vancouver','nampa','spartanburg','gastonia','fort lauderdale','lorain','murfreesboro','high point','newport news','rancho cucamonga','hemet','santa cruz','danbury','oceanside','elk grove','pembroke pines','vallejo','garden grove','enterprise','medford','cary','marysville','corona','ocala','fredericksburg','warrington','huddersfield','southend','champaign','alexandria','hayward','lakewood','frederick','lake charles','odessa','tuscaloosa','warner robins','palmdale','hollywood','midland','leesburg','port arthur','muskegon','macon','sunnyvale','oxford','pomona','escondido','pasadena','new bedford','fairfield','naperville','dundee','bellevue','binghamton','elkhart','topeka','joliet','west bromwich','beaumont','newport','gloucester','paterson','merced','poole','pueblo','tyler','torrance','birkenhead','yuma','telford','metairie','preston','surprise','athens','roseville','thornton','miramar','mesquite','middlesbrough','olathe','santa maria','houma','blackpool','carrollton','grand junction','orange','fullerton','greeley','las cruces','panama city','harlingen','ramapo','west valley city','hampton','brighton','sale','warren','mauldin','bloomington','coral springs','round rock','yakima','sterling heights','kent','burlington','bellingham','santa clara','racine','stamford','elizabeth','johnson city','lynchburg','simi valley','amherst','fort smith','kenosha','norman','south lyon','boulder','exeter','cambridge','abilene','lehigh acres','pearland','colchester','berkeley','richardson','redding','arvada','east los angeles','st george','billings','yuba city','high wycombe','gateshead','leominster','kingsport','duluth','rock hill','slough','gilroy','sugar land','texas city','iowa city','blackburn','saginaw','chico','dover','clearwater','coeur dalene','seaside','independence','smithtown','west jordan','cheltenham','brandon','el monte','north charleston','carlsbad','chelmsford','st cloud','temecula','clovis','meridian','the woodlands','costa mesa','monroe','utica','pompano beach','west palm beach','waterloo','everett','el centro','santa fe','downey','spring hill','lowell','centennial','elgin','broken arrow','rochdale','miami gardens','doncaster','bend','rotherham','jurupa valley','sandy springs','gresham','lewisville','hillsboro','worthing','san buenaventura','pottstown','inglewood','maidstone','league city','eau claire','basingstoke','turlock','temple','crawley','sioux city','salisbury','davie','daly city','highlands ranch','allen','west covina','sparks','wichita falls','san mateo','gillingham','norwalk','salford','wigan','rialto','manteca','arden-arcade','el cajon','saint helens','burbank','longmont','renton','vista','logan','eastbourne','prescott valley','vacaville','edinburg','carmel','spokane valley','san angelo','la crosse','edison','idaho falls','holland','charlottesville','longview','woodbridge','tracy','boca raton','lees summit','wakefield','rio rancho','south fulton','beaverton','lawrence','bismarck','orem','middletown','san tan valley','san marcos','oldham','sandy','federal way','greece','mandeville','hesperia','brockton','compton','rayleigh','riverview','fishers','sunrise','bowling green','hemel hempstead','bath','roswell','menifee','plantation','quincy','chino','lynn','edmond','hanford','dearborn','livonia','south gate','vineland','florence','slidell','lawton','kirkland','missoula','auburn','wimbledon','rapid city','terre haute','bedford','darlington','toms river','suffolk','hove','blacksburg','southport','mount pleasant','carson','greenburgh','conroe','alafaya','hastings','livermore','germantown','santa monica','watford','new braunfels','stevenage','fall river','miami beach','hartlepool','san leandro','ofallon','newton','grimsby','halifax','muncie','citrus heights','state college','chester','hamilton','town n country','decatur','fort myers','goodyear','dalton','nuneaton','clarkstown','cheektowaga','bryan','waukegan','hawthorne','anderson','redwood city','hoover','lake forest','napa','whittier','clifton','derry','largo','johns creek','newport beach','mission','milpitas','troy','madera','joplin','chino hills','alhambra','aylesbury','franklin','melbourne','port huron','upper darby','colonie','mountain view','stockton-on-tees','zephyrhills','st augustine','saint albans','harlow','burnley','flagstaff','redditch','buena park','pleasanton','silver spring','atascocita','westland','cranston','somerville','folsom','springdale','deerfield beach','warwick','cicero','farmington hills','batley','williamsburg','brooklyn park','hattiesburg','scunthorpe','valdosta','buckeye','georgetown','cheyenne','cedar park','dudley','the villages','kokomo','tustin','perris','st joseph','flower mound','pharr','pine hills','alton','loveland','bury','eastleigh','boynton beach','new rochelle','jonesboro','lebanon','parma','layton','elizabethtown','texarkana','alameda','mansfield','kankakee','watsonville','porterville','bracknell','baytown','upland','guildford','davis','camarillo','chatham','south jordan','battle creek','bellflower','paisley','weston-super-mare','san ramon','lake jackson','bethlehem','wyoming','oshkosh','hammond','waldorf','missouri city','pasco','carlisle','wheeling','brick','south shields','kendall','baldwin park','east kilbride','rancho cordova','newcastle under lyme','burton upon trent','conway','gary','altoona','lodi','arlington heights','bolingbrook','rochester hills','winchester','framingham','hilton head island','centreville','union city','owensboro','tamworth','wausau','harrogate','camden','anniston','evanston','apple valley','crewe','schaumburg','pocatello','woodbury','southfield','ellicott city','dale city','maple grove','pittsburg','new britain','morgantown','dothan','harrisonburg','wenatchee','waukesha','pawtucket','redmond','lauderhill','shrewsbury','gosport','sumter','redlands','daphne','lisburn','mount vernon','weston','st charles','cherry hill','lowestoft','janesville','sherman','north richland hills','rugby','stafford','broomfield','el paso de robles','casas adobes','walnut creek','poinciana','lynwood','glen burnie','lehi','passaic','homestead','west bend','delray beach','sheboygan','lake elsinore','daytona beach','los lunas','lima','rocklin','rogers','castle rock','tynemouth','hanover','bossier city','dubuque','rockville','victoria','saratoga springs','gaithersburg','ames','west des moines','south san francisco','cannock','yorba linda','casper','walsall','ashford','palatine','corvallis','ankeny','rowlett','lakeville','alpharetta','dekalb','petaluma','grays','godalming','redondo beach','tamarac','walton upon thames','laguna niguel','eagan','kenner','bay city','gravesend','north little rock','sammamish','shawnee','jupiter','old bridge','doral','florence-graham','carbondale','blaine','weirton','tulare',\n",
    "          'pflugerville','palo alto','schenectady','great falls','michigan city','farnborough','bayonne','eden prairie','port orange','dublin','grand forks','noblesville','san clemente','brentwood','carmichael','paignton','east orange','eastvale','chapel hill','rocky mount','haverhill','bognor regis','beloit','maidenhead','merthyr tudful','glens falls','stourbridge','fairbanks','bethesda','johnstown','west hartford','hereford','dundalk','castro valley','coon rapids','elmira','dewsbury','mankato','north miami','woking','encinitas','skokie','leander','greenwich','parkersburg','waltham','port charlotte','palm harbor','san luis obispo','sebring','council bluffs','moore','pico rivera','casa grande','monessen','montebello','runcorn','scarborough','north bergen','wrecsam','rome','the hammocks','widnes','millcreek','sanford','national city','burnsville','coconut creek','margate','morristown','reston','ellesmere port','bangor','hamden','spring','gadsden','taylor','novi','marietta','hot springs','woodland','fountainebleau','la habra','taunton','malden','bensalem','south whittier','commerce city','wallasey','south hill','loughborough','west allis','taylorsville','monterey park','greenwood','bartlett','bradenton','pontiac','staunton','meriden','clay','gardena','apex','royal oak','cupertino','la mesa','benton harbor','brookline','lower merion','st clair shores','des plaines','lewiston','carson city','bowie','caldwell','san rafael','littlehampton','union','hamburg','richland','st peters','wesley chapel','halesowen','hendersonville','white plains','huntersville','santee','jefferson city','beckley','arcadia','titusville','cartersville','walla walla','orland park','towson','royal tunbridge wells','weymouth','parker','palm beach gardens','bozeman','east stroudsburg','huntington park','midwest city','bebington','goldsboro','aldershot','euless','shoreline','piscataway','lake havasu city','smyrna','macclesfield','cape girardeau','kettering','tamiami','kendale lakes','grants pass','blue springs','southaven','tinley park','royal leamington spa','diamond bar','pittsfield','eagle pass','new brunswick','lenexa','hazleton','twin falls','kidderminster','novato','tigard','abington','highland','fountain valley','dearborn heights','grapevine','fond du lac','hacienda heights','ithaca','chicopee','oak lawn','cathedral city','corby','delano','bentonville','stonecrest','canterbury','colton','kingston','west haven','normal','berwyn','milford','aloha','christchurch','arroyo grande','irvington','minnetonka','rosemead','paramount','wayne','yucaipa','brunswick','williamsport','elyria','mount prospect','pinellas park','west sacramento','apopka','keighley','grand island','palm desert','milford city','watertown','little elm','dunfermline','chambersburg','revere','peabody','wylie','beaufort','aspen hill','desoto','helena','edina','wheaton','west new york','hoboken','lacey','summerville','altrincham','parsippany-troy hills','oak park','maricopa','stratford','lompoc','howell','kentwood','levittown','crosby','sierra vista','glendora','barri','burien','willenhall','bootle','perth amboy','herriman','folkestone','farmington','new bern','placentia','hinesville','collierville','west lafayette','florissant','hoffman estates','cumbernauld','esher','queen creek','aliso viejo','kannapolis','livingston','methuen town','sahuarita','clacton-on-sea','traverse city','severn','catalina foothills','galveston','country club','cookeville','mishawaka','rowland heights','plainfield','bullhead city','irondequoit','stillwater','east hartford','forney','azusa','orangetown','north bethesda','cerritos','ashburn','bloomsburg','morehead city','coral gables','enid','oroville','wilson','portage','minot','pen-y-bont ar ogwr','dunwoody','poway','haverford','bloomfield','san jacinto','cuyahoga falls','lower paxton','downers grove','reedley','marana','cypress','hollister','murray','pascagoula','tuckahoe','ceres','st louis park','rio grande city','draper','cwmbran','palm springs','paducah','findlay','university','bel air south','antelope','kyle','welwyn garden city','ocoee','burleson','la mirada','smethwick','farmers branch','east lansing','uniontown','jeffersonville','winder','wauwatosa','kirkcaldy','littleton','cumberland','cedar hill','rancho santa margarita','east brunswick','beavercreek','niagara falls','mclean','north highlands','east providence','florin','east honolulu','chesterfield','covina','perth','bothell','west orange','glenview','inverness','mentor','keller','danville','stretford','banbury','ayr','elmhurst','wokingham','new philadelphia','perinton','sandusky','rye','el dorado hills','salina','euclid','kingman','kilmarnock','weatherford','roseburg','biloxi','leavenworth','fort pierce','winter garden','oro valley','morgan hill','potomac','pinehurst','neath','rockwall','coachella','wake forest','pearl city','tupelo','south brunswick','west seneca','hinckley','attleboro','pine bluff','oakland park','ashton','marion','evesham','hilo','lufkin','altadena','manitowoc','lake ridge','selma','strongsville','wallingford','webster','bridgewater','riverton','the colony','urbandale','lombard','prescott','north lauderdale','eureka','hackensack','sayreville','enfield','altamonte springs','del rio','cleveland heights','bountiful','coatbridge','desert hot springs','peachtree corners','haltom city','southington','ormond beach','cutler bay','adrian','goose creek','moorhead','westfield','henrietta','annandale','rohnert park','brea','klamath falls','billerica','channelview','north miami beach','kingston upon thames','whitney','freeport','centralia','gallatin','stevens point','san bruno','burke','kings lynn','north fort myers','egg harbor','hicksville','west babylon','edmonds','apache junction','oakley','hutchinson','cortlandt','linden','puyallup','urbana','beverly','statesboro','hobbs','mcminnville','schertz','bell gardens','greenock','oviedo','odenton','grove city','campbell','wentzville','north brunswick','woonsocket','la quinta','weslaco','zanesville','newnan','shakopee','catonsville','rancho palos verdes','mableton','mount laurel','coppell','linton hall','moline','penn hills','delaware','shelton','greenacres','westerville','manassas','newbury','kearny','los banos','hempfield','spanish fork','belleville','maplewood','wilkes-barre','kingswood','pottsville','bury saint edmunds','bluefield','fitchburg','cedar falls','buffalo grove','jamestown','woodlawn','teaneck','ramsgate','clarksburg','royal palm beach','covington','coram','friendswood','indian trail','woburn','the acreage','holyoke','montclair','south valley','torrington','cedar city','marlboro','san gabriel','hallandale beach','crystal lake','calexico','lake oswego','muskogee','romeoville','plant city','keizer','manalapan','new berlin','chelsea','la puente','roy','security-widefield','marlborough','milton',\n",
    "    'aberdare','hillsborough','issaquah','waipahu','essex','bartlesville','streamwood','annapolis','carol stream','asheboro','culver city','kalispell','lynnwood','mooresville','brookfield','crestview','horizon west','clinton','moses lake','new castle','olive branch','sun city','frankfort','winslow','groton','northglenn','duncanville','great yarmouth','tonbridge','hurst','clermont','fort lee','pacifica','lake worth','glenrothes','kendall west','chorley','land o lakes','eagle mountain','herne bay','reynoldsburg','rosenberg','martinez','pleasant grove','la presa','bishops stortford','severna park','huber heights','stanton','east meadow','menomonee falls','granbury','waxahachie','valrico','mission bend','holly springs','butler','albertville','egypt lake-leto','ossining','stirling','cottage grove','kailua','st marys','bletchley','mechanicsville','richmond west','cleburne','valley stream','hanover park','oswego','airdrie','navarre','oregon city','winter springs','parkland','pahrump','port talbot','carpentersville','penfield','wildomar','greenfield','braintree','rock island','south miami heights','evans','haverstraw','west fargo','llanelli','mount juliet','san juan','oakton','aventura','owasso','commack','park ridge','foley','new albany','benton','clifton park','bettendorf','yorktown','dunedin','hilliard','merritt island','phenix city','addison','west hollywood','oakville','tucker','moorpark','richfield','monrovia','kearns','oak creek','lincoln park','claremont','post falls','peachtree city','lauderdale lakes','natick','french valley','galloway','ewing','gillette','tooele','trumbull','prattville','woodburn','watertown town','calumet city','san juan capistrano','foothill farms','falkirk','elmont','andover','temple city','cooper city','el mirage','meadow woods','lagrange','la vergne','guilderland','carrollwood','junction city','inver grove heights','pennsauken','chillum','randallstown','bell','gahanna','riviera beach','accrington','wildwood','upper arlington','westmont','bridlington','oak harbor','olney','manhattan beach','new city','owings mills','la porte','freehold','englewood','east point','ewell','deland','pleasant hill','orangevale','merrillville','stow','buenaventura lakes','san luis','morecambe','oildale','calhoun','leawood','menlo park','sun prairie','dakota ridge','arcata','grantham','glastonbury','lockport','pullman','exmouth','boardman','nacogdoches','kearney','vestavia hills','north ridgeville','socorro','randolph','norristown','montgomery village','hitchin','firestone','goshen','butte','russellville','dartmouth','grass valley','university city','midvale','golden glades','kennesaw','adelanto','ken caryl','university place','douglasville','laramie','lake stevens','foster city','valparaiso','fairborn','estero','mason','cottonwood heights','kaneohe','sonoma','lichfield','beverly hills','galesburg','warsaw','san dimas','glendale heights','dana point','riverhead','falls','midlothian','alamogordo','alabaster','pikesville','fair oaks','deer park','woodridge','bridgeton','greer','springville','copperas cove','american fork','matthews','abingdon','trowbridge','woodstock','eastchester','northbrook','west little river','fair lawn','huntington station','fairmont','ridgecrest','lower makefield','motherwell','massillon','spanaway','north providence','starkville','warminster','clarence','harker heights','elk grove village','kaysville','lawndale','dumfries','southlake','ferry pass','savage','brighouse','bethel park','wigston magna','mount lebanon','princeton','dania beach','lower macungie','windsor','east lake','college park','coos bay','smithfield','clearfield','liberty','eastpointe','franklin square','pekin','westlake','uniondale','chillicothe','juneau','la verne','prairieville','placerville','bel air north','manlius','redan','martinsville','pueblo west','radnor','garfield','fallbrook','willingboro','ecclesfield','wisbech','hopkinsville','south riding','centereach','milledgeville','parkville','sherwood','garner','key west','dracut','miami lakes','petersburg','north olmsted','kahului','wheat ridge','fruit cove','cibolo','alliance','banning','laguna hills','central islip','rutherglen','saint neots','falmouth','ridley','orcutt','naugatuck','eldersburg','tewksbury','mundelein','san pablo','rexburg','needham','chichester','nogales','nicholasville','goleta','opelika','newburgh','algonquin','marrero','burlingame','cranberry','aiken','north andover','lawrenceville','beverley','winter park','lake magdalene','granger','wooster','fountain','brooklyn center','south kingstown','kerrville','barstow','ross','crown point','city of orange','lakeside','deptford','north huntingdon','gurnee','orangeburg','holladay','fuquay-varina','chamblee','wishaw','carney','peru','sterling','upper merion','cornelius','north tonawanda','long branch','harpenden','newington','santa paula','los gatos','whitstable','south lake tahoe','san carlos','saratoga','los altos','ballwin','atascadero','north royalton','somerset','seguin','hampden','fortuna foothills','milford mill','stockbridge','east liverpool','rahway','madison heights','williston','bay shore','eagle','westchester','maryville','walnut','mamaroneck','suisun city','garden city','west falls church','north chicago','winona','rotterdam','drexel heights','ukiah','atwater','golden gate','highland park','hermiston','orchard park','tredyffrin','pittsford','central','east lake-orient park','chicago heights','east palo alto','johnston','norwood','east fishkill','glenville','bromsgrove','vernon','newberg','voorhees','lewes','north attleborough','port chester','oak ridge','cheshire','crofton','laplace','cambuslang','seatac','raytown','paragould','graham','southgate','west warwick','harrison','niles','fernandina beach','mount olive','big spring','bella vista','morrisville','stanford le hope','casselberry','wellesley','east haven','plattsburgh','wasco','hertford','south laurel','fleming island','belle glade','stoughton','lake in the hills','agawam','wallkill','shirley','burton','chili','geneva','schererville','west springfield','austintown','nutley','mccandless','shamokin','new iberia','gates','vineyard','zionsville','vestal','short pump','lumberton','perry hall','benicia','oakleaf plantation','rockledge','saugus','monterey','converse','granite city','bearsden','yukon','sonora','shaler','branford','melrose','westport','billericay','mehlville','wisconsin rapids','galt','hutto','bixby','drexel hill','hobart','west windsor','oakdale','sunbury','summerlin south','new smyrna beach','tualatin','forest hills','fridley','newtown','east chicago','kirkwood','sanger','morgan city','ramsey','ruston','jeffersontown','glen ellyn','isla vista','canon city','monticello','ashtabula','temescal valley','mint hill','danvers','whitehall','neptune','mililani town','statesville','jarrow','witney','gloversville','gladstone','queensbury','garfield heights','stratford-upon-avon','imperial beach','seneca','bayonet point','millville','monroeville','st helens','bergenfield','new windsor','ladera ranch','horn lake','east windsor','prior lake','huntley','maple valley','easton','oak forest','pemberton','glen cove','indiana','shoreview','dodge city','colleyville','wilmette','plum','bernards','mchenry','waterville','thetford','shaker heights','citrus park','new milford','reisterstown','brownsburg','chaska','aldridge','ilchester','maywood','shelby','maryland heights','seaford','magna','xenia','belmont','allen park','mason city','new lenox','hanahan','kinston','searcy','new london','west islip','west chicago','kiryas joel','lemon grove','lindenhurst','springettsbury','mcdonough','west linn','cortland','lemoore','alvin','ocean','waynesboro','marshalltown','wappinger','west whittier-los nietos','leisure city','lower providence','thomasville','temple terrace','university park','norco','newton mearns','immokalee','vernon hills','pearl','bethany','marquette','horsham','sedalia','bessemer','plainview','batavia','west milford','chanhassen','east grinstead','cabot','vicksburg','upper dublin','clydebank','brawley','neenah','snoqualmie','hercules','mahwah','lake city','paramus','okeechobee','north kingstown','soledad','wethersfield','muscatine','boone','moscow','cliffside park','sebastian','northport','natchez','twentynine palms','holt','burntwood','east st louis','sachse','paris','haines city','cave spring','merrimack','superior','west odessa','medina','barberton','espanola','londonderry','dix hills','rock springs','south windsor','mercer island','heber','white bear lake','laurel','marshfield','shenley brook end','holbrook','bay point','lochearn','green','wall','cloverleaf','owatonna','coulsdon','pooler','ewa gentry','farnham','south salt lake','tarpon springs','edgewood','san lorenzo','bluffton','sevierville','forest grove','sun city west','south portland','ruskin','denison','el cerrito','keystone','moon','bishop auckland','longbridge','coral terrace','claremore','homewood','upminster','hudson','columbine','south pasadena','canyon lake','kingsville','forest city','bainbridge island','dedham','caledonia','de witt','champlin','edwardsville','south bradenton','fairland','elk river','rosemount','fountain hills','rhyl','belvidere','middle river','walpole','muskego','hazelwood','scottsbluff','rockaway','ridgewood','yucca valley','ridgefield','branson','whitehaven','balch springs','rainham','timberwood park','de pere','socastee','susquehanna','terrytown','wilsonville','clayton','brookings','riverbank','north laurel','walker','wyandotte','grandview','forest lake','middleborough','chesapeake beach','palm city','simsbury','swatara','south elgin','auburn hills','baldwin','north tustin','melrose park','ardmore','palm tree','norton shores','kernersville','windham','sugar hill','herndon','emporia','prosper','rockville centre','palmetto bay','suitland','avon lake','lathrop','loma linda','watauga','homer glen','tifton','dinuba','east hempfield','bloomingdale','ashland','opelousas','camas','harvey','trotwood','west memphis','collinsville','mequon','ellensburg','ottumwa','chantilly','shelbyville','westford','orchards','san fernando','peekskill','port angeles','mill creek east','sun city center','inkster','ponca city','camillus','tysons','west melbourne','faribault','san benito','fort washington','lincolnton','halfmoon','simpsonville','scotch plains','waverly','baileys crossroads','fishkill','okemos','upper macungie','upper moreland','ridgeland','plymstock','elmwood park','north platte','charles town','waukee','south plainfield','wadsworth','tumwater','fairfax','cranford','candler-mcafee','venice','rickmansworth','wright','littleover','arbroath','lincolnia','westchase','upper providence','edgewater','north potomac','pelham','corsicana','seal beach','fort dodge','dunkirk','calabasas','chalmette','oadby','north augusta','palm river-clair mel','mount pocono','marple','farragut','jenks','palatka','huntingdon','coronado','north haven','valinda','centerville','droylsden','van buren','greeneville','waycross','half moon bay','hingham','belton','jacksonville beach','acton','north lynnwood','ilion','rosemont','seymour','newton abbot','madisonville','romulus','cudahy','copiague','winter gardens','leland','bishopbriggs','rolling meadows','wekiwa springs','northdale','fort hood','benbrook','zion','montrose','hialeah gardens','carteret','arnold','avon','west puente valley','loves park','yarmouth','vero beach south','lisle','greenbelt','stoneham','granite bay','dickinson','kenmore','allison park','monsey','plainsboro','rockingham','west goshen','frederickson','willoughby','mustang','roxbury','patterson','bathgate','gallup','radcliff','market harborough','west rancho dominguez','blue island','crystal','pace','marshall','laguna beach','webster groves','acworth','griffin','willowbrook','morton grove','lysander','keene','marina','solon','barnegat','new brighton','mandan','elizabeth city','harriman','ives estates','stratton saint margaret','fairhope','cottage lake','machesney park','braidwood','hurricane','onondaga','wareham','trussville','corcoran','meadville','landover','happy valley','east peoria','westerly','hopewell','fort walton beach','nixa','munster','christiansburg','anthem','roselle','the crossings','formby','warrensburg','kihei','millbrae','florida ridge','silver firs','dolton','duncan','brent','northfield','sequim','south ockendon','lyndhurst','prairie village','kuna','coralville','fort mill','morris','niskayuna','rose hill','litherland','lutz','taylors','roanoke rapids','guilford','raymore','ensley','mukwonago','east patchogue','pickerington','arvin','southold','raritan','lino lakes','corinth','naples','west carson','maple heights','unity','lealman','gardner','union hill-novelty hill','peters','hayesville','siloam springs','east hampton','piqua','fish hawk','hillside','port hueneme','summit','secaucus','golden valley','jasmine estates','renfrew','camp springs','new hartford','lennox','sheldon','sunny isles beach','rancho san diego','yate','massapequa','darien','shafter','eastmont','katy','brownwood','del city','north bay shore','silverdale','kapolei','allendale','lower','perrysburg','lewistown','hamtramck','truro','bellview','biddeford','somers','mcnair','villa park','fernley','elkridge','mukilteo','east pennsboro','atoka','prichard','le ray','hays','kirkintilloch','montville','easley','brambleton','darton','palmer','mountlake terrace','ramona','minster','owosso','king of prussia','debary','eustis','south euclid','south holland','palm valley','ludlow','north plainfield','sapulpa','duarte','battle ground','stephenville','amsterdam','park forest','fort atkinson','hazel dell','carrboro','bardstown','east ridge','elko','gaffney','sun valley','west deptford','sidney','bonney lake','martha lake','little egg harbor','bothell west','ballenger creek','rolla','omagh','west pensacola','cockeysville','jefferson','pleasant prairie','woodlesford','sweetwater','st andrews','milwaukie','bryant','salmon creek','hyde park','kill devil hills','north salt lake','apollo beach','cornelia','suwanee','new hope','wade hampton','green valley','mill creek','universal city','lorton','clemmons','rosamond','bear','musselburgh','dyersburg','manor','oneida','hunters creek','holiday','penzance','dixon','leek','golden','olean','leigh-on-sea','grayslake','north bellmore','palisades park','south milwaukee','havelock','lake ronkonkoma','east moline','yorkville','maesteg','logansport','north ogden','south el monte','dumbarton','lynn haven','ferguson','willmar','alice','swansboro','marblehead','murphy','culpeper','berlin','ozark','american canyon','papillion','moorestown','the dalles','columbia heights','barre','amherst center','newmarket','crest hill','punta gorda','neabsco','poplar bluff','ennis','coolbaugh','tukwila','prunedale','lomita','payson','mountain brook','bellshill','glassboro','bayshore gardens','sandwich','new canaan','ely','shenandoah','buckingham','linda','muhlenberg','agoura hills','east hemet','libertyville','durango','east northport','howard','monmouth','ypsilanti','rocky hill','mokena','pleasantville','affton','millburn','bartow','mead valley','miamisburg','dorchester','merrick','escanaba','selden','bayou cane','mililani mauka','snellville','sulphur','south st paul','oregon','middleton','ferndale','west chester','forest park','la canada flintridge','hauppauge','safford','antrim','rocky river','south san jose hills','el reno','saco','fairwood','west st paul','valley','orinda','cullman','alamo','sand springs','vernal','laurinburg','painesville','lake zurich','west hempstead','upper allen','hazlet','rosedale','ottawa','bourne','meadowbrook','casa de oro-mount helix','lake shore','parma heights','south whitehall','old jamestown','makakilo','tahlequah','brockport','norton','rockport','upper st clair','franconia','front royal','west mifflin','la crescenta-montrose','somerton','blythe','southbury','bethel','horizon city','davyhulme','eloy','brigham city','murrysville','brainerd','rio rico','central falls','haslett','tullahoma','anna','goole','south burlington','north liberty','schofield barracks','lake butler','vincennes','sienna plantation','holtsville','abbeville','bourbonnais','syosset','lynbrook','matteson','angleton','lower allen','castaic','canby','wendell','laconia','great linford','silverthorne','altamont','hermosa beach','sheridan','durant','sylvania','corning','arbutus','white oak','peterhead','pinole','erlanger','sherrelwood','mineola','whitpain','stevenson ranch','liberal','cameron park','pinecrest','horseheads','evergreen park','lower southampton','tiffin','sudbury','mount airy','broadview heights','frimley','cirencester','westbrook','saugerties','holden','monkseaton','red bluff','westborough','fox crossing','mckeesport','limerick','stroud','bellaire','southbourne','onalaska','waterford','uwchlan','springboro','sartell','badger','five corners','mcalester','la follette','terrell','natchitoches','twinsburg','central point','seminole','coldwater','owego','west manchester','ware','st john','point pleasant','grafton','cimarron hills','east lyme','scituate','sparta','alsip','port isabel','bellwood','marinette','north valley stream','broughty ferry','ansonia','west whiteland','deerfield','maple shade','creve coeur','seabrook','eastwood','berea','cocoa','moultrie','avenel','sudley','anacortes','ebbw vale','winthrop','rancho mirage','sharon','gibsonton','lynden','north massapequa','gautier','mayfield heights','breaux bridge','hopkins','wilton','defiance','stonington','iron mountain','altus','bryn mawr-skyway','uvalde','brushy creek','north amityville','brook park','pembroke','middle','wallingford center','sunnyside','almondbury','towamencin','world golf village','sycamore','franklin farm','chowchilla','ronkonkoma','rutherford','hadleigh','merrifield','newburyport','idylwood','kilgore','radford','palestine','whitestown','crawfordsville','fulwood','boerne','hyattsville','lake placid','st michael','east goshen','maumelle','iselin','menomonie','southeast','wheatfield','rutland','imperial','otsego','st matthews','berkhampstead','round lake','oxon hill','beeville','north wilkesboro','goffstown','north aurora','lithia springs','bon air','bensenville','eastlake','beaver dam','safety harbor','mattoon','macomb','north druid hills','west columbia','sunland park','estelle','mountain house','san carlos park','rockland','zachary','kingsland','marco island','ingleside','whitemarsh','wantagh','lenoir','burke centre',\n",
    "    'perry','hannibal','menasha','oak grove','scarsdale','brenham','ocean springs','woodcrest','white settlement','five forks','knightdale','ada','crossville','beltsville','colonia','tonypandy','portchester','moraga','midway','steubenville','tavares','belgrade','foxborough','takoma park','lackawanna','melville','wailuku','buckhall','el dorado','south hadley','harwich','greene','valle vista','cedar mill','albert lea','maitland','fern down','gretna','hatfield','hinsdale','santa fe springs','franklin park','bethpage','east massapequa','plainville','barrhead','blooming grove','kirksville','nipomo','hopkinton','gorham','butner','tillmans corner','upper grand lagoon','anoka','pinewood','amesbury','bonnyrigg','tallmadge','kingstowne','nanuet','dumont','maryland city','shorewood','vero beach','clemson','country walk','spanish lake','lake mary','manassas park','woodmere','lakeport','knik-fairview','martinsburg','tinton falls','woodhouse','south houston','doylestown','jenison','redland','godfrey','fairview','pendleton','pecan grove','nederland','colonial heights','willimantic','harborcreek','ocean acres','la marque','versailles','lemont','sayre','lindenwold','clive','oneonta','shippensburg','killingly','pampa','mckinleyville','south ogden','glen parva','albemarle','coalinga','north canton','la vista','ashwaubenon','dickson','north adams','waxhaw','massapequa park','north babylon','wahiawa','bastrop','ammon','yelm','lansdale','parole','hybla valley','glenvar heights','palos hills','camano','streator','wyckoff','heysham','east lampeter','sylacauga','oconomowoc','fort hunt','phoenixville','east cleveland','mountain home','americus','republic','glassmanor','upper chichester','morriston','lemay','buda','high blantyre','roosevelt','cutlerville','calverton','southbridge','myrtle grove','lake st louis','seagoville','maltby','crescent city','live oak','picayune','haslemere','north myrtle beach','bemidji','chestnuthill','goodlettsville','fazakerley','ham lake','fairburn','lake wales','new port richey','upper saucon','truckee','lindsay','aston','north decatur','cohoes','saint andrews','mccomb','highland village','glenmont','whickham','bull run','grangemouth','auburndale','keynsham','scott','wolcott','el segundo','holmdel','denville','mercedes','bostonia','artesia','norcross','burrillville','northbridge','morganton','swansea','delran','west hempfield','murraysville','donaldsonville','solvang','los osos','south orange village','groveton','geddes','lock haven','vienna','country club hills','streetsboro','jasper','eden','pearl river','douglas','kilwinning','crowley','highland springs','cinco ranch','wolf trap','chickasha','kings park','groveland','ojus','east riverdale','cinnaminson','river falls','four corners','hernando','hillcrest heights','ripon','adelphi','penn','denby dale','rio linda','bluffdale','east greenbush','storrs','hazel park','burley','donna','stanford','red wing','fallon','fairview heights','celina','gun barrel city','north whitehall','morton','port jervis','red hill','kaukauna','fort thomas','mebane','mount holly','east san gabriel','conyers','centerton','east longmeadow','stuart','sikeston','sulphur springs','vincent','basford','boulder city','troutdale','ellington','mount clemens','fairview park','discovery bay','stallings','east barnet','westwood','barrington','center point','canyon','washougal','bridgeview','johnstone','cherryland','griffith','villa rica','fairhaven','alma','fort leonard wood','lady lake','welby','indianola','phelan','lakeway','dyer','archer lodge','niceville','clearlake','fillmore','hood river','south hayling','spanish springs','penicuik','bingley','adwick le street','new river','sayville','malta','readington','walnut park','millbrook','carthage','west lampeter','prospect heights','king city','opa-locka','pataskala','sunset','grandville','hibbing','sarasota springs','laguna woods','hope mills','floral park','sierra vista southeast','white center','wilmington island','upper gwynedd','easthampton','patton','humble','parkway','duxbury','port washington','east rancho dominguez','circleville','longmeadow','south river','tiverton','white','powder springs','flowing wells','clark','purcellville','northallerton','greenwood village','middle smithfield','eggertsville','farmingville','andrews','newberry','blytheville','shively','suffield','north arlington','mitchell','ince-in-makerfield','west norriton','mcfarland','porthcawl','palmetto estates','tanque verde','nailsea','elkton','parlier','three lakes','south fayette','oswestry','fate','riverdale','fort mohave','chubbuck','west university place','north reading','la grange','potsdam','longwood','swinton','overland','dunn','houghton','ladson','blackfoot','buford','matlock','lake geneva','la grande','saffron walden','narragansett','east highland park','glen allen','seven oaks','groves','mastic','hermitage','forks','cloverly','talladega','belvedere park','seekonk','broxburn','hayden','middleburg heights','la palma','avocado heights','hilltown','cumru','pacific grove','asbury park','pulaski','northview','south middleton','moreau','seacombe','bellmore','berkley','lower salford','westbury','stony point','grosse pointe woods','hueytown','aldine','wombwell','stanley','bradley','southchase','wilkinsburg','kerman','hugo','fords','damascus','south farmingdale','mineral wells','chellaston','bay village','pequannock','sullivan','elk plain','galion','dentsville','grovetown','great bend','gantt','rossville','tredegar','bennington','west park','north new hyde park','west richland','park city','oldsmar','washington court house','northborough','coto de caza','whitman','swallownest','upper southampton','depew','susanville','belchertown','swampscott','winkfield','vandalia','willow grove','ocean pointe','fort carson','wyke','mantua','beech grove','hewitt','thompson','tehachapi','astoria','taft','whitewater','clarksdale','west lealman','new freedom','alpine','victor','yankton','new cassel','salem lakes','hampton bays','yazoo city','mount washington','california','ilkley','grimes','bellair-meadowbrook terrace','lamont','hot springs village','st simons','campbellsville','ledyard','boness','penrith','teignmouth','nocatee','tonawanda','banbridge','larkhall','bodmin','lemon hill','kemp mill','holliston','conwy','prestwick','calera','tolland','troon','youngsville','royse city','azalea park','hartsville','worthington','north fayette','melksham','pierre','southern pines','hershey','saraland','williamstown','wilbraham','paradise valley','pewaukee','port glasgow','falls church','weehawken','gonzalez','port orchard','muscle shoals','jennings','connersville','royal kunia','thorpe saint andrew','metuchen','haddon','grain valley','mount dora','skippack','dryden','deysbrook','little falls','branchburg','fraser','ewa beach','sun lakes','hartselle','east bridgewater','thonotosassa','fostoria','halawa','tenafly','beekman','north strabane','chaparral','scottsboro','lockhart','thibodaux','alloa','hetton le hole','bradley gardens','greenlawn','robbinsdale','clewiston','north fair oaks','chippewa falls','robbinsville','ocean view','bridgetown','summerfield','hollins','alexander city','kidbrooke','hooksett','toppenish','malone','north auburn','mill valley','tamaqua','destin','forfar','salida','kings park west','caln','maldon','stone ridge','east wenatchee','phillipsburg','jefferson valley-yorktown','rincon','california city','taos','raynham','north branford','hopatcong','hidalgo','mackworth','gardendale','hythe','new paltz','hawaiian gardens','norridge','mashpee','sauk rapids','greendale','new franklin','ionia','pineville','iona','greensburg','middleburg','willowick','chesterton','steamboat springs','childwall','sweden','black forest','fort payne','cherry hill mall','fruitville','lakewood park','callaway','oatfield','pomfret','waunakee','wixom','luling','pell city','waimalu','pecos','bay st louis','belle chasse','havre de grace','east norriton','diberville','cayce','effingham','santaquin','hobe sound','uxbridge','wauchula','colesville','reidsville','plumstead','beacon','dumas','raymondville','olympia heights','new fairfield','north mankato','shawangunk','dennis','glenpool','oil city','streetly','hammonton','new kingman-butler','chicago ridge','deming','big rapids','miami springs','fulshear','cromwell','south venice','allouez','baraboo','jericho','collingswood','el sobrante','cahokia','oak island','gramercy','atlantic beach','teays valley','ephrata','saddle brook','richmond hill','brandermill','cosham','forrest city','sun village','moorestown-lenola','wayland','fergus falls','whitefish bay','rosyth','bexley','conneaut','nether providence','thomaston','levelland','palmetto','harper woods','piney green','hawick','fort campbell north','millbury','milford haven','kidlington','princeton meadows','hickory hills','robinson','beach park','east milton','sharonville','west freehold','middlesex','spring creek','st james','maumee','lawrenceburg','brevard','adams','helensburgh','soddy-daisy','moberly','port clinton','waianae','vadnais heights','wood dale','brecksville','new providence','whitby','roselle park','shiloh','rantoul','colonial park','broadlands','hazel crest','price','labelle','hilsea','charlton','alpena','rocky point','elizabethton','wauconda','lake forest park','avenal','jensen beach','fruita','homosassa springs','middlesborough','red oak','olivehurst','big bear city','grover beach','fortuna','north valley','lindale','verona','lakeland south','short hills','huron','sault ste marie','dalkeith','brookside','south park township','south park','mountain park','carpinteria','glenn heights','powell','artondale','glenn dale','western springs','okmulgee','deridder','egg buckland','azle','vidalia','moss point','fort morgan','dardenne prairie','river ridge','medway','mounds view','carluke','berkeley heights','solana beach','nesconset','richton park','palos verdes estates','woodinville','linlithgow','manorville','bellefontaine','timberlake','dingle','channahon','port royal','bensville','east islip','new ulm','walsall wood','southwick','baker','cedar lake','globe','fraserburgh','la grange park','warrenville','lower moreland','hockessin','rendon','sandpoint','hamworthy','coolidge','north palm beach','schodack','pine','warrensville heights','plover','mahomet','wollaston','lone tree','montgomeryville','east greenwich','south daytona','villas','goodmayes','coatesville','moody','mcpherson','fort lewis','davidson','suamico','san marino','spring garden','fort drum','west bradford','amity','lakeland village','galashiels','bellefonte','gornalwood','forest hill','vail','cypress lake','gladeview','monfort heights','shenley church end','braselton','lapeer','sugarland run','dunmore','kittanning','vinings','new carrollton','fallsburg','woolton','verde village','ridgefield park','cliftonville','lynnfield','irondale','lake wylie','sturgis','loganville','lakeland north','west carrollton','finneytown','ridge','glen carbon','key biscayne','new hanover','medfield','lake tapps','spearfish','federal heights','cedartown','cloquet','weigelstown','lilburn','south sioux city','syston','wawarsing','university heights','milngavie','college','lahaina','terryville','othello','gulf shores','wilton manors','yulee','jupiter farms','tarboro','wickliffe','mercerville','la homa','borger','bonita','flitwick','broussard','herrin','choctaw','manvel','windsor locks','los alamos','commerce','taylorville','port neches','prineville','sutton on hull','saltcoats','horndean','white house','clarkston','keokuk','north walsham','st ann','mastic beach','justice','german flatts','elfers','lewisboro','selston','fulton','minneola','oskaloosa','grand terrace','panama city beach','lantana','woodland park','pennsville','muscoy','annapolis neck','armadale','woolwich','endicott','cheney','palos heights','cedar grove','abergavenny','north st paul','ocean pines','cherry creek','wolverton','irmo','cecil','san anselmo','ulster','woodhaven','cromer','bickenhill','trophy club','cornwall','shepherdsville','waconia','stony brook','st peter','kingsbury','kelso','blunsdon saint andrew','north smithfield','elkhorn','gatesville','goldenrod','virginia','chino valley','newington forest','blue ash','lewisburg','tyngsborough','holly hill','lansdowne','minnehaha','ovenden','new baltimore','lye','forestville','kewanee','orange city','lakeland highlands','patchogue','winnetka','markham','oak hills','leon valley','joppatowne','west plains','tonyrefail','delhi','giffnock','new kensington','new mills','thatto heath','beatrice','poquoson','larkspur','cottonwood','mays chapel','shady hills','aberystwyth','lincolnwood','arkansas city','north castle','elon','massena','west monroe','batesville','grenada','birstall','north union','ishpeming','jesup','ringwood','overlea','speedway','enumclaw','neosho','wells branch','north greenbush','rehoboth','lincoln city','north merrick','highlands','northlake','eatontown','home gardens','new garden','tranent','webb city','woodward','lower pottsgrove','melissa','brock hall','james island','kingsburg','pepperell','platteville','tring','lovington','emeryville','beaconsfield','little chute','bainbridge','bridgnorth','sedro-woolley','minden','fenton','grantsville','middle valley','union park','south charleston','fairfax station','holiday city-berkeley','east bethel','festus','miller place','rapho','spring lake','folkston','macedonia','warsop','carnot-moon','jerome','prairie ridge','hasbrouck heights','hamilton square','moncks corner','goulds','north lebanon','somersworth','bordentown','red bank','ellwood city','glenwood springs','tucson estates','macclenny','echelon','east grand rapids','winfield','west deer','camp pendleton south','spencer','newport east','portales','south miami','waimea','green river','tremonton','upper','valley falls','robertsville','rushall','delavan','snaresbrook','port lavaca','hoyland nether','malvern','cadillac','clawson','lake station','healdsburg','east renton highlands','torton','east whiteland','brown deer','trentham','crestwood','grants','wrentham','malibu','oswaldtwistle','bucyrus','valencia west','viera east','newman','naranja','tomball','florida city','wanaque','scotts valley','view park-windsor hills','robstown','lake los angeles','elma','excelsior springs','diamond springs','kalaoa','north wantagh','carver','cordele','mendota','athol','eufaula','glen rock','cocoa beach','clute','tamalpais-homestead valley','port st john','endwell','elland','bothell east','bryn','guthrie','dranesville','el campo','accokeek','cowdenbeath','griswold','henley on thames','dingman','gold canyon','sunninghill','cedarburg','claiborne','abertillery','putnam valley','north middleton','beachwood','seven hills','upper montclair','elk city','scottdale','silver city','upper uwchlan','alum rock','mitchellville','spirit lake','brattleboro','lower gwynedd','mexico','blundellsands','archdale','brislington','westwood lakes','bogalusa','center','elwood','yeadon','florham park','wallington','trinity','mack','roma','mountain top','port salerno','magalia','waipio','magnolia','emmaus','nanakuli','mamakating','sandridge','show low','maili','river edge','woods cross','byram','north bellport','fort bliss','kennebunk','lyndon','signal hill','hailey','scottsburg','schiller park','lunenburg','bayou blue','los alamitos','destrehan','minooka','gardere','cascades','buckhurst hill','gardnerville ranchos','collegedale','harrow weald','snyder','tarrytown','viera west','wyandanch','mount sterling','granby','ravenna','carnoustie','catskill','bellmawr','angola','coshocton','knowsley','mendota heights','haysville','tega cay','dent','haddonfield','leatherhead','north vernon','hipperholme','travilah','kaneohe station','winton','burkburnett','lighthouse point','eunice','burtonwood','greentree','largs','westview','kingsnorth','dubois','lamesa','north logan','waupun','saint ives','big lake','hillsdale','broomall','gloucester city','hawaiian paradise park','arizona city','camp verde','weddington','stonehaven','poulsbo','nantucket','stayton','red hook','fuller heights','hexham','mango','piedmont','fitzgerald','satellite beach','rossmoor','guttenberg','mayfield','lanham','franklin lakes','gulf gate estates','town and country','mount sinai','princess anne','jefferson hills','lindon','maysville','south yarmouth','campton hills','rifle','bennettsville','walden','lexington park','canandaigua','merriam','lower burrell','valley center','east hanover','silverton','wahpeton','bolivar','storm lake','rostraver','whitchurch','orange cove','lake grove','moss bluff','norwell','larbert','grosse pointe park','grand haven','two rivers','dobbs ferry','tavistock','suffern','munhall','lake morton-berrydale','loyalsock','browns mills','guymon','pike creek valley','pompton lakes','millsboro','kings mountain','sussex','oakham','ballston','pearsall','ocean city','hellesdon','west point','gonzales','liberty lake','chalco','willistown','saddlebrooke','heath','vermillion','wantage','westtown','pocono','cusseta','walker mill','elkins','halfway','great harwood','inverurie','soquel','fort meade','lake monticello','whitburn','soham','lowes island','west caldwell','bacliff','essex junction','winchendon','la riviera','pleasant view','wasilla','forest','earlestown','river forest','cheval','the pinery','methil','panthersville','smithville','mount kisco','sierra madre','wooburn','lower saucon','totowa','parkstone','hanson','orono','north branch','winnemucca','castle pines','burr ridge','galena park','maynard','ludington','stannington','bellmead','little ferry','muskegon heights','mapleton','fruitland park','arkadelphia','rochelle','gig harbor','farmersville','darby','gateway','chenango','raceland','sweet home','hatch end','deforest','avon park','knowle','van wert','ardrossan','hornell','pacific','ketchikan','alamosa','toccoa','cookstown','saks','millington','ogdensburg','geneseo','wyomissing','petal','north lindenhurst','easttown','longbenton','atchison','highland city','kingsteignton','kapaa','wyndham','greencastle','three rivers','timonium','east cocalico','lincoln village','morro bay','wells','ironton','star','pasadena hills','acushnet','richmond heights','lloyd','san diego country estates','shenfield','roscoe','douglass','little canada','rosaryville','wapakoneta','doctor phillips','ryhope','martin','gifford','bernalillo','pine castle','cape canaveral','fairview shores','jacinto city','worth','tanaina','bedford heights',\n",
    "    'hull','fox lake','millstone','linthicum','fountain inn','kendallville','raymond','sumner','pine hill','shasta lake','lehigh','prestonpans','rodeo','vidor','new port richey east','bellefontaine neighbors','vermilion','south union','bonham','kennett','fort bragg','lyons','miami shores','east whittier','west hanover','gourock','sedona','south huntington','fort madison','stranraer','nanticoke','comstock park','broadstone','fredonia','helena-west helena','park forest village','forest acres','coal','vashon','arden hills','pine ridge','medulla','doraville','boulder hill','plattekill','cypress gardens','pebble creek','melvindale','sauk village','pella','lake stickney','lemington','box elder','middle island','great neck','fort lupton','gunbarrel','ellon','west haverstraw','fife','lehman','bound brook','fort william','somers point','gages lake','asbury lake','pike road','havre','snohomish','citrus','waynesville','glocester','clarion','kutztown','padbury','manville','southborough','bel air','warr acres','tipp city','struthers','waldwick','shawano','forres','progress','fairmount','old saybrook','warfield','cedar hills','le mars','kilsyth','cresson','standish','harrisonville','nolensville','wood river','friendly','charter oak','sleepy hollow','chapeltown','fair oaks ranch','north versailles','holmen','croydon','coweta','warrenton','southwater','progress village','waggaman','capitola','laurens','bull mountain','flat rock','quartz hill','molalla','scotchtown','alden','river vale','fort oglethorpe','euxton','del aire','alcoa','bishopstoke','lake arbor','garden acres','orland','helotes','nairn','bee ridge','key largo','timberlane','westphalia','wabash','east bradford','winterville','celebration','st albans','berwick','watervliet','alachua','kinnelon','ventnor city','colts neck','rockcreek','inwood','white city','emmett','sugar grove','river grove','south lebanon','pingree grove','fort irwin','ellisville','madera acres','gloucester point','marina del rey','brandywine','stonegate','brewster','carroll','port townsend','coffeyville','west perrine','lake barcroft','burtonsville','robertsdale','east rockaway','baker city','new hyde park','itasca','brookdale','mentone','little river','cody','choppington','kippax','conning towers nautilus park','westgate','helston','george mason','fort salonga','north bend','philipsburg','denham springs','scaggsville','corte madera','jewett city','cuero','budd lake','cobham','columbia city','kittery','blacklick estates','east aurora','rio vista','herkimer','philipstown','eidson road','west athens','prospect','plains','boaz','pleasant valley','chesapeake ranch estates','countryside','st francis','holualoa','east rutherford','fort valley','west tawakoni','marlton','bradwell','rio del mar','picture rocks','cameron','glenfield','fort stewart','port wentworth','yorkshire','aiea','hermantown','cold springs','keansburg','powdersville','la plata','merrill','bithlo','penn forest','chevy chase','hockley','wilmore','caernarfon','rainbow city','blackhawk','hope','roxboro','bishop','st pete beach','rice lake','north gates','alderwood manor','ecorse','harleysville','the village','boxley','eagle point','craig','willoughby hills','walterboro','hazle','white meadow lake','mount vista','silsbee','sturbridge','harvard','central city','tell city','lambertville','roxborough park','rye brook','reedsburg','shevington','dupont','hebron','mound','jessup','boiling springs','london colney','wakefield-peacedale','erwin','rigby','fort stockton','airway heights','parsons','townsend','lititz','marcy','siler city','platte city','aveley','woodfield','carencro','south normanton','sutton','ruidoso','south strabane','hondo','miles city','maidencreek','manistee','rayne','new richmond','dunblane','bladensburg','st stephens','hayle','amityville','tomah','francisville','hickam housing','navasota','horsell','flowood','pryor creek','broadwater','bardmoor','cairo','boonville','putnam','wilnecote','brownfield','hackettstown','stuarts draft','bay minette','golden hills','queensferry','sherborne','edwards','woodmoor','saline','st augustine shores','madras','claymont','stansbury park','rotonda','marlboro village','lenoir city','birch bay','hartland','waihee-waiehu','college place','zimmerman','freetown','newfane','wood-ridge','detroit lakes','fultondale','north college hill','cape elizabeth','cross lanes','benner','crigglestone','marathon','blackstone','bohemia','neshannock','towcester','cheat lake','harahan','washington terrace','sultan','muncy','madeira','anthony','gridley','kendall park','stevenston','walworth','girard','hillview','steger','sans souci','white marsh','spanish fort','lake elmo','bethalto','cloverdale','independent hill','mendon','crawford','good hope','basalt','ivins','wagoner','aberbargoed','woodlyn','south amboy','yatton','yaxley','rensselaer','pencoed','perkiomen','audubon','calimesa','dunn loring','flossmoor','beckett ridge','hooper','rathdrum','thief river falls','anaconda','murrells inlet','haddington','whitnash','monett','grinnell','jersey shore','grosse pointe farms','rapid valley','linganore','atmore','west caln','economy','berthoud','portlethen','san elizario','dillon','tiburon','sugarmill woods','northwest harborcreek','jeannette','sutherlin','picnic point','north codorus','bonhill','lanark','fort polk south','micco','chanute','beecher','leven','leisure world','north kensington','leonia','brewer','silver springs shores','weare','dunbar','woodway','oakbrook','valley cottage','lindstrom','cupar','blairgowrie','shiprock','st anthony','presque isle','east haddam','hamlin','farmingdale','manteno','lake mohawk','dexter','delta','mechanicsburg','albion','haiku-pauwela','skidaway island','lasalle','fairfield glade','waseca','murphysboro','plainedge','east nottingham','fallston','triangle','lacombe','felida','macedon','stony brook university','ferryhill','broughton astley','peebles','lake arrowhead','oakwood','sturgeon bay','forestdale','boonton','harrodsburg','sheffield lake','upper leacock','aledo','great cornard','sellersburg','blanchard','lisbon','southside','whitehouse','merrydale','south abington','caister-on-sea','pittsgrove','ohara','sandiacre','west haven-sylvan','innsbrook','holywell','evergreen','ifield','lenox','gresham park','poteau','old orchard beach','new prague','kodiak','aliquippa','lower swatara','cumnock','rhinelander','ville platte','olmsted falls','glencoe','orange park','canal winchester','absecon','glens falls north','palm beach','west donegal','topsham','north sarasota','collingdale','clanton','brimington','airmont','quakertown','esopus','annan','monson','citrus springs','frankfort square','west miami','wharton','new square','south kensington','canonsburg','clarendon hills','needles','pitman','rock falls','perkasie','cortez','seven corners','cape st claire','seneca falls','kirby','glenwood','crestline','jerseyville','new scotland','thompsonville','nevada','des peres','perryville','corrales','london grove','fort knox','fern park','edgewater park','binfield','greenbriar','coral hills','montesano','andalusia','newstead','westampton','incline village','glenshaw','cresskill','earlimart','hawthorn woods','middlebury','hoquiam','brigantine','swissvale','fishersville','kings grant','kennedale','buckie','matawan','monahans','north madison','prairie du sac','hampstead','canford cliffs','hyrum','richlands','ladue','alamo heights','schuylkill','reserve','orting','tuba city','signal mountain','orrville','east brandywine','elsmere','farmville','long hill','sanatoga','kalifornsky','green cove springs','solebury','white horse','perry heights','lake villa','guntersville','kirk of shotts','montvale','aspen','ione','litchfield','brooksville','west frankfort','indian harbour beach','lake park','lucas','conover','wetumpka','east grand forks','park hills','edgemere','rawlins','oakengates','succasunna','plumsted','bedwas','perryton','closter','st johns','west auckland','terrace heights','carlton colville','frostburg','rolesville','skewen','booneville','sallisaw','bersted','east york','sitka','oban','stuttgart','malverne','coxsackie','mystic island','cohasset','willow street','summit view','corona de tucson','bushkill','tuscumbia','tobyhanna','great billing','humboldt','barton','north londonderry','narborough','helena valley southeast','sunset hills','sand lake','university of virginia','audley','prien','pine lake park','west manheim','los altos hills','upper makefield','lake of the woods','congers','august','makaha','spring valley lake','bayport','savoy','fair lakes','tecumseh','north haledon','gaylord','aransas pass','ellicott','arab','fairless hills','highland heights','charlestown','fletcher','druid hills','baxter','hughenden','seffner','windermere','millersville','wimauma','miramar beach','gulf hills','buckhannon','kulpsville','west livingston','tallulah','glascote','midway city','bogota','garden city park','clover','petoskey','grandview heights','harwood heights','beaver falls','tillamook','oak hills place','westwego','flowery branch','holly','larkfield-wikiup','frostproof','west earl','dalhart','east donegal','garrison','denny','orosi','runnemede','bel aire','firebaugh','whitefish','lopatcong','mahtomedi','haledon','west vero corridor','floris','dormont','boxford','montague','mount joy','mcrae-helena','trinidad','kenton','carl junction','alondra park','southeast arcadia','kinderhook','tanfield','paw paw','paddock wood','skowhegan','colorado city','pawling','moundsville','brecon','cumberland hill','montecito','locust grove','buxton','half moon','lugoff','fort mitchell','conewago','honey brook','north weeki wachee','mammoth lakes','millis','spotswood','haddam','waynesburg','thomson','westlake village','castle shannon','north elba','cheviot','napoleon','radcliffe on trent','upper saddle river','mahopac','temperance','oberlin','twin lakes','lake norman of catawba','bramley','country club estates','kenilworth','schroeppel','gowerton','cortlandville','ellsworth','wedgefield','monona','south londonderry','goffs oak','center line','venice gardens','broadview park','pismo beach','beebe','milliken','black mountain','crestwood village','cam','niagara','meadow lakes','center moriches','port jefferson','middleport','eaton','tuskegee','south san gabriel','shinfield','rockwood','leesville','bucksburn','oradell','minnetrista','templeton','gering','kennedy','hazard','summit park','wistaston','gray','cherry valley','omak','vandenberg village','old colwyn','west dundee','blandon','monifieth','duvall','collier','ayer','vinton','joshua','oak hill','monument','croton-on-hudson','briarcliff manor','sodus','mount rainier','ystradgynlais','wickenburg','allegheny','selah','helena valley west central','applewood','kronenwetter','gilberts','bargersville','sudden valley','hollymead','rockmart','lake carmel','lockwood','lake dallas','rolling hills estates','north bay village','south cleveland','willits','skiatook','decorah','diamondhead','conshohocken','floresville','bedminster','ripley','chardon','morehead','mayo','menominee','pleasant hills','pahokee','ahuimanu','crete','loudoun valley estates','chestnut ridge','laurel hill','island lake','oak brook','exhall','hawkinge','mascoutah','brazil','north coventry','jennings lodge','paloma creek south','manhasset','lampasas','village green-green ridge','kensington','seasalter','fort belvoir','west boylston','laughlin','chartiers','aztec','st martin','la junta','newbold','southwest ranches','richland hills','harworth','baltimore highlands','willerby','thurso','columbiana','glastonbury center','temple hills','sheboygan falls','wytheville','hollis','hitchcock','catalina','bonner springs','long grove','camp hill','mansfield center','wilmington manor','topanga','downingtown','grand ledge','old forge','upton','lincolnshire','blair','frankley','jersey village','west long branch','flushing','fruitvale','lossiemouth','grand blanc','kinmel','bridge city','bow','woodlake','hastings-on-hudson','hardyston','bryans road','waterboro','sangaree','north cornwall','los fresnos','south weber']"
   ]
  },
  {
   "cell_type": "code",
   "execution_count": 251,
   "id": "e07e7c19-5057-4d31-85cf-af6f6f5e96e1",
   "metadata": {},
   "outputs": [],
   "source": [
    "states = [ 'ak', 'al', 'ar', 'az', 'ca', 'co', 'ct', 'dc', 'de', 'fl', 'ga','hi', 'ia', 'id', 'il', 'in', 'ks', 'ky', 'la', 'ma', 'md', 'me','mi', 'mn', 'mo', 'ms', 'mt', 'nc', 'nd', 'ne', 'nh', 'nj', 'nm','nv', 'ny', 'oh', 'ok', 'or', 'pa', 'ri', 'sc', 'sd', 'tn', 'tx','ut', 'va', 'vt', 'wa', 'wi', 'wv', 'wy']\n",
    "state_names = [\"alaska\", \"alabama\", \"arkansas\", \"american samoa\", \"arizona\", \"california\", \"colorado\", \"connecticut\", \"district \", \"of columbia\", \"delaware\", \"florida\", \"georgia\", \"guam\", \"hawaii\", \"iowa\", \"idaho\", \"illinois\", \"indiana\", \"kansas\", \"kentucky\", \"louisiana\", \"massachusetts\", \"maryland\", \"maine\", \"michigan\", \"minnesota\", \"missouri\", \"mississippi\", \"montana\", \"north carolina\", \"north dakota\", \"nebraska\", \"new hampshire\", \"new jersey\", \"new mexico\", \"nevada\", \"new york\", \"ohio\", \"oklahoma\", \"oregon\", \"pennsylvania\", \"puerto rico\", \"rhode island\", \"south carolina\", \"south dakota\", \"tennessee\", \"texas\", \"utah\", \"virginia\", \"virgin islands\", \"vermont\", \"washington\", \"wisconsin\", \"west virginia\", \"wyoming\"]\n",
    "countries = ['united states','united kingdom','japan','indonesia','india','philippines','brazil','south korea','china','mexico','egypt','russia','thailand','bangladesh','argentina','nigeria','turkey','pakistan','congo (kinshasa)','vietnam','iran','france','peru','angola','malaysia','colombia','tanzania','hong kong','chile','saudi arabia','iraq','sudan','spain','kenya','myanmar','canada','singapore','côte divoire','australia','south africa','morocco','afghanistan','jordan','germany','algeria','bolivia','ethiopia','kuwait','ukraine','yemen','guatemala','italy','north korea','taiwan','ecuador','madagascar','dominican republic','united arab emirates','uzbekistan','burkina faso','cameroon','ghana','azerbaijan','zimbabwe','cuba','cambodia','somalia','belarus','mali','venezuela','kazakhstan','syria','austria','malawi','romania','congo (brazzaville)','poland','belgium','zambia','hungary','guinea','uganda','oman','mongolia','serbia','new zealand','czechia','uruguay','bulgaria','honduras','mozambique','qatar','senegal','rwanda','libya','georgia','chad','denmark','mauritania','armenia','tunisia','kyrgyzstan','nicaragua','niger','liberia','haiti','sweden','nepal','eritrea','sierra leone','laos','israel','central african republic','panama','netherlands','togo','gabon','croatia','tajikistan','benin','sri lanka','norway','greece','burundi','finland','macedonia','moldova','latvia','jamaica','lithuania','macau','el salvador','djibouti','ireland','lebanon','paraguay','portugal','slovakia','estonia','switzerland','albania','turkmenistan','guinea bissau','south sudan','lesotho','cyprus','puerto rico','namibia','papua new guinea','mauritius','costa rica','slovenia','bosnia and herzegovina','the bahamas','martinique','equatorial guinea','botswana','suriname','timor leste','guyana','the gambia','reunion','gibraltar','montenegro','bahrain','curaçao ','guadeloupe','maldives','french polynesia','iceland','luxembourg','cabo verde','guam','comoros','swaziland','barbados','bhutan','new caledonia','fiji','solomon islands','trinidad and tobago','saint lucia','french guiana','belize','sao tome and principe','kosovo','bermuda','vanuatu','brunei','usa','uk']"
   ]
  },
  {
   "cell_type": "code",
   "execution_count": 240,
   "id": "f7e2be2f-308b-4f0e-bd90-8c79fea0d99b",
   "metadata": {},
   "outputs": [],
   "source": [
    "import string\n",
    "import re\n",
    "\n",
    "def clean_loc(text):\n",
    "    \n",
    "    text = str(text)\n",
    "    text = re.sub(\"[^a-zA-Z\\s]+\", \"\",text)\n",
    "    text = re.sub('[%s]' % re.escape(string.punctuation), '', text)\n",
    "    text = re.sub(\"\\d\", \" \", text)\n",
    "    \n",
    "    return text"
   ]
  },
  {
   "cell_type": "code",
   "execution_count": null,
   "id": "6b38e419-9eb2-46e3-a276-404afc5f4502",
   "metadata": {},
   "outputs": [],
   "source": [
    "for idx,row in loc_df.iterrows():\n",
    "    clean = clean_loc(row.loc['x_user_location'])\n",
    "    loc_df.loc[idx, 'clean_loctn'] = clean\n"
   ]
  },
  {
   "cell_type": "code",
   "execution_count": 252,
   "id": "c35c038b-2653-4bc2-91fd-ea0073615adf",
   "metadata": {},
   "outputs": [],
   "source": [
    "def id_location2(s): \n",
    "    loc_list = []\n",
    "    city = \"\"\n",
    "    state= \"\"\n",
    "    country = \"\"\n",
    "    s = s.split()\n",
    "    for i in range(len(s)):\n",
    "        s[i] = s[i].lower()\n",
    "        \n",
    "    print(s)\n",
    "\n",
    "    \n",
    "    for place in s:\n",
    "#         print(place)\n",
    "        if place in cities:\n",
    "            city = place\n",
    "#             print(city)\n",
    "        elif place in states:\n",
    "            state = place\n",
    "#             print(state)\n",
    "        elif place in state_names:\n",
    "            state = place\n",
    "#             print(state)\n",
    "        elif place in countries:\n",
    "            country = place\n",
    "#             print(country)\n",
    "        \n",
    "        loc_list = [city,state,country]\n",
    "    \n",
    "    return loc_list\n"
   ]
  },
  {
   "cell_type": "code",
   "execution_count": 239,
   "id": "5375216f-4ab0-4f46-bc4a-5d445eb96d57",
   "metadata": {},
   "outputs": [
    {
     "name": "stdout",
     "output_type": "stream",
     "text": [
      "2\n"
     ]
    },
    {
     "data": {
      "text/plain": [
       "['holmdel', 'nj', '']"
      ]
     },
     "execution_count": 239,
     "metadata": {},
     "output_type": "execute_result"
    }
   ],
   "source": [
    "place = 'Holmdel NJ'\n",
    "test = clean_loc(place)\n",
    "# print(test)\n",
    "test = id_location2(test)\n",
    "print(2)\n",
    "test"
   ]
  },
  {
   "cell_type": "code",
   "execution_count": 253,
   "id": "f35f3f06-59de-4c16-8c88-f800ba3d341d",
   "metadata": {
    "tags": []
   },
   "outputs": [
    {
     "name": "stdout",
     "output_type": "stream",
     "text": [
      "['madison,', 'va']\n",
      "['holmdel,', 'nj']\n",
      "['florida,', 'usa']\n",
      "['speedy']\n",
      "['new', 'york,', 'ny']\n",
      "['nashville']\n",
      "['kor/eng']\n",
      "['new', 'york,', 'usa']\n",
      "['florida']\n",
      "['east', 'bay,', 'ca', '&', 'dc', '(ca-15)']\n",
      "['manhattan,', 'ny']\n",
      "['new', 'york']\n",
      "['albuquerque', 'holiday', 'inn']\n",
      "['the', 'nhs', '(vmo)']\n",
      "['global']\n",
      "['washington', 'dc', '&', 'virginia']\n",
      "['united', 'states']\n",
      "['yongin/', 'bjh']\n",
      "['washington,', 'dc']\n",
      "['north', 'west,', 'england']\n",
      "['england,', 'united', 'kingdom']\n",
      "['ot7', '•', 'south', 'asian', '•', '🔕']\n",
      "['miami,', 'fl']\n",
      "['st.', 'louis,', 'mo']\n",
      "['london']\n",
      "['new', 'york,', 'ny']\n",
      "['colorado,', 'usa']\n",
      "['united', 'kingdom']\n",
      "['new', 'york', 'city']\n",
      "['washington,', 'd.c.']\n",
      "['new', 'york']\n",
      "['ia', 'as', 'a', 'mf']\n",
      "['hartford,', 'ct']\n",
      "['washington,', 'dc']\n",
      "['worldwide']\n",
      "['california']\n",
      "['los', 'angles,', 'california']\n",
      "['small', 'town', 'usa']\n",
      "['el', 'paso,', 'tx']\n",
      "['texas']\n",
      "['around', 'the', 'world']\n",
      "['paris,', 'france']\n",
      "['uk']\n",
      "['miami,', 'fl']\n",
      "[\"hawai'i\"]\n",
      "['ny', '•', 'dc', '•', 'cambridge']\n",
      "['london,', 'england']\n",
      "['london,', 'uk']\n",
      "['🇺🇸']\n",
      "['los', 'angeles,', 'ca']\n",
      "['washington,', 'dc']\n",
      "['møre', 'og', 'romsdal,', 'norway']\n",
      "['worldwide']\n",
      "['california']\n",
      "['new', 'york,', 'ny']\n",
      "['turn', 'on', '🔔']\n",
      "['london']\n",
      "['23', '/', 'viet', '/', 'male', '(he/him)']\n",
      "['south', 'africa']\n",
      "['florida']\n",
      "['new', 'york,', 'ny']\n",
      "['london,', 'england']\n",
      "['personal', 'acc', '||', 'ally', '♡']\n",
      "['dallas,', 'tx']\n",
      "['new', 'york,', 'ny']\n",
      "['new', 'jersey,', 'usa']\n",
      "['los', 'angeles,', 'ca']\n",
      "['nashville']\n",
      "['new', 'delhi,', 'india']\n",
      "['essex', ',', 'uk', '🇬🇧']\n",
      "['united', 'states']\n",
      "['manhattan,', 'new', 'york']\n",
      "['🇧🇼']\n",
      "['kansas', 'city,', 'mo']\n",
      "['georgia,', 'usa']\n",
      "['new', 'york,', 'ny']\n",
      "['new', 'york,', 'ny']\n",
      "['new', 'york,', 'ny']\n",
      "['los', 'angeles,', 'ca']\n",
      "['united', 'kingdom']\n",
      "['washington,', 'dc', '&', 'new', 'york,', 'ny']\n",
      "['brighton']\n",
      "['new', 'york,', 'ny']\n",
      "['atlanta,', 'ga']\n",
      "['los', 'angeles,', 'ca']\n",
      "['oxford,', 'england']\n",
      "['new', 'york', 'city']\n",
      "['sacramento,', 'ca']\n",
      "['u.s.a.']\n",
      "['geneva,', 'switzerland']\n",
      "['new', 'york,', 'ny']\n",
      "['drowning', 'in', 'maga', 'tears']\n",
      "['new', 'york,', 'ny']\n",
      "['south', 'wales', ',', 'uk', '🇬🇧']\n",
      "['los', 'angeles,', 'ca']\n",
      "['london,', 'uk']\n",
      "['la', 'jolla,', 'ca']\n",
      "['malaysia']\n",
      "['financial', 'markets']\n",
      "['washington,', 'dc']\n"
     ]
    }
   ],
   "source": [
    "for idx,row in loc_df_x.iterrows():\n",
    "    locations = id_location2(row.loc['x_user_location'])\n",
    "#     print(locations)\n",
    "    \n",
    "    if locations:\n",
    "        for loca in locations:\n",
    "            if loca is None:\n",
    "                loca = 'unidentified'\n",
    "    else:\n",
    "        locations = ['unidentified','unidentified','unidentified']\n",
    "\n",
    "                \n",
    "#     print(idx)\n",
    "    loc_df_x.loc[idx, 'x_user_city'] = locations[0]\n",
    "    loc_df_x.loc[idx, 'x_user_state'] = locations[1]\n",
    "    loc_df_x.loc[idx, 'x_user_country'] = locations[2]"
   ]
  },
  {
   "cell_type": "code",
   "execution_count": 277,
   "id": "dd7541a2-200c-4acb-aacd-781ea1d4d15b",
   "metadata": {},
   "outputs": [],
   "source": [
    "loc_df_x = loc_df.head(60000)"
   ]
  },
  {
   "cell_type": "code",
   "execution_count": 262,
   "id": "d1e7baf2-3c16-47c3-862f-74225ec62f40",
   "metadata": {},
   "outputs": [
    {
     "data": {
      "text/plain": [
       "(258190, 6)"
      ]
     },
     "execution_count": 262,
     "metadata": {},
     "output_type": "execute_result"
    }
   ],
   "source": [
    "loc_df.shape"
   ]
  },
  {
   "cell_type": "code",
   "execution_count": 264,
   "id": "4097de65-56be-4241-a1d4-aa8d506e2561",
   "metadata": {},
   "outputs": [],
   "source": [
    "loc_df_x = loc_df_x.drop(['x_user_city','x_user_state','x_user_country'], axis ='columns')"
   ]
  },
  {
   "cell_type": "code",
   "execution_count": null,
   "id": "2225d0c8-58b3-478a-913c-d434648ca6e6",
   "metadata": {},
   "outputs": [],
   "source": []
  },
  {
   "cell_type": "code",
   "execution_count": 290,
   "id": "33093634-d215-4d21-ba69-bb48bf1e13b0",
   "metadata": {},
   "outputs": [],
   "source": [
    "#split into columns\n",
    "dfx = loc_df['clean_loctn'].str.split(n=5, expand=True)"
   ]
  },
  {
   "cell_type": "code",
   "execution_count": 291,
   "id": "41906f0f-0c97-4b05-8a98-457561f53f73",
   "metadata": {},
   "outputs": [
    {
     "data": {
      "text/html": [
       "<div>\n",
       "<style scoped>\n",
       "    .dataframe tbody tr th:only-of-type {\n",
       "        vertical-align: middle;\n",
       "    }\n",
       "\n",
       "    .dataframe tbody tr th {\n",
       "        vertical-align: top;\n",
       "    }\n",
       "\n",
       "    .dataframe thead th {\n",
       "        text-align: right;\n",
       "    }\n",
       "</style>\n",
       "<table border=\"1\" class=\"dataframe\">\n",
       "  <thead>\n",
       "    <tr style=\"text-align: right;\">\n",
       "      <th></th>\n",
       "      <th>0</th>\n",
       "      <th>1</th>\n",
       "      <th>2</th>\n",
       "      <th>3</th>\n",
       "      <th>4</th>\n",
       "      <th>5</th>\n",
       "    </tr>\n",
       "  </thead>\n",
       "  <tbody>\n",
       "    <tr>\n",
       "      <th>0</th>\n",
       "      <td>Madison</td>\n",
       "      <td>VA</td>\n",
       "      <td>None</td>\n",
       "      <td>None</td>\n",
       "      <td>None</td>\n",
       "      <td>None</td>\n",
       "    </tr>\n",
       "    <tr>\n",
       "      <th>2</th>\n",
       "      <td>Holmdel</td>\n",
       "      <td>NJ</td>\n",
       "      <td>None</td>\n",
       "      <td>None</td>\n",
       "      <td>None</td>\n",
       "      <td>None</td>\n",
       "    </tr>\n",
       "    <tr>\n",
       "      <th>3</th>\n",
       "      <td>Florida</td>\n",
       "      <td>USA</td>\n",
       "      <td>None</td>\n",
       "      <td>None</td>\n",
       "      <td>None</td>\n",
       "      <td>None</td>\n",
       "    </tr>\n",
       "    <tr>\n",
       "      <th>4</th>\n",
       "      <td>speedy</td>\n",
       "      <td>None</td>\n",
       "      <td>None</td>\n",
       "      <td>None</td>\n",
       "      <td>None</td>\n",
       "      <td>None</td>\n",
       "    </tr>\n",
       "    <tr>\n",
       "      <th>8</th>\n",
       "      <td>New</td>\n",
       "      <td>York</td>\n",
       "      <td>NY</td>\n",
       "      <td>None</td>\n",
       "      <td>None</td>\n",
       "      <td>None</td>\n",
       "    </tr>\n",
       "    <tr>\n",
       "      <th>...</th>\n",
       "      <td>...</td>\n",
       "      <td>...</td>\n",
       "      <td>...</td>\n",
       "      <td>...</td>\n",
       "      <td>...</td>\n",
       "      <td>...</td>\n",
       "    </tr>\n",
       "    <tr>\n",
       "      <th>504572</th>\n",
       "      <td>Windsor</td>\n",
       "      <td>On</td>\n",
       "      <td>None</td>\n",
       "      <td>None</td>\n",
       "      <td>None</td>\n",
       "      <td>None</td>\n",
       "    </tr>\n",
       "    <tr>\n",
       "      <th>504573</th>\n",
       "      <td>Belfast</td>\n",
       "      <td>Northern</td>\n",
       "      <td>Ireland</td>\n",
       "      <td>None</td>\n",
       "      <td>None</td>\n",
       "      <td>None</td>\n",
       "    </tr>\n",
       "    <tr>\n",
       "      <th>504574</th>\n",
       "      <td>India</td>\n",
       "      <td>None</td>\n",
       "      <td>None</td>\n",
       "      <td>None</td>\n",
       "      <td>None</td>\n",
       "      <td>None</td>\n",
       "    </tr>\n",
       "    <tr>\n",
       "      <th>504575</th>\n",
       "      <td>personal</td>\n",
       "      <td>account</td>\n",
       "      <td>None</td>\n",
       "      <td>None</td>\n",
       "      <td>None</td>\n",
       "      <td>None</td>\n",
       "    </tr>\n",
       "    <tr>\n",
       "      <th>504576</th>\n",
       "      <td>Georgia</td>\n",
       "      <td>USA</td>\n",
       "      <td>None</td>\n",
       "      <td>None</td>\n",
       "      <td>None</td>\n",
       "      <td>None</td>\n",
       "    </tr>\n",
       "  </tbody>\n",
       "</table>\n",
       "<p>258190 rows × 6 columns</p>\n",
       "</div>"
      ],
      "text/plain": [
       "               0         1        2     3     4     5\n",
       "0        Madison        VA     None  None  None  None\n",
       "2        Holmdel        NJ     None  None  None  None\n",
       "3        Florida       USA     None  None  None  None\n",
       "4         speedy      None     None  None  None  None\n",
       "8            New      York       NY  None  None  None\n",
       "...          ...       ...      ...   ...   ...   ...\n",
       "504572   Windsor        On     None  None  None  None\n",
       "504573   Belfast  Northern  Ireland  None  None  None\n",
       "504574     India      None     None  None  None  None\n",
       "504575  personal   account     None  None  None  None\n",
       "504576   Georgia       USA     None  None  None  None\n",
       "\n",
       "[258190 rows x 6 columns]"
      ]
     },
     "execution_count": 291,
     "metadata": {},
     "output_type": "execute_result"
    }
   ],
   "source": [
    "dfx"
   ]
  },
  {
   "cell_type": "code",
   "execution_count": 313,
   "id": "88e1f405-112e-410c-8f82-46a7114823ed",
   "metadata": {},
   "outputs": [
    {
     "data": {
      "text/plain": [
       "pandas.core.series.Series"
      ]
     },
     "execution_count": 313,
     "metadata": {},
     "output_type": "execute_result"
    }
   ],
   "source": [
    "\n",
    "#series plsits\n",
    "loc_splits = loc_df['clean_loctn']\n",
    "type(loc_splits)"
   ]
  },
  {
   "cell_type": "code",
   "execution_count": 315,
   "id": "f97251db-999b-4ae7-97c4-0abec4a3c1ed",
   "metadata": {},
   "outputs": [],
   "source": [
    "df0 = loc_splits[0:50000]\n",
    "df1 = loc_splits[50001:100000]\n",
    "df2 = loc_splits[100001:150000]\n",
    "df3 = loc_splits[150001:200000]\n",
    "df4 = loc_splits[200001:258190]\n"
   ]
  },
  {
   "cell_type": "code",
   "execution_count": null,
   "id": "6cfc919d-3c88-4692-aa10-dd408dfd4747",
   "metadata": {},
   "outputs": [],
   "source": []
  },
  {
   "cell_type": "code",
   "execution_count": null,
   "id": "f44a2d8a-b965-439c-8716-2a34b3964d41",
   "metadata": {},
   "outputs": [],
   "source": []
  },
  {
   "cell_type": "code",
   "execution_count": null,
   "id": "3875e205-a3ca-488b-a4a4-fd2dafdcc4b1",
   "metadata": {},
   "outputs": [],
   "source": []
  },
  {
   "cell_type": "code",
   "execution_count": 321,
   "id": "792c8700-09c0-4b06-8cf5-069463d078c6",
   "metadata": {},
   "outputs": [],
   "source": [
    "from sklearn.feature_extraction.text import CountVectorizer\n",
    "c_vec = CountVectorizer(ngram_range=(2,2))\n",
    "\n",
    "# matrix of ngrams\n",
    "ngrams = c_vec.fit_transform(df4)\n",
    "\n",
    "# count frequency of ngrams\n",
    "count_values = ngrams.toarray().sum(axis=0)\n",
    "\n",
    "# list of ngrams\n",
    "vocab = c_vec.vocabulary_\n",
    "df4_bigram = pd.DataFrame(sorted([(count_values[i],k) for k,i in vocab.items()], reverse=True)\n",
    "            ).rename(columns={0: 'frequency', 1:'uni/bigram'})"
   ]
  },
  {
   "cell_type": "code",
   "execution_count": 334,
   "id": "3cda4713-b848-49c3-a616-1d65326f08b4",
   "metadata": {},
   "outputs": [
    {
     "data": {
      "text/html": [
       "<div>\n",
       "<style scoped>\n",
       "    .dataframe tbody tr th:only-of-type {\n",
       "        vertical-align: middle;\n",
       "    }\n",
       "\n",
       "    .dataframe tbody tr th {\n",
       "        vertical-align: top;\n",
       "    }\n",
       "\n",
       "    .dataframe thead th {\n",
       "        text-align: right;\n",
       "    }\n",
       "</style>\n",
       "<table border=\"1\" class=\"dataframe\">\n",
       "  <thead>\n",
       "    <tr style=\"text-align: right;\">\n",
       "      <th></th>\n",
       "      <th>frequency</th>\n",
       "      <th>uni/bigram</th>\n",
       "    </tr>\n",
       "  </thead>\n",
       "  <tbody>\n",
       "    <tr>\n",
       "      <th>0</th>\n",
       "      <td>1227</td>\n",
       "      <td>new york</td>\n",
       "    </tr>\n",
       "    <tr>\n",
       "      <th>1</th>\n",
       "      <td>1168</td>\n",
       "      <td>united states</td>\n",
       "    </tr>\n",
       "    <tr>\n",
       "      <th>2</th>\n",
       "      <td>953</td>\n",
       "      <td>united kingdom</td>\n",
       "    </tr>\n",
       "    <tr>\n",
       "      <th>3</th>\n",
       "      <td>893</td>\n",
       "      <td>south africa</td>\n",
       "    </tr>\n",
       "    <tr>\n",
       "      <th>4</th>\n",
       "      <td>887</td>\n",
       "      <td>washington dc</td>\n",
       "    </tr>\n",
       "  </tbody>\n",
       "</table>\n",
       "</div>"
      ],
      "text/plain": [
       "   frequency      uni/bigram\n",
       "0       1227        new york\n",
       "1       1168   united states\n",
       "2        953  united kingdom\n",
       "3        893    south africa\n",
       "4        887   washington dc"
      ]
     },
     "execution_count": 334,
     "metadata": {},
     "output_type": "execute_result"
    }
   ],
   "source": [
    "df2_bigram = df2_bigram.set_index('uni/bigram')"
   ]
  },
  {
   "cell_type": "code",
   "execution_count": 339,
   "id": "962b8776-df04-4e94-8c17-26203c97e1d1",
   "metadata": {},
   "outputs": [],
   "source": [
    "df_loc_final = df_loc_final.set_index('uni/bigram').add(df4_bigram.set_index('uni/bigram'), fill_value=0).reset_index()"
   ]
  },
  {
   "cell_type": "code",
   "execution_count": 342,
   "id": "8bf8fec1-7c63-45cb-9de2-a07a37efbded",
   "metadata": {},
   "outputs": [],
   "source": [
    "df_loc_final = df_loc_final.sort_values('frequency', ascending=False)"
   ]
  },
  {
   "cell_type": "code",
   "execution_count": 368,
   "id": "e3a5bfc5-5db9-4e18-89be-eeedb5a698d1",
   "metadata": {},
   "outputs": [
    {
     "data": {
      "text/plain": [
       "''"
      ]
     },
     "execution_count": 368,
     "metadata": {},
     "output_type": "execute_result"
    },
    {
     "data": {
      "image/png": "[encoded data removed]",
      "text/plain": [
       "<Figure size 720x576 with 1 Axes>"
      ]
     },
     "metadata": {
      "needs_background": "light"
     },
     "output_type": "display_data"
    }
   ],
   "source": [
    "import matplotlib.pyplot as plt\n",
    "plt.rcParams[\"figure.figsize\"] = (10,8)\n",
    "\n",
    "\n",
    "df_loc_chart = df_loc_final.head(15).rename(columns={\"uni/bigram\": \"Location\"}).set_index('Location')\n",
    "df_loc_chart.plot.bar(color='brown')\n",
    "plt.title(\"Tweet Frequency by Location (Top15)\")\n",
    "plt.ylabel(\"Frequency\")\n",
    ";"
   ]
  },
  {
   "cell_type": "code",
   "execution_count": 343,
   "id": "3acad9c5-c866-4f86-a333-1e453f39293e",
   "metadata": {},
   "outputs": [],
   "source": [
    "df_loc_final.to_csv('gs://msca-bdp-test-1203/location_df_analysis.csv')"
   ]
  },
  {
   "cell_type": "markdown",
   "id": "b3d2a1b7-dab5-4095-894c-f0cdb46eb495",
   "metadata": {},
   "source": [
    "### 500K procs"
   ]
  },
  {
   "cell_type": "code",
   "execution_count": 234,
   "id": "f245b63a-d18f-4a1d-94f5-737769997a95",
   "metadata": {},
   "outputs": [],
   "source": [
    "loc_df.to_csv('gs://msca-bdp-test-1203/location_df.csv')"
   ]
  },
  {
   "cell_type": "code",
   "execution_count": 235,
   "id": "320535b5-13fd-4fcd-a122-8c24b55c394c",
   "metadata": {},
   "outputs": [
    {
     "ename": "AttributeError",
     "evalue": "'DataFrame' object has no attribute 'toPandas'",
     "output_type": "error",
     "traceback": [
      "\u001b[0;31m---------------------------------------------------------------------------\u001b[0m",
      "\u001b[0;31mAttributeError\u001b[0m                            Traceback (most recent call last)",
      "Input \u001b[0;32mIn [235]\u001b[0m, in \u001b[0;36m<module>\u001b[0;34m\u001b[0m\n\u001b[0;32m----> 1\u001b[0m loc_pdf \u001b[38;5;241m=\u001b[39m \u001b[43mloc_df\u001b[49m\u001b[38;5;241;43m.\u001b[39;49m\u001b[43mtoPandas\u001b[49m()\n",
      "File \u001b[0;32m/opt/conda/miniconda3/lib/python3.8/site-packages/pandas/core/generic.py:5465\u001b[0m, in \u001b[0;36mNDFrame.__getattr__\u001b[0;34m(self, name)\u001b[0m\n\u001b[1;32m   5463\u001b[0m \u001b[38;5;28;01mif\u001b[39;00m \u001b[38;5;28mself\u001b[39m\u001b[38;5;241m.\u001b[39m_info_axis\u001b[38;5;241m.\u001b[39m_can_hold_identifiers_and_holds_name(name):\n\u001b[1;32m   5464\u001b[0m     \u001b[38;5;28;01mreturn\u001b[39;00m \u001b[38;5;28mself\u001b[39m[name]\n\u001b[0;32m-> 5465\u001b[0m \u001b[38;5;28;01mreturn\u001b[39;00m \u001b[38;5;28;43mobject\u001b[39;49m\u001b[38;5;241;43m.\u001b[39;49m\u001b[38;5;21;43m__getattribute__\u001b[39;49m\u001b[43m(\u001b[49m\u001b[38;5;28;43mself\u001b[39;49m\u001b[43m,\u001b[49m\u001b[43m \u001b[49m\u001b[43mname\u001b[49m\u001b[43m)\u001b[49m\n",
      "\u001b[0;31mAttributeError\u001b[0m: 'DataFrame' object has no attribute 'toPandas'"
     ]
    }
   ],
   "source": []
  },
  {
   "cell_type": "code",
   "execution_count": 237,
   "id": "d7d2c453-a23d-45bb-87ca-ae7d759c7301",
   "metadata": {},
   "outputs": [
    {
     "data": {
      "text/html": [
       "<div>\n",
       "<style scoped>\n",
       "    .dataframe tbody tr th:only-of-type {\n",
       "        vertical-align: middle;\n",
       "    }\n",
       "\n",
       "    .dataframe tbody tr th {\n",
       "        vertical-align: top;\n",
       "    }\n",
       "\n",
       "    .dataframe thead th {\n",
       "        text-align: right;\n",
       "    }\n",
       "</style>\n",
       "<table border=\"1\" class=\"dataframe\">\n",
       "  <thead>\n",
       "    <tr style=\"text-align: right;\">\n",
       "      <th></th>\n",
       "      <th>x_user_scrname</th>\n",
       "      <th>x_user_location</th>\n",
       "      <th>clean_loctn</th>\n",
       "      <th>x_user_city</th>\n",
       "      <th>x_user_state</th>\n",
       "      <th>x_user_country</th>\n",
       "    </tr>\n",
       "  </thead>\n",
       "  <tbody>\n",
       "    <tr>\n",
       "      <th>0</th>\n",
       "      <td>RWMaloneMD</td>\n",
       "      <td>Madison, VA</td>\n",
       "      <td>Madison VA</td>\n",
       "      <td></td>\n",
       "      <td>va</td>\n",
       "      <td></td>\n",
       "    </tr>\n",
       "    <tr>\n",
       "      <th>2</th>\n",
       "      <td>TheKaranMenon</td>\n",
       "      <td>Holmdel, NJ</td>\n",
       "      <td>Holmdel NJ</td>\n",
       "      <td></td>\n",
       "      <td>nj</td>\n",
       "      <td></td>\n",
       "    </tr>\n",
       "    <tr>\n",
       "      <th>3</th>\n",
       "      <td>ChuckCallesto</td>\n",
       "      <td>Florida, USA</td>\n",
       "      <td>Florida USA</td>\n",
       "      <td></td>\n",
       "      <td></td>\n",
       "      <td>usa</td>\n",
       "    </tr>\n",
       "    <tr>\n",
       "      <th>4</th>\n",
       "      <td>btsinthemoment</td>\n",
       "      <td>speedy</td>\n",
       "      <td>speedy</td>\n",
       "      <td></td>\n",
       "      <td></td>\n",
       "      <td></td>\n",
       "    </tr>\n",
       "    <tr>\n",
       "      <th>8</th>\n",
       "      <td>CBSNews</td>\n",
       "      <td>New York, NY</td>\n",
       "      <td>New York NY</td>\n",
       "      <td></td>\n",
       "      <td>ny</td>\n",
       "      <td></td>\n",
       "    </tr>\n",
       "    <tr>\n",
       "      <th>9</th>\n",
       "      <td>Breaking911</td>\n",
       "      <td>Nashville</td>\n",
       "      <td>Nashville</td>\n",
       "      <td>nashville</td>\n",
       "      <td></td>\n",
       "      <td></td>\n",
       "    </tr>\n",
       "    <tr>\n",
       "      <th>11</th>\n",
       "      <td>haruharu_w_bts</td>\n",
       "      <td>KOR/ENG</td>\n",
       "      <td>KORENG</td>\n",
       "      <td></td>\n",
       "      <td></td>\n",
       "      <td></td>\n",
       "    </tr>\n",
       "    <tr>\n",
       "      <th>12</th>\n",
       "      <td>RealCandaceO</td>\n",
       "      <td>New York, USA</td>\n",
       "      <td>New York USA</td>\n",
       "      <td></td>\n",
       "      <td></td>\n",
       "      <td>usa</td>\n",
       "    </tr>\n",
       "    <tr>\n",
       "      <th>13</th>\n",
       "      <td>JordanSchachtel</td>\n",
       "      <td>Florida</td>\n",
       "      <td>Florida</td>\n",
       "      <td></td>\n",
       "      <td>florida</td>\n",
       "      <td></td>\n",
       "    </tr>\n",
       "    <tr>\n",
       "      <th>14</th>\n",
       "      <td>RepSwalwell</td>\n",
       "      <td>East Bay, CA &amp; DC (CA-15)</td>\n",
       "      <td>East Bay CA  DC CA</td>\n",
       "      <td></td>\n",
       "      <td>dc</td>\n",
       "      <td></td>\n",
       "    </tr>\n",
       "    <tr>\n",
       "      <th>15</th>\n",
       "      <td>kylegriffin1</td>\n",
       "      <td>Manhattan, NY</td>\n",
       "      <td>Manhattan NY</td>\n",
       "      <td></td>\n",
       "      <td>ny</td>\n",
       "      <td></td>\n",
       "    </tr>\n",
       "    <tr>\n",
       "      <th>16</th>\n",
       "      <td>joncoopertweets</td>\n",
       "      <td>New York</td>\n",
       "      <td>New York</td>\n",
       "      <td>york</td>\n",
       "      <td></td>\n",
       "      <td></td>\n",
       "    </tr>\n",
       "    <tr>\n",
       "      <th>17</th>\n",
       "      <td>WyattDuncan</td>\n",
       "      <td>Albuquerque Holiday Inn</td>\n",
       "      <td>Albuquerque Holiday Inn</td>\n",
       "      <td>holiday</td>\n",
       "      <td></td>\n",
       "      <td></td>\n",
       "    </tr>\n",
       "    <tr>\n",
       "      <th>18</th>\n",
       "      <td>doctor_oxford</td>\n",
       "      <td>The NHS (VMO)</td>\n",
       "      <td>The NHS VMO</td>\n",
       "      <td></td>\n",
       "      <td></td>\n",
       "      <td></td>\n",
       "    </tr>\n",
       "    <tr>\n",
       "      <th>19</th>\n",
       "      <td>ZubyMusic</td>\n",
       "      <td>Global</td>\n",
       "      <td>Global</td>\n",
       "      <td></td>\n",
       "      <td></td>\n",
       "      <td></td>\n",
       "    </tr>\n",
       "  </tbody>\n",
       "</table>\n",
       "</div>"
      ],
      "text/plain": [
       "     x_user_scrname            x_user_location              clean_loctn  \\\n",
       "0        RWMaloneMD                Madison, VA               Madison VA   \n",
       "2     TheKaranMenon                Holmdel, NJ               Holmdel NJ   \n",
       "3     ChuckCallesto               Florida, USA              Florida USA   \n",
       "4    btsinthemoment                    speedy                   speedy    \n",
       "8           CBSNews               New York, NY              New York NY   \n",
       "9       Breaking911                  Nashville                Nashville   \n",
       "11   haruharu_w_bts                    KOR/ENG                   KORENG   \n",
       "12     RealCandaceO              New York, USA             New York USA   \n",
       "13  JordanSchachtel                    Florida                  Florida   \n",
       "14      RepSwalwell  East Bay, CA & DC (CA-15)       East Bay CA  DC CA   \n",
       "15     kylegriffin1              Manhattan, NY             Manhattan NY   \n",
       "16  joncoopertweets                   New York                 New York   \n",
       "17      WyattDuncan    Albuquerque Holiday Inn  Albuquerque Holiday Inn   \n",
       "18    doctor_oxford              The NHS (VMO)              The NHS VMO   \n",
       "19        ZubyMusic                     Global                   Global   \n",
       "\n",
       "   x_user_city x_user_state x_user_country  \n",
       "0                        va                 \n",
       "2                        nj                 \n",
       "3                                      usa  \n",
       "4                                           \n",
       "8                        ny                 \n",
       "9    nashville                              \n",
       "11                                          \n",
       "12                                     usa  \n",
       "13                  florida                 \n",
       "14                       dc                 \n",
       "15                       ny                 \n",
       "16        york                              \n",
       "17     holiday                              \n",
       "18                                          \n",
       "19                                          "
      ]
     },
     "execution_count": 237,
     "metadata": {},
     "output_type": "execute_result"
    }
   ],
   "source": [
    "loc_df.head(15)"
   ]
  },
  {
   "cell_type": "markdown",
   "id": "15840287-01b8-4f9e-9693-90f742161378",
   "metadata": {},
   "source": [
    "### Test"
   ]
  },
  {
   "cell_type": "code",
   "execution_count": null,
   "id": "50e77ae8-de83-41bc-8944-363f045c81d3",
   "metadata": {},
   "outputs": [],
   "source": [
    "states = [ 'AK', 'AL', 'AR', 'AZ', 'CA', 'CO', 'CT', 'DC', 'DE', 'FL', 'GA','HI', 'IA', 'ID', 'IL', 'IN', 'KS', 'KY', 'LA', 'MA', 'MD', 'ME','MI', 'MN', 'MO', 'MS', 'MT', 'NC', 'ND', 'NE', 'NH', 'NJ', 'NM','NV', 'NY', 'OH', 'OK', 'OR', 'PA', 'RI', 'SC', 'SD', 'TN', 'TX','UT', 'VA', 'VT', 'WA', 'WI', 'WV', 'WY']\n",
    "state_names = [\"Alaska\", \"Alabama\", \"Arkansas\", \"American Samoa\", \"Arizona\", \"California\", \"Colorado\", \"Connecticut\", \"District \", \"of Columbia\", \"Delaware\", \"Florida\", \"Georgia\", \"Guam\", \"Hawaii\", \"Iowa\", \"Idaho\", \"Illinois\", \"Indiana\", \"Kansas\", \"Kentucky\", \"Louisiana\", \"Massachusetts\", \"Maryland\", \"Maine\", \"Michigan\", \"Minnesota\", \"Missouri\", \"Mississippi\", \"Montana\", \"North Carolina\", \"North Dakota\", \"Nebraska\", \"New Hampshire\", \"New Jersey\", \"New Mexico\", \"Nevada\", \"New York\", \"Ohio\", \"Oklahoma\", \"Oregon\", \"Pennsylvania\", \"Puerto Rico\", \"Rhode Island\", \"South Carolina\", \"South Dakota\", \"Tennessee\", \"Texas\", \"Utah\", \"Virginia\", \"Virgin Islands\", \"Vermont\", \"Washington\", \"Wisconsin\", \"West Virginia\", \"Wyoming\"]\n",
    "countries = ['United States','United Kingdom','Japan','Indonesia','India','Philippines','Brazil','South Korea','China','Mexico','Egypt','Russia','Thailand','Bangladesh','Argentina','Nigeria','Turkey','Pakistan','Congo (Kinshasa)','Vietnam','Iran','France','Peru','Angola','Malaysia','Colombia','Tanzania','Hong Kong','Chile','Saudi Arabia','Iraq','Sudan','Spain','Kenya','Myanmar','Canada','Singapore','Côte dIvoire','Australia','South Africa','Morocco','Afghanistan','Jordan','Germany','Algeria','Bolivia','Ethiopia','Kuwait','Ukraine','Yemen','Guatemala','Italy','North Korea','Taiwan','Ecuador','Madagascar','Dominican Republic','United Arab Emirates','Uzbekistan','Burkina Faso','Cameroon','Ghana','Azerbaijan','Zimbabwe','Cuba','Cambodia','Somalia','Belarus','Mali','Venezuela','Kazakhstan','Syria','Austria','Malawi','Romania','Congo (Brazzaville)','Poland','Belgium','Zambia','Hungary','Guinea','Uganda','Oman','Mongolia','Serbia','New Zealand','Czechia','Uruguay','Bulgaria','Honduras','Mozambique','Qatar','Senegal','Rwanda','Libya','Georgia','Chad','Denmark','Mauritania','Armenia','Tunisia','Kyrgyzstan','Nicaragua','Niger','Liberia','Haiti','Sweden','Nepal','Eritrea','Sierra Leone','Laos','Israel','Central African Republic','Panama','Netherlands','Togo','Gabon','Croatia','Tajikistan','Benin','Sri Lanka','Norway','Greece','Burundi','Finland','Macedonia','Moldova','Latvia','Jamaica','Lithuania','Macau','El Salvador','Djibouti','Ireland','Lebanon','Paraguay','Portugal','Slovakia','Estonia','Switzerland','Albania','Turkmenistan','Guinea Bissau','South Sudan','Lesotho','Cyprus','Puerto Rico','Namibia','Papua New Guinea','Mauritius','Costa Rica','Slovenia','Bosnia And Herzegovina','The Bahamas','Martinique','Equatorial Guinea','Botswana','Suriname','Timor Leste','Guyana','The Gambia','Reunion','Gibraltar','Montenegro','Bahrain','Curaçao ','Guadeloupe','Maldives','French Polynesia','Iceland','Luxembourg','Cabo Verde','Guam','Comoros','Swaziland','Barbados','Bhutan','New Caledonia','Fiji','Solomon Islands','Trinidad And Tobago','Saint Lucia','French Guiana','Belize','Sao Tome And Principe','Kosovo','Bermuda','Vanuatu','Brunei','USA','uk']"
   ]
  },
  {
   "cell_type": "code",
   "execution_count": null,
   "id": "d7f166ea-9685-4b24-840c-d926c4b30c5c",
   "metadata": {
    "tags": []
   },
   "outputs": [],
   "source": [
    "states_dict = {\n",
    "    'AK': 'Alaska',\n",
    "    'AL': 'Alabama',\n",
    "    'AR': 'Arkansas',\n",
    "    'AZ': 'Arizona',\n",
    "    'CA': 'California',\n",
    "    'CO': 'Colorado',\n",
    "    'CT': 'Connecticut',\n",
    "    'DC': 'District of Columbia',\n",
    "    'DE': 'Delaware',\n",
    "    'FL': 'Florida',\n",
    "    'GA': 'Georgia',\n",
    "    'HI': 'Hawaii',\n",
    "    'IA': 'Iowa',\n",
    "    'ID': 'Idaho',\n",
    "    'IL': 'Illinois',\n",
    "    'IN': 'Indiana',\n",
    "    'KS': 'Kansas',\n",
    "    'KY': 'Kentucky',\n",
    "    'LA': 'Louisiana',\n",
    "    'MA': 'Massachusetts',\n",
    "    'MD': 'Maryland',\n",
    "    'ME': 'Maine',\n",
    "    'MI': 'Michigan',\n",
    "    'MN': 'Minnesota',\n",
    "    'MO': 'Missouri',\n",
    "    'MS': 'Mississippi',\n",
    "    'MT': 'Montana',\n",
    "    'NC': 'North Carolina',\n",
    "    'ND': 'North Dakota',\n",
    "    'NE': 'Nebraska',\n",
    "    'NH': 'New Hampshire',\n",
    "    'NJ': 'New Jersey',\n",
    "    'NM': 'New Mexico',\n",
    "    'NV': 'Nevada',\n",
    "    'NY': 'New York',\n",
    "    'OH': 'Ohio',\n",
    "    'OK': 'Oklahoma',\n",
    "    'OR': 'Oregon',\n",
    "    'PA': 'Pennsylvania',\n",
    "    'RI': 'Rhode Island',\n",
    "    'SC': 'South Carolina',\n",
    "    'SD': 'South Dakota',\n",
    "    'TN': 'Tennessee',\n",
    "    'TX': 'Texas',\n",
    "    'UT': 'Utah',\n",
    "    'VA': 'Virginia',\n",
    "    'VT': 'Vermont',\n",
    "    'WA': 'Washington',\n",
    "    'WI': 'Wisconsin',\n",
    "    'WV': 'West Virginia',\n",
    "    'WY': 'Wyoming'\n",
    "}"
   ]
  }
 ],
 "metadata": {
  "kernelspec": {
   "display_name": "Python 3",
   "language": "python",
   "name": "python3"
  },
  "language_info": {
   "codemirror_mode": {
    "name": "ipython",
    "version": 3
   },
   "file_extension": ".py",
   "mimetype": "text/x-python",
   "name": "python",
   "nbconvert_exporter": "python",
   "pygments_lexer": "ipython3",
   "version": "3.8.12"
  }
 },
 "nbformat": 4,
 "nbformat_minor": 5
}