{
 "cells": [
  {
   "cell_type": "code",
   "execution_count": 1,
   "id": "ad2f6686-c533-4533-8769-bb72778dce3d",
   "metadata": {},
   "outputs": [],
   "source": [
    "import os\n",
    "import subprocess\n",
    "from pyspark.sql.functions import *\n",
    "from pyspark.sql.types import *\n",
    "from pyspark.sql.types import StructType\n",
    "\n",
    "import findspark\n",
    "findspark.init()\n",
    "spark = SparkSession.builder.getOrCreate()\n",
    "sc = spark.sparkContext\n",
    "\n",
    "import pyspark.sql.functions as sql_fun"
   ]
  },
  {
   "cell_type": "code",
   "execution_count": null,
   "id": "b0da2023-7976-4443-a362-dfe473463440",
   "metadata": {},
   "outputs": [],
   "source": [
    "# spark.conf.set(\"spark.sql.repl.eagerEval.enabled\",True)"
   ]
  },
  {
   "cell_type": "code",
   "execution_count": 1,
   "id": "31af81fc-bda2-4151-8b76-85ed4b5b4566",
   "metadata": {},
   "outputs": [],
   "source": [
    "import numpy as np\n",
    "import pandas as pd\n",
    "from bs4 import BeautifulSoup\n",
    "import requests, zipfile, io\n",
    "import re\n",
    "import string\n",
    "import matplotlib.pyplot as plt\n",
    "%matplotlib inline"
   ]
  },
  {
   "cell_type": "code",
   "execution_count": 2,
   "id": "64d5b931-cc8a-4e2a-893e-0a2f547b7477",
   "metadata": {},
   "outputs": [
    {
     "name": "stderr",
     "output_type": "stream",
     "text": [
      "22/03/20 00:16:55 WARN org.apache.spark.sql.catalyst.util.package: Truncated the string representation of a plan since it was too large. This behavior can be adjusted by setting 'spark.sql.debug.maxToStringFields'.\n"
     ]
    }
   ],
   "source": [
    "covid_df = spark.read.parquet(\"gs://msca-bdp-test-1203/covid_tweets4_df.parquet/\")"
   ]
  },
  {
   "cell_type": "code",
   "execution_count": 3,
   "id": "8d0289ec-b345-4a93-bd6e-0ff833641ad2",
   "metadata": {},
   "outputs": [
    {
     "name": "stderr",
     "output_type": "stream",
     "text": [
      "                                                                                \r"
     ]
    },
    {
     "data": {
      "text/plain": [
       "17354708"
      ]
     },
     "execution_count": 3,
     "metadata": {},
     "output_type": "execute_result"
    }
   ],
   "source": [
    "covid_df.count()"
   ]
  },
  {
   "cell_type": "code",
   "execution_count": 14,
   "id": "3da528fd-feb0-4af2-99b0-da41a74e70b6",
   "metadata": {},
   "outputs": [],
   "source": [
    "time_df = covid_df.groupby('created_at_year','created_at_mon','created_at_day','retweeted') \\\n",
    "                    .agg(count(covid_df.id).alias('t_count')) \\\n",
    "                    .sort('created_at_year','created_at_mon','created_at_day','retweeted')"
   ]
  },
  {
   "cell_type": "code",
   "execution_count": null,
   "id": "03fa8dc4-9081-45cc-9be3-3b094b34162a",
   "metadata": {},
   "outputs": [
    {
     "name": "stderr",
     "output_type": "stream",
     "text": [
      "[Stage 17:============================>                            (8 + 8) / 16]\r"
     ]
    },
    {
     "name": "stdout",
     "output_type": "stream",
     "text": [
      "+---------------+--------------+--------------+---------+-------+\n",
      "|created_at_year|created_at_mon|created_at_day|retweeted|t_count|\n",
      "+---------------+--------------+--------------+---------+-------+\n",
      "|           2021|            10|            15|    false| 113629|\n",
      "|           2021|            10|            15|     true| 262604|\n",
      "|           2021|            10|            16|    false|  95171|\n",
      "|           2021|            10|            16|     true| 242367|\n",
      "|           2021|            10|            17|    false|  92013|\n",
      "|           2021|            10|            17|     true| 239624|\n",
      "|           2021|            10|            18|    false| 155042|\n",
      "|           2021|            10|            18|     true| 410134|\n",
      "|           2021|            10|            19|    false| 138957|\n",
      "|           2021|            10|            19|     true| 354075|\n",
      "|           2021|            10|            20|    false| 146193|\n",
      "|           2021|            10|            20|     true| 361699|\n",
      "|           2021|            10|            21|    false| 138063|\n",
      "|           2021|            10|            21|     true| 332288|\n",
      "|           2021|            10|            22|    false| 121724|\n",
      "|           2021|            10|            22|     true| 292738|\n",
      "|           2021|            10|            23|    false|  90021|\n",
      "|           2021|            10|            23|     true| 225712|\n",
      "|           2021|            10|            24|    false|  86566|\n",
      "|           2021|            10|            24|     true| 230466|\n",
      "+---------------+--------------+--------------+---------+-------+\n",
      "only showing top 20 rows\n",
      "\n"
     ]
    },
    {
     "name": "stderr",
     "output_type": "stream",
     "text": [
      "                                                                                \r"
     ]
    }
   ],
   "source": [
    "time_df.show()"
   ]
  },
  {
   "cell_type": "code",
   "execution_count": 17,
   "id": "c65181e1-1bfc-4630-bb49-26b3c5ab6b31",
   "metadata": {},
   "outputs": [
    {
     "name": "stderr",
     "output_type": "stream",
     "text": [
      "                                                                                \r"
     ]
    }
   ],
   "source": [
    "time_df.toPandas().to_csv('gs://msca-bdp-test-1203/time_df.csv')"
   ]
  },
  {
   "cell_type": "code",
   "execution_count": 44,
   "id": "afb093a1-3936-402d-9a94-e0b215485ea2",
   "metadata": {},
   "outputs": [
    {
     "data": {
      "text/html": [
       "<div>\n",
       "<style scoped>\n",
       "    .dataframe tbody tr th:only-of-type {\n",
       "        vertical-align: middle;\n",
       "    }\n",
       "\n",
       "    .dataframe tbody tr th {\n",
       "        vertical-align: top;\n",
       "    }\n",
       "\n",
       "    .dataframe thead th {\n",
       "        text-align: right;\n",
       "    }\n",
       "</style>\n",
       "<table border=\"1\" class=\"dataframe\">\n",
       "  <thead>\n",
       "    <tr style=\"text-align: right;\">\n",
       "      <th></th>\n",
       "      <th>Unnamed: 0</th>\n",
       "      <th>created_at_year</th>\n",
       "      <th>created_at_mon</th>\n",
       "      <th>created_at_day</th>\n",
       "      <th>retweeted</th>\n",
       "      <th>t_count</th>\n",
       "    </tr>\n",
       "  </thead>\n",
       "  <tbody>\n",
       "    <tr>\n",
       "      <th>0</th>\n",
       "      <td>0</td>\n",
       "      <td>2021</td>\n",
       "      <td>10</td>\n",
       "      <td>15</td>\n",
       "      <td>False</td>\n",
       "      <td>29619</td>\n",
       "    </tr>\n",
       "    <tr>\n",
       "      <th>1</th>\n",
       "      <td>1</td>\n",
       "      <td>2021</td>\n",
       "      <td>10</td>\n",
       "      <td>15</td>\n",
       "      <td>True</td>\n",
       "      <td>51807</td>\n",
       "    </tr>\n",
       "    <tr>\n",
       "      <th>2</th>\n",
       "      <td>2</td>\n",
       "      <td>2021</td>\n",
       "      <td>10</td>\n",
       "      <td>16</td>\n",
       "      <td>False</td>\n",
       "      <td>27207</td>\n",
       "    </tr>\n",
       "    <tr>\n",
       "      <th>3</th>\n",
       "      <td>3</td>\n",
       "      <td>2021</td>\n",
       "      <td>10</td>\n",
       "      <td>16</td>\n",
       "      <td>True</td>\n",
       "      <td>46579</td>\n",
       "    </tr>\n",
       "    <tr>\n",
       "      <th>4</th>\n",
       "      <td>4</td>\n",
       "      <td>2021</td>\n",
       "      <td>10</td>\n",
       "      <td>17</td>\n",
       "      <td>False</td>\n",
       "      <td>26587</td>\n",
       "    </tr>\n",
       "  </tbody>\n",
       "</table>\n",
       "</div>"
      ],
      "text/plain": [
       "   Unnamed: 0  created_at_year  created_at_mon  created_at_day  retweeted  \\\n",
       "0           0             2021              10              15      False   \n",
       "1           1             2021              10              15       True   \n",
       "2           2             2021              10              16      False   \n",
       "3           3             2021              10              16       True   \n",
       "4           4             2021              10              17      False   \n",
       "\n",
       "   t_count  \n",
       "0    29619  \n",
       "1    51807  \n",
       "2    27207  \n",
       "3    46579  \n",
       "4    26587  "
      ]
     },
     "execution_count": 44,
     "metadata": {},
     "output_type": "execute_result"
    }
   ],
   "source": [
    "full_time_pdf = pd.read_csv('gs://msca-bdp-test-1203/full_time_df.csv')\n",
    "full_time_pdf.head()"
   ]
  },
  {
   "cell_type": "code",
   "execution_count": 45,
   "id": "009a9957-da85-4f35-8c43-df5cb995b187",
   "metadata": {},
   "outputs": [],
   "source": [
    "full_time_pdf['dateInt']=full_time_pdf['created_at_year'].astype(str) + full_time_pdf['created_at_mon'].astype(str).str.zfill(2)+ full_time_pdf['created_at_day'].astype(str).str.zfill(2)\n",
    "full_time_pdf['Date'] = pd.to_datetime(full_time_pdf['dateInt'], format='%Y%m%d')"
   ]
  },
  {
   "cell_type": "code",
   "execution_count": 46,
   "id": "b5525390-c49c-4198-b668-f93903a4d001",
   "metadata": {},
   "outputs": [
    {
     "data": {
      "text/html": [
       "<div>\n",
       "<style scoped>\n",
       "    .dataframe tbody tr th:only-of-type {\n",
       "        vertical-align: middle;\n",
       "    }\n",
       "\n",
       "    .dataframe tbody tr th {\n",
       "        vertical-align: top;\n",
       "    }\n",
       "\n",
       "    .dataframe thead th {\n",
       "        text-align: right;\n",
       "    }\n",
       "</style>\n",
       "<table border=\"1\" class=\"dataframe\">\n",
       "  <thead>\n",
       "    <tr style=\"text-align: right;\">\n",
       "      <th></th>\n",
       "      <th>Unnamed: 0</th>\n",
       "      <th>created_at_year</th>\n",
       "      <th>created_at_mon</th>\n",
       "      <th>created_at_day</th>\n",
       "      <th>retweeted</th>\n",
       "      <th>t_count</th>\n",
       "      <th>dateInt</th>\n",
       "      <th>Date</th>\n",
       "    </tr>\n",
       "  </thead>\n",
       "  <tbody>\n",
       "    <tr>\n",
       "      <th>0</th>\n",
       "      <td>0</td>\n",
       "      <td>2021</td>\n",
       "      <td>10</td>\n",
       "      <td>15</td>\n",
       "      <td>False</td>\n",
       "      <td>29619</td>\n",
       "      <td>20211015</td>\n",
       "      <td>2021-10-15</td>\n",
       "    </tr>\n",
       "    <tr>\n",
       "      <th>1</th>\n",
       "      <td>1</td>\n",
       "      <td>2021</td>\n",
       "      <td>10</td>\n",
       "      <td>15</td>\n",
       "      <td>True</td>\n",
       "      <td>51807</td>\n",
       "      <td>20211015</td>\n",
       "      <td>2021-10-15</td>\n",
       "    </tr>\n",
       "    <tr>\n",
       "      <th>2</th>\n",
       "      <td>2</td>\n",
       "      <td>2021</td>\n",
       "      <td>10</td>\n",
       "      <td>16</td>\n",
       "      <td>False</td>\n",
       "      <td>27207</td>\n",
       "      <td>20211016</td>\n",
       "      <td>2021-10-16</td>\n",
       "    </tr>\n",
       "    <tr>\n",
       "      <th>3</th>\n",
       "      <td>3</td>\n",
       "      <td>2021</td>\n",
       "      <td>10</td>\n",
       "      <td>16</td>\n",
       "      <td>True</td>\n",
       "      <td>46579</td>\n",
       "      <td>20211016</td>\n",
       "      <td>2021-10-16</td>\n",
       "    </tr>\n",
       "    <tr>\n",
       "      <th>4</th>\n",
       "      <td>4</td>\n",
       "      <td>2021</td>\n",
       "      <td>10</td>\n",
       "      <td>17</td>\n",
       "      <td>False</td>\n",
       "      <td>26587</td>\n",
       "      <td>20211017</td>\n",
       "      <td>2021-10-17</td>\n",
       "    </tr>\n",
       "    <tr>\n",
       "      <th>...</th>\n",
       "      <td>...</td>\n",
       "      <td>...</td>\n",
       "      <td>...</td>\n",
       "      <td>...</td>\n",
       "      <td>...</td>\n",
       "      <td>...</td>\n",
       "      <td>...</td>\n",
       "      <td>...</td>\n",
       "    </tr>\n",
       "    <tr>\n",
       "      <th>201</th>\n",
       "      <td>201</td>\n",
       "      <td>2022</td>\n",
       "      <td>1</td>\n",
       "      <td>23</td>\n",
       "      <td>True</td>\n",
       "      <td>69137</td>\n",
       "      <td>20220123</td>\n",
       "      <td>2022-01-23</td>\n",
       "    </tr>\n",
       "    <tr>\n",
       "      <th>202</th>\n",
       "      <td>202</td>\n",
       "      <td>2022</td>\n",
       "      <td>1</td>\n",
       "      <td>24</td>\n",
       "      <td>False</td>\n",
       "      <td>52034</td>\n",
       "      <td>20220124</td>\n",
       "      <td>2022-01-24</td>\n",
       "    </tr>\n",
       "    <tr>\n",
       "      <th>203</th>\n",
       "      <td>203</td>\n",
       "      <td>2022</td>\n",
       "      <td>1</td>\n",
       "      <td>24</td>\n",
       "      <td>True</td>\n",
       "      <td>77800</td>\n",
       "      <td>20220124</td>\n",
       "      <td>2022-01-24</td>\n",
       "    </tr>\n",
       "    <tr>\n",
       "      <th>204</th>\n",
       "      <td>204</td>\n",
       "      <td>2022</td>\n",
       "      <td>1</td>\n",
       "      <td>25</td>\n",
       "      <td>False</td>\n",
       "      <td>35959</td>\n",
       "      <td>20220125</td>\n",
       "      <td>2022-01-25</td>\n",
       "    </tr>\n",
       "    <tr>\n",
       "      <th>205</th>\n",
       "      <td>205</td>\n",
       "      <td>2022</td>\n",
       "      <td>1</td>\n",
       "      <td>25</td>\n",
       "      <td>True</td>\n",
       "      <td>56744</td>\n",
       "      <td>20220125</td>\n",
       "      <td>2022-01-25</td>\n",
       "    </tr>\n",
       "  </tbody>\n",
       "</table>\n",
       "<p>206 rows × 8 columns</p>\n",
       "</div>"
      ],
      "text/plain": [
       "     Unnamed: 0  created_at_year  created_at_mon  created_at_day  retweeted  \\\n",
       "0             0             2021              10              15      False   \n",
       "1             1             2021              10              15       True   \n",
       "2             2             2021              10              16      False   \n",
       "3             3             2021              10              16       True   \n",
       "4             4             2021              10              17      False   \n",
       "..          ...              ...             ...             ...        ...   \n",
       "201         201             2022               1              23       True   \n",
       "202         202             2022               1              24      False   \n",
       "203         203             2022               1              24       True   \n",
       "204         204             2022               1              25      False   \n",
       "205         205             2022               1              25       True   \n",
       "\n",
       "     t_count   dateInt       Date  \n",
       "0      29619  20211015 2021-10-15  \n",
       "1      51807  20211015 2021-10-15  \n",
       "2      27207  20211016 2021-10-16  \n",
       "3      46579  20211016 2021-10-16  \n",
       "4      26587  20211017 2021-10-17  \n",
       "..       ...       ...        ...  \n",
       "201    69137  20220123 2022-01-23  \n",
       "202    52034  20220124 2022-01-24  \n",
       "203    77800  20220124 2022-01-24  \n",
       "204    35959  20220125 2022-01-25  \n",
       "205    56744  20220125 2022-01-25  \n",
       "\n",
       "[206 rows x 8 columns]"
      ]
     },
     "execution_count": 46,
     "metadata": {},
     "output_type": "execute_result"
    }
   ],
   "source": [
    "full_time_pdf"
   ]
  },
  {
   "cell_type": "code",
   "execution_count": 47,
   "id": "0751e696-36ea-4fd7-80f9-fb61d8cc746f",
   "metadata": {},
   "outputs": [],
   "source": [
    "full_time_pdf.drop(['Unnamed: 0','dateInt','created_at_day','created_at_mon','created_at_year'],axis='columns',inplace=True)\n",
    "# full_time_pdf.set_index(['Date'], inplace=True)"
   ]
  },
  {
   "cell_type": "code",
   "execution_count": 36,
   "id": "5e5e093e-37b0-488a-911d-3c5ce2c3df6b",
   "metadata": {},
   "outputs": [],
   "source": [
    "# full_time_pdf = full_time_pdf.pivot(columns='retweeted', values='t_count')"
   ]
  },
  {
   "cell_type": "code",
   "execution_count": 48,
   "id": "72f32c64-92c3-4c4c-b57e-11ded60877a7",
   "metadata": {},
   "outputs": [
    {
     "data": {
      "text/html": [
       "<div>\n",
       "<style scoped>\n",
       "    .dataframe tbody tr th:only-of-type {\n",
       "        vertical-align: middle;\n",
       "    }\n",
       "\n",
       "    .dataframe tbody tr th {\n",
       "        vertical-align: top;\n",
       "    }\n",
       "\n",
       "    .dataframe thead th {\n",
       "        text-align: right;\n",
       "    }\n",
       "</style>\n",
       "<table border=\"1\" class=\"dataframe\">\n",
       "  <thead>\n",
       "    <tr style=\"text-align: right;\">\n",
       "      <th></th>\n",
       "      <th>retweeted</th>\n",
       "      <th>t_count</th>\n",
       "      <th>Date</th>\n",
       "    </tr>\n",
       "  </thead>\n",
       "  <tbody>\n",
       "    <tr>\n",
       "      <th>0</th>\n",
       "      <td>False</td>\n",
       "      <td>29619</td>\n",
       "      <td>2021-10-15</td>\n",
       "    </tr>\n",
       "    <tr>\n",
       "      <th>1</th>\n",
       "      <td>True</td>\n",
       "      <td>51807</td>\n",
       "      <td>2021-10-15</td>\n",
       "    </tr>\n",
       "    <tr>\n",
       "      <th>2</th>\n",
       "      <td>False</td>\n",
       "      <td>27207</td>\n",
       "      <td>2021-10-16</td>\n",
       "    </tr>\n",
       "    <tr>\n",
       "      <th>3</th>\n",
       "      <td>True</td>\n",
       "      <td>46579</td>\n",
       "      <td>2021-10-16</td>\n",
       "    </tr>\n",
       "    <tr>\n",
       "      <th>4</th>\n",
       "      <td>False</td>\n",
       "      <td>26587</td>\n",
       "      <td>2021-10-17</td>\n",
       "    </tr>\n",
       "    <tr>\n",
       "      <th>...</th>\n",
       "      <td>...</td>\n",
       "      <td>...</td>\n",
       "      <td>...</td>\n",
       "    </tr>\n",
       "    <tr>\n",
       "      <th>201</th>\n",
       "      <td>True</td>\n",
       "      <td>69137</td>\n",
       "      <td>2022-01-23</td>\n",
       "    </tr>\n",
       "    <tr>\n",
       "      <th>202</th>\n",
       "      <td>False</td>\n",
       "      <td>52034</td>\n",
       "      <td>2022-01-24</td>\n",
       "    </tr>\n",
       "    <tr>\n",
       "      <th>203</th>\n",
       "      <td>True</td>\n",
       "      <td>77800</td>\n",
       "      <td>2022-01-24</td>\n",
       "    </tr>\n",
       "    <tr>\n",
       "      <th>204</th>\n",
       "      <td>False</td>\n",
       "      <td>35959</td>\n",
       "      <td>2022-01-25</td>\n",
       "    </tr>\n",
       "    <tr>\n",
       "      <th>205</th>\n",
       "      <td>True</td>\n",
       "      <td>56744</td>\n",
       "      <td>2022-01-25</td>\n",
       "    </tr>\n",
       "  </tbody>\n",
       "</table>\n",
       "<p>206 rows × 3 columns</p>\n",
       "</div>"
      ],
      "text/plain": [
       "     retweeted  t_count       Date\n",
       "0        False    29619 2021-10-15\n",
       "1         True    51807 2021-10-15\n",
       "2        False    27207 2021-10-16\n",
       "3         True    46579 2021-10-16\n",
       "4        False    26587 2021-10-17\n",
       "..         ...      ...        ...\n",
       "201       True    69137 2022-01-23\n",
       "202      False    52034 2022-01-24\n",
       "203       True    77800 2022-01-24\n",
       "204      False    35959 2022-01-25\n",
       "205       True    56744 2022-01-25\n",
       "\n",
       "[206 rows x 3 columns]"
      ]
     },
     "execution_count": 48,
     "metadata": {},
     "output_type": "execute_result"
    }
   ],
   "source": [
    "full_time_pdf"
   ]
  },
  {
   "cell_type": "code",
   "execution_count": 42,
   "id": "9df8b5f3-468a-49d2-b320-c0cb159a03fc",
   "metadata": {},
   "outputs": [
    {
     "data": {
      "text/plain": [
       "Index([False, True], dtype='object', name='retweeted')"
      ]
     },
     "execution_count": 42,
     "metadata": {},
     "output_type": "execute_result"
    }
   ],
   "source": [
    "full_time_pdf.columns"
   ]
  },
  {
   "cell_type": "code",
   "execution_count": 53,
   "id": "25f6cf11-37d5-48a7-952e-832693973c40",
   "metadata": {},
   "outputs": [
    {
     "data": {
      "text/plain": [
       "<AxesSubplot:title={'center':'Tweet and Retweet Timeline'}, xlabel='Date', ylabel='Number of Tweets /Retweets'>"
      ]
     },
     "execution_count": 53,
     "metadata": {},
     "output_type": "execute_result"
    },
    {
     "data": {
      "image/png": "[encoded data removed]",
      "text/plain": [
       "<Figure size 792x648 with 1 Axes>"
      ]
     },
     "metadata": {
      "needs_background": "light"
     },
     "output_type": "display_data"
    }
   ],
   "source": [
    "import seaborn as sns\n",
    "f, ax = plt.subplots(figsize=(11, 9))\n",
    "\n",
    "plt.title('Tweet and Retweet Timeline')\n",
    "plt.ylabel('Number of Tweets /Retweets')\n",
    "plt.grid(True)\n",
    "\n",
    "sns.lineplot(data=full_time_pdf, x='Date', y='t_count', hue='retweeted')"
   ]
  },
  {
   "cell_type": "code",
   "execution_count": null,
   "id": "22e616a8-fd5a-4069-8ffe-3fdae896737e",
   "metadata": {},
   "outputs": [],
   "source": []
  },
  {
   "cell_type": "code",
   "execution_count": null,
   "id": "43b2e8f1-ae07-485d-9ca1-c623835287cd",
   "metadata": {},
   "outputs": [],
   "source": []
  },
  {
   "cell_type": "code",
   "execution_count": 25,
   "id": "8adcb1c6-e0f2-48c0-9127-0abd1f4cc7e9",
   "metadata": {},
   "outputs": [],
   "source": [
    "full_time_pdf.sort_values(['retweeted','created_at_year','created_at_mon','created_at_day'],inplace=True)"
   ]
  },
  {
   "cell_type": "code",
   "execution_count": 21,
   "id": "f4a3501d-ce3d-429f-9a18-4fa71de1846b",
   "metadata": {},
   "outputs": [],
   "source": [
    "full_time_pdf.set_index(['created_at_year','created_at_mon','created_at_day'], inplace=True)"
   ]
  },
  {
   "cell_type": "code",
   "execution_count": 26,
   "id": "144ddb5a-00cb-4ca1-8cf8-bc3bd2481ffa",
   "metadata": {},
   "outputs": [],
   "source": [
    "full_time_pdf.drop('Unnamed: 0',axis='columns',inplace=True)"
   ]
  },
  {
   "cell_type": "code",
   "execution_count": 27,
   "id": "be296410-1372-497f-a85e-d7840f86e91c",
   "metadata": {},
   "outputs": [],
   "source": [
    "full_time_pdf = full_time_pdf.pivot(columns='retweeted', values='t_count')"
   ]
  },
  {
   "cell_type": "code",
   "execution_count": 28,
   "id": "3f245596-1f0c-40b3-b269-27779701aba9",
   "metadata": {},
   "outputs": [
    {
     "data": {
      "text/html": [
       "<div>\n",
       "<style scoped>\n",
       "    .dataframe tbody tr th:only-of-type {\n",
       "        vertical-align: middle;\n",
       "    }\n",
       "\n",
       "    .dataframe tbody tr th {\n",
       "        vertical-align: top;\n",
       "    }\n",
       "\n",
       "    .dataframe thead th {\n",
       "        text-align: right;\n",
       "    }\n",
       "</style>\n",
       "<table border=\"1\" class=\"dataframe\">\n",
       "  <thead>\n",
       "    <tr style=\"text-align: right;\">\n",
       "      <th>retweeted</th>\n",
       "      <th>False</th>\n",
       "      <th>True</th>\n",
       "    </tr>\n",
       "  </thead>\n",
       "  <tbody>\n",
       "    <tr>\n",
       "      <th>0</th>\n",
       "      <td>29619.0</td>\n",
       "      <td>NaN</td>\n",
       "    </tr>\n",
       "    <tr>\n",
       "      <th>1</th>\n",
       "      <td>NaN</td>\n",
       "      <td>51807.0</td>\n",
       "    </tr>\n",
       "    <tr>\n",
       "      <th>2</th>\n",
       "      <td>27207.0</td>\n",
       "      <td>NaN</td>\n",
       "    </tr>\n",
       "    <tr>\n",
       "      <th>3</th>\n",
       "      <td>NaN</td>\n",
       "      <td>46579.0</td>\n",
       "    </tr>\n",
       "    <tr>\n",
       "      <th>4</th>\n",
       "      <td>26587.0</td>\n",
       "      <td>NaN</td>\n",
       "    </tr>\n",
       "    <tr>\n",
       "      <th>...</th>\n",
       "      <td>...</td>\n",
       "      <td>...</td>\n",
       "    </tr>\n",
       "    <tr>\n",
       "      <th>201</th>\n",
       "      <td>NaN</td>\n",
       "      <td>69137.0</td>\n",
       "    </tr>\n",
       "    <tr>\n",
       "      <th>202</th>\n",
       "      <td>52034.0</td>\n",
       "      <td>NaN</td>\n",
       "    </tr>\n",
       "    <tr>\n",
       "      <th>203</th>\n",
       "      <td>NaN</td>\n",
       "      <td>77800.0</td>\n",
       "    </tr>\n",
       "    <tr>\n",
       "      <th>204</th>\n",
       "      <td>35959.0</td>\n",
       "      <td>NaN</td>\n",
       "    </tr>\n",
       "    <tr>\n",
       "      <th>205</th>\n",
       "      <td>NaN</td>\n",
       "      <td>56744.0</td>\n",
       "    </tr>\n",
       "  </tbody>\n",
       "</table>\n",
       "<p>206 rows × 2 columns</p>\n",
       "</div>"
      ],
      "text/plain": [
       "retweeted    False    True \n",
       "0          29619.0      NaN\n",
       "1              NaN  51807.0\n",
       "2          27207.0      NaN\n",
       "3              NaN  46579.0\n",
       "4          26587.0      NaN\n",
       "..             ...      ...\n",
       "201            NaN  69137.0\n",
       "202        52034.0      NaN\n",
       "203            NaN  77800.0\n",
       "204        35959.0      NaN\n",
       "205            NaN  56744.0\n",
       "\n",
       "[206 rows x 2 columns]"
      ]
     },
     "execution_count": 28,
     "metadata": {},
     "output_type": "execute_result"
    }
   ],
   "source": [
    "full_time_pdf"
   ]
  },
  {
   "cell_type": "code",
   "execution_count": null,
   "id": "8e649341-2f98-4542-b55b-99cbc48702fa",
   "metadata": {},
   "outputs": [],
   "source": []
  },
  {
   "cell_type": "code",
   "execution_count": 16,
   "id": "d085768d-698e-4631-b9f6-4e370aea9171",
   "metadata": {},
   "outputs": [],
   "source": [
    "full_time_pdf = pd.read_csv('gs://msca-bdp-test-1203/full_time_df.csv')"
   ]
  },
  {
   "cell_type": "code",
   "execution_count": 17,
   "id": "7b4316b6-e572-45fb-8730-a09b094abaa9",
   "metadata": {},
   "outputs": [],
   "source": [
    "full_time_pdf.drop('Unnamed: 0',axis='columns',inplace=True)"
   ]
  },
  {
   "cell_type": "code",
   "execution_count": null,
   "id": "716d2e46-e8d5-48c0-b656-2ca9774e8cd9",
   "metadata": {},
   "outputs": [],
   "source": [
    "full_time_pdf = full_time_pdf.pivot(index=['x'], columns='retweeted', values='t_count')"
   ]
  },
  {
   "cell_type": "code",
   "execution_count": 18,
   "id": "5af8a9a4-8dec-4d68-8bf5-1f79cc5f0617",
   "metadata": {},
   "outputs": [
    {
     "ename": "ValueError",
     "evalue": "Invalid color False",
     "output_type": "error",
     "traceback": [
      "\u001b[0;31m---------------------------------------------------------------------------\u001b[0m",
      "\u001b[0;31mValueError\u001b[0m                                Traceback (most recent call last)",
      "Input \u001b[0;32mIn [18]\u001b[0m, in \u001b[0;36m<module>\u001b[0;34m\u001b[0m\n\u001b[0;32m----> 1\u001b[0m \u001b[43mfull_time_pdf\u001b[49m\u001b[38;5;241;43m.\u001b[39;49m\u001b[43mplot\u001b[49m\u001b[43m(\u001b[49m\u001b[43mcolor\u001b[49m\u001b[38;5;241;43m=\u001b[39;49m\u001b[43mfull_time_pdf\u001b[49m\u001b[38;5;241;43m.\u001b[39;49m\u001b[43mretweeted\u001b[49m\u001b[43m,\u001b[49m\u001b[43m \u001b[49m\u001b[43mfigsize\u001b[49m\u001b[38;5;241;43m=\u001b[39;49m\u001b[43m(\u001b[49m\u001b[38;5;241;43m5\u001b[39;49m\u001b[43m,\u001b[49m\u001b[43m \u001b[49m\u001b[38;5;241;43m3\u001b[39;49m\u001b[43m)\u001b[49m\u001b[43m)\u001b[49m\n",
      "File \u001b[0;32m/opt/conda/miniconda3/lib/python3.8/site-packages/pandas/plotting/_core.py:955\u001b[0m, in \u001b[0;36mPlotAccessor.__call__\u001b[0;34m(self, *args, **kwargs)\u001b[0m\n\u001b[1;32m    952\u001b[0m             label_name \u001b[38;5;241m=\u001b[39m label_kw \u001b[38;5;129;01mor\u001b[39;00m data\u001b[38;5;241m.\u001b[39mcolumns\n\u001b[1;32m    953\u001b[0m             data\u001b[38;5;241m.\u001b[39mcolumns \u001b[38;5;241m=\u001b[39m label_name\n\u001b[0;32m--> 955\u001b[0m \u001b[38;5;28;01mreturn\u001b[39;00m \u001b[43mplot_backend\u001b[49m\u001b[38;5;241;43m.\u001b[39;49m\u001b[43mplot\u001b[49m\u001b[43m(\u001b[49m\u001b[43mdata\u001b[49m\u001b[43m,\u001b[49m\u001b[43m \u001b[49m\u001b[43mkind\u001b[49m\u001b[38;5;241;43m=\u001b[39;49m\u001b[43mkind\u001b[49m\u001b[43m,\u001b[49m\u001b[43m \u001b[49m\u001b[38;5;241;43m*\u001b[39;49m\u001b[38;5;241;43m*\u001b[39;49m\u001b[43mkwargs\u001b[49m\u001b[43m)\u001b[49m\n",
      "File \u001b[0;32m/opt/conda/miniconda3/lib/python3.8/site-packages/pandas/plotting/_matplotlib/__init__.py:61\u001b[0m, in \u001b[0;36mplot\u001b[0;34m(data, kind, **kwargs)\u001b[0m\n\u001b[1;32m     59\u001b[0m         kwargs[\u001b[38;5;124m\"\u001b[39m\u001b[38;5;124max\u001b[39m\u001b[38;5;124m\"\u001b[39m] \u001b[38;5;241m=\u001b[39m \u001b[38;5;28mgetattr\u001b[39m(ax, \u001b[38;5;124m\"\u001b[39m\u001b[38;5;124mleft_ax\u001b[39m\u001b[38;5;124m\"\u001b[39m, ax)\n\u001b[1;32m     60\u001b[0m plot_obj \u001b[38;5;241m=\u001b[39m PLOT_CLASSES[kind](data, \u001b[38;5;241m*\u001b[39m\u001b[38;5;241m*\u001b[39mkwargs)\n\u001b[0;32m---> 61\u001b[0m \u001b[43mplot_obj\u001b[49m\u001b[38;5;241;43m.\u001b[39;49m\u001b[43mgenerate\u001b[49m\u001b[43m(\u001b[49m\u001b[43m)\u001b[49m\n\u001b[1;32m     62\u001b[0m plot_obj\u001b[38;5;241m.\u001b[39mdraw()\n\u001b[1;32m     63\u001b[0m \u001b[38;5;28;01mreturn\u001b[39;00m plot_obj\u001b[38;5;241m.\u001b[39mresult\n",
      "File \u001b[0;32m/opt/conda/miniconda3/lib/python3.8/site-packages/pandas/plotting/_matplotlib/core.py:280\u001b[0m, in \u001b[0;36mMPLPlot.generate\u001b[0;34m(self)\u001b[0m\n\u001b[1;32m    278\u001b[0m \u001b[38;5;28mself\u001b[39m\u001b[38;5;241m.\u001b[39m_compute_plot_data()\n\u001b[1;32m    279\u001b[0m \u001b[38;5;28mself\u001b[39m\u001b[38;5;241m.\u001b[39m_setup_subplots()\n\u001b[0;32m--> 280\u001b[0m \u001b[38;5;28;43mself\u001b[39;49m\u001b[38;5;241;43m.\u001b[39;49m\u001b[43m_make_plot\u001b[49m\u001b[43m(\u001b[49m\u001b[43m)\u001b[49m\n\u001b[1;32m    281\u001b[0m \u001b[38;5;28mself\u001b[39m\u001b[38;5;241m.\u001b[39m_add_table()\n\u001b[1;32m    282\u001b[0m \u001b[38;5;28mself\u001b[39m\u001b[38;5;241m.\u001b[39m_make_legend()\n",
      "File \u001b[0;32m/opt/conda/miniconda3/lib/python3.8/site-packages/pandas/plotting/_matplotlib/core.py:1137\u001b[0m, in \u001b[0;36mLinePlot._make_plot\u001b[0;34m(self)\u001b[0m\n\u001b[1;32m   1134\u001b[0m stacking_id \u001b[38;5;241m=\u001b[39m \u001b[38;5;28mself\u001b[39m\u001b[38;5;241m.\u001b[39m_get_stacking_id()\n\u001b[1;32m   1135\u001b[0m is_errorbar \u001b[38;5;241m=\u001b[39m com\u001b[38;5;241m.\u001b[39many_not_none(\u001b[38;5;241m*\u001b[39m\u001b[38;5;28mself\u001b[39m\u001b[38;5;241m.\u001b[39merrors\u001b[38;5;241m.\u001b[39mvalues())\n\u001b[0;32m-> 1137\u001b[0m colors \u001b[38;5;241m=\u001b[39m \u001b[38;5;28;43mself\u001b[39;49m\u001b[38;5;241;43m.\u001b[39;49m\u001b[43m_get_colors\u001b[49m\u001b[43m(\u001b[49m\u001b[43m)\u001b[49m\n\u001b[1;32m   1138\u001b[0m \u001b[38;5;28;01mfor\u001b[39;00m i, (label, y) \u001b[38;5;129;01min\u001b[39;00m \u001b[38;5;28menumerate\u001b[39m(it):\n\u001b[1;32m   1139\u001b[0m     ax \u001b[38;5;241m=\u001b[39m \u001b[38;5;28mself\u001b[39m\u001b[38;5;241m.\u001b[39m_get_ax(i)\n",
      "File \u001b[0;32m/opt/conda/miniconda3/lib/python3.8/site-packages/pandas/plotting/_matplotlib/core.py:784\u001b[0m, in \u001b[0;36mMPLPlot._get_colors\u001b[0;34m(self, num_colors, color_kwds)\u001b[0m\n\u001b[1;32m    781\u001b[0m \u001b[38;5;28;01mif\u001b[39;00m num_colors \u001b[38;5;129;01mis\u001b[39;00m \u001b[38;5;28;01mNone\u001b[39;00m:\n\u001b[1;32m    782\u001b[0m     num_colors \u001b[38;5;241m=\u001b[39m \u001b[38;5;28mself\u001b[39m\u001b[38;5;241m.\u001b[39mnseries\n\u001b[0;32m--> 784\u001b[0m \u001b[38;5;28;01mreturn\u001b[39;00m \u001b[43mget_standard_colors\u001b[49m\u001b[43m(\u001b[49m\n\u001b[1;32m    785\u001b[0m \u001b[43m    \u001b[49m\u001b[43mnum_colors\u001b[49m\u001b[38;5;241;43m=\u001b[39;49m\u001b[43mnum_colors\u001b[49m\u001b[43m,\u001b[49m\n\u001b[1;32m    786\u001b[0m \u001b[43m    \u001b[49m\u001b[43mcolormap\u001b[49m\u001b[38;5;241;43m=\u001b[39;49m\u001b[38;5;28;43mself\u001b[39;49m\u001b[38;5;241;43m.\u001b[39;49m\u001b[43mcolormap\u001b[49m\u001b[43m,\u001b[49m\n\u001b[1;32m    787\u001b[0m \u001b[43m    \u001b[49m\u001b[43mcolor\u001b[49m\u001b[38;5;241;43m=\u001b[39;49m\u001b[38;5;28;43mself\u001b[39;49m\u001b[38;5;241;43m.\u001b[39;49m\u001b[43mkwds\u001b[49m\u001b[38;5;241;43m.\u001b[39;49m\u001b[43mget\u001b[49m\u001b[43m(\u001b[49m\u001b[43mcolor_kwds\u001b[49m\u001b[43m)\u001b[49m\u001b[43m,\u001b[49m\n\u001b[1;32m    788\u001b[0m \u001b[43m\u001b[49m\u001b[43m)\u001b[49m\n",
      "File \u001b[0;32m/opt/conda/miniconda3/lib/python3.8/site-packages/pandas/plotting/_matplotlib/style.py:71\u001b[0m, in \u001b[0;36mget_standard_colors\u001b[0;34m(num_colors, colormap, color_type, color)\u001b[0m\n\u001b[1;32m     68\u001b[0m \u001b[38;5;28;01mif\u001b[39;00m \u001b[38;5;28misinstance\u001b[39m(color, \u001b[38;5;28mdict\u001b[39m):\n\u001b[1;32m     69\u001b[0m     \u001b[38;5;28;01mreturn\u001b[39;00m color\n\u001b[0;32m---> 71\u001b[0m colors \u001b[38;5;241m=\u001b[39m \u001b[43m_derive_colors\u001b[49m\u001b[43m(\u001b[49m\n\u001b[1;32m     72\u001b[0m \u001b[43m    \u001b[49m\u001b[43mcolor\u001b[49m\u001b[38;5;241;43m=\u001b[39;49m\u001b[43mcolor\u001b[49m\u001b[43m,\u001b[49m\n\u001b[1;32m     73\u001b[0m \u001b[43m    \u001b[49m\u001b[43mcolormap\u001b[49m\u001b[38;5;241;43m=\u001b[39;49m\u001b[43mcolormap\u001b[49m\u001b[43m,\u001b[49m\n\u001b[1;32m     74\u001b[0m \u001b[43m    \u001b[49m\u001b[43mcolor_type\u001b[49m\u001b[38;5;241;43m=\u001b[39;49m\u001b[43mcolor_type\u001b[49m\u001b[43m,\u001b[49m\n\u001b[1;32m     75\u001b[0m \u001b[43m    \u001b[49m\u001b[43mnum_colors\u001b[49m\u001b[38;5;241;43m=\u001b[39;49m\u001b[43mnum_colors\u001b[49m\u001b[43m,\u001b[49m\n\u001b[1;32m     76\u001b[0m \u001b[43m\u001b[49m\u001b[43m)\u001b[49m\n\u001b[1;32m     78\u001b[0m \u001b[38;5;28;01mreturn\u001b[39;00m \u001b[38;5;28mlist\u001b[39m(_cycle_colors(colors, num_colors\u001b[38;5;241m=\u001b[39mnum_colors))\n",
      "File \u001b[0;32m/opt/conda/miniconda3/lib/python3.8/site-packages/pandas/plotting/_matplotlib/style.py:127\u001b[0m, in \u001b[0;36m_derive_colors\u001b[0;34m(color, colormap, color_type, num_colors)\u001b[0m\n\u001b[1;32m    123\u001b[0m     \u001b[38;5;28;01mif\u001b[39;00m colormap \u001b[38;5;129;01mis\u001b[39;00m \u001b[38;5;129;01mnot\u001b[39;00m \u001b[38;5;28;01mNone\u001b[39;00m:\n\u001b[1;32m    124\u001b[0m         warnings\u001b[38;5;241m.\u001b[39mwarn(\n\u001b[1;32m    125\u001b[0m             \u001b[38;5;124m\"\u001b[39m\u001b[38;5;124m'\u001b[39m\u001b[38;5;124mcolor\u001b[39m\u001b[38;5;124m'\u001b[39m\u001b[38;5;124m and \u001b[39m\u001b[38;5;124m'\u001b[39m\u001b[38;5;124mcolormap\u001b[39m\u001b[38;5;124m'\u001b[39m\u001b[38;5;124m cannot be used simultaneously. Using \u001b[39m\u001b[38;5;124m'\u001b[39m\u001b[38;5;124mcolor\u001b[39m\u001b[38;5;124m'\u001b[39m\u001b[38;5;124m\"\u001b[39m\n\u001b[1;32m    126\u001b[0m         )\n\u001b[0;32m--> 127\u001b[0m     \u001b[38;5;28;01mreturn\u001b[39;00m \u001b[43m_get_colors_from_color\u001b[49m\u001b[43m(\u001b[49m\u001b[43mcolor\u001b[49m\u001b[43m)\u001b[49m\n\u001b[1;32m    128\u001b[0m \u001b[38;5;28;01melse\u001b[39;00m:\n\u001b[1;32m    129\u001b[0m     \u001b[38;5;28;01mreturn\u001b[39;00m _get_colors_from_color_type(color_type, num_colors\u001b[38;5;241m=\u001b[39mnum_colors)\n",
      "File \u001b[0;32m/opt/conda/miniconda3/lib/python3.8/site-packages/pandas/plotting/_matplotlib/style.py:173\u001b[0m, in \u001b[0;36m_get_colors_from_color\u001b[0;34m(color)\u001b[0m\n\u001b[1;32m    170\u001b[0m     \u001b[38;5;28;01mreturn\u001b[39;00m [color]\n\u001b[1;32m    172\u001b[0m color \u001b[38;5;241m=\u001b[39m cast(Collection[Color], color)\n\u001b[0;32m--> 173\u001b[0m \u001b[38;5;28;01mreturn\u001b[39;00m \u001b[38;5;28;43mlist\u001b[39;49m\u001b[43m(\u001b[49m\u001b[43m_gen_list_of_colors_from_iterable\u001b[49m\u001b[43m(\u001b[49m\u001b[43mcolor\u001b[49m\u001b[43m)\u001b[49m\u001b[43m)\u001b[49m\n",
      "File \u001b[0;32m/opt/conda/miniconda3/lib/python3.8/site-packages/pandas/plotting/_matplotlib/style.py:206\u001b[0m, in \u001b[0;36m_gen_list_of_colors_from_iterable\u001b[0;34m(color)\u001b[0m\n\u001b[1;32m    204\u001b[0m     \u001b[38;5;28;01myield\u001b[39;00m x\n\u001b[1;32m    205\u001b[0m \u001b[38;5;28;01melse\u001b[39;00m:\n\u001b[0;32m--> 206\u001b[0m     \u001b[38;5;28;01mraise\u001b[39;00m \u001b[38;5;167;01mValueError\u001b[39;00m(\u001b[38;5;124mf\u001b[39m\u001b[38;5;124m\"\u001b[39m\u001b[38;5;124mInvalid color \u001b[39m\u001b[38;5;132;01m{\u001b[39;00mx\u001b[38;5;132;01m}\u001b[39;00m\u001b[38;5;124m\"\u001b[39m)\n",
      "\u001b[0;31mValueError\u001b[0m: Invalid color False"
     ]
    },
    {
     "data": {
      "image/png": "[encoded data removed]",
      "text/plain": [
       "<Figure size 360x216 with 1 Axes>"
      ]
     },
     "metadata": {
      "needs_background": "light"
     },
     "output_type": "display_data"
    }
   ],
   "source": [
    "full_time_pdf.plot(color=full_time_pdf.retweeted, figsize=(5, 3))"
   ]
  },
  {
   "cell_type": "code",
   "execution_count": null,
   "id": "af5a3d9e-b86f-42cb-912b-7bbad317b0da",
   "metadata": {},
   "outputs": [],
   "source": []
  }
 ],
 "metadata": {
  "kernelspec": {
   "display_name": "Python 3",
   "language": "python",
   "name": "python3"
  },
  "language_info": {
   "codemirror_mode": {
    "name": "ipython",
    "version": 3
   },
   "file_extension": ".py",
   "mimetype": "text/x-python",
   "name": "python",
   "nbconvert_exporter": "python",
   "pygments_lexer": "ipython3",
   "version": "3.8.12"
  }
 },
 "nbformat": 4,
 "nbformat_minor": 5
}